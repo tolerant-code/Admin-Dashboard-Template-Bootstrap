{
  "nbformat": 4,
  "nbformat_minor": 0,
  "metadata": {
    "colab": {
      "provenance": [],
      "include_colab_link": true
    },
    "kernelspec": {
      "name": "python3",
      "display_name": "Python 3"
    },
    "language_info": {
      "name": "python"
    }
  },
  "cells": [
    {
      "cell_type": "markdown",
      "metadata": {
        "id": "view-in-github",
        "colab_type": "text"
      },
      "source": [
        "<a href=\"https://colab.research.google.com/github/tolerant-code/Admin-Dashboard-Template-Bootstrap/blob/master/Copy_of_HT02_Support_Vector_Machine_(SVM)_Hyperparameter_Tuning_In_Python.ipynb\" target=\"_parent\"><img src=\"https://colab.research.google.com/assets/colab-badge.svg\" alt=\"Open In Colab\"/></a>"
      ]
    },
    {
      "cell_type": "markdown",
      "source": [
        "# Resources"
      ],
      "metadata": {
        "id": "-8GhUVx9FeH_"
      }
    },
    {
      "cell_type": "markdown",
      "source": [
        "- [Blog post](https://medium.com/grabngoinfo/support-vector-machine-svm-hyperparameter-tuning-in-python-a65586289bcb) for this notebook\n",
        "- Video tutorial on [YouTube](https://www.youtube.com/watch?v=203zKEecHgg&list=PLVppujud2yJryD5u6oPjIf2LTci3dlCJG&index=1)\n",
        "- More video tutorials on [hyperparameter tuning and regularization](https://www.youtube.com/playlist?list=PLVppujud2yJryD5u6oPjIf2LTci3dlCJG)\n",
        "- More blog post on [hyperparameter tuning and regularization](https://medium.com/@AmyGrabNGoInfo/list/hyperparameter-tuning-2b59aca544c8)\n",
        "\n",
        "\n",
        "For more information about data science and machine learning, please check out my [YouTube channel](https://www.youtube.com/channel/UCmbA7XB6Wb7bLwJw9ARPcYg), [Medium Page](https://medium.com/@AmyGrabNGoInfo) and [GrabNGoInfo.com](https://grabngoinfo.com/tutorials/)."
      ],
      "metadata": {
        "id": "2OBrt-4qFgUV"
      }
    },
    {
      "cell_type": "markdown",
      "source": [
        "# Intro"
      ],
      "metadata": {
        "id": "iQPQtMK8Fb1d"
      }
    },
    {
      "cell_type": "markdown",
      "source": [
        "Support Vector Machine (SVM) is a supervised machine learning model for classifications and regressions. Since SVM is commonly used for classification, we will use the classification model as an example in this tutorial. We will cover:\n",
        "\n",
        "* What's the intuition for the Support Vector Machine (SVM) algorithm?\n",
        "* What are the most critical hyperparameters for Support Vector Machine (SVM)?\n",
        "* How to tune hyperparameters for Support Vector Machine (SVM) using grid search, random search, and Bayesian optimization?\n",
        "\n",
        "Let's get started!"
      ],
      "metadata": {
        "id": "sGs6wSeJfPfP"
      }
    },
    {
      "cell_type": "markdown",
      "source": [
        "# Step 1: Support Vector Machine (SVM) algorithm"
      ],
      "metadata": {
        "id": "8VJsAA7rjfao"
      }
    },
    {
      "cell_type": "markdown",
      "source": [
        "In step 1, we will discuss the intuition behind the Support Vector Machine (SVM) algorithm. At a high level, the algorithm follows three steps:\n",
        "1. Create hyperplanes that separate the classes.\n",
        "2. Compare the margin of the hyperplanes and pick the hyperplane with the largest margin. \n",
        " * **Margin** is the shortest distance between the hyperplane and the data points. \n",
        " * **Maximal Margin Classifier** picks a hyperplane that maximizes the margin. One drawback of the  Maximal Margin Classifier is that it is sensitive to the outliers in the training dataset.\n",
        " * **Support Vector Machine (SVM)** solves the sensitivity problem by allowing misclassifications. The margin is called a **soft margin** when misclassifications are permitted. Therefore, a **Support Vector Classifier** is also called a **Soft Margin Classifier**. The data points on edge and within the soft margin are called **support vectors**.\n",
        " * The number of misclassifications allowed in the soft margin is determined by comparing the cross-validation results. The one with the best cross-validation result will be selected. \n",
        "3. Make predictions for the new data points based on which side of the hyperplane the new data falls in."
      ],
      "metadata": {
        "id": "YbUu2EeEjplH"
      }
    },
    {
      "cell_type": "markdown",
      "source": [
        "# Step 2: Support Vector Machine (SVM) Hyperparameters"
      ],
      "metadata": {
        "id": "HHkm3LA9A6D9"
      }
    },
    {
      "cell_type": "markdown",
      "source": [
        "In step 2, we will discuss the hyperparameters for Support Vector Machine (SVM). \n",
        "\n",
        "In python's `sklearn` implementation of the Support Vector Classification model, there is a list of different hyperparameters. You can check out the complete list in the sklearn documentation [here](https://scikit-learn.org/stable/modules/generated/sklearn.svm.SVC.html#sklearn.svm.SVC). The most critical hyperparameters for SVM are `kernel`, `C`, and `gamma`.\n",
        "\n",
        "* `kernel` function transforms the training dataset into higher dimensions to make it linearly separatable. The default kernel function for the python implementation of the support vector classifier is the Radial Basis Function, which is usually referred to as `rbf`. The kernel function can take other values such as `linear`, `poly`, `rbf`, `sigmoid`, `precomputed`, or callable.\n",
        "\n",
        "* `C` is the l2 regularization parameter. The value of `C` is inversely proportional to the strength of the regularization. To learn more about regularization, please check out my previous tutorial on [LASSO (L1) Vs Ridge (L2) Vs Elastic Net Regularization For Classification Model](https://grabngoinfo.com/lasso-l1-vs-ridge-l2-vs-elastic-net-regularization-for-classification-model/)\n",
        "  * When `C` is small, the penalty for misclassification is small, and the strength of the regularization is large. So a decision boundary with a large margin will be selected.\n",
        "  * When `C` is large, the penalty for misclassification is large, and the strength of the regularization is small. A decision boundary with a small margin will be selected to reduce misclassifications.\n",
        "\n",
        "* `gamma` is the kernel coefficient for `rbf`, `poly`, and `sigmoid`. It can be seen as the inverse of the support vector influence radius. The gamma parameter highly impacts the model performance. Gamma can take the value of `scale`, `auto`, or a float value. The default value for the python `sklearn` implementation is `scale` since version 0.22.\n",
        " * When `gamma` is small, the support vector influence radius is high. If the `gamma` value is too small, the radius of the support vectors covers the whole training dataset, and the pattern of the data will not be captured.\n",
        " * When `gamma` is large, the support vector influence radius is low. If the gamma value is too large, the support vector radius is too small to utilize `C` to prevent overfitting."
      ],
      "metadata": {
        "id": "jNhMfw8BNRHg"
      }
    },
    {
      "cell_type": "markdown",
      "source": [
        "# Step 3: Import Libraries"
      ],
      "metadata": {
        "id": "ciSe1Qw56XJ0"
      }
    },
    {
      "cell_type": "markdown",
      "source": [
        "In the third step, let's import the Python libraries needed for this tutorial.\n",
        "\n",
        "We will use the breast cancer dataset for this tutorial, so `datasets` from `sklearn` needs to be imported. `pandas` and `numpy` are imported for data processing. `StandardScaler` is for data standardization.\n",
        "\n",
        "For model training, we imported `train_test_split` for creating training and testing datasets and `SVC` for the support vector classification model.\n",
        "\n",
        "For hyperparameter tuning, we imported `StratifiedKFold`, `GridSearchCV`, `RandomizedSearchCV` from sklearn. We also imported `hyperopt` and `cross_val_score` for Bayesian optimization."
      ],
      "metadata": {
        "id": "BzEEjJQ9uPtD"
      }
    },
    {
      "cell_type": "code",
      "execution_count": null,
      "metadata": {
        "id": "5eZ_K2WlfE10"
      },
      "outputs": [],
      "source": [
        "# Dataset\n",
        "from sklearn import datasets\n",
        "\n",
        "# Data processing\n",
        "import pandas as pd\n",
        "import numpy as np\n",
        "\n",
        "# Standardize the data\n",
        "from sklearn.preprocessing import StandardScaler\n",
        "\n",
        "# Modeling \n",
        "from sklearn.model_selection import train_test_split\n",
        "from sklearn.svm import SVC\n",
        "\n",
        "# Hyperparameter tuning\n",
        "from sklearn.model_selection import StratifiedKFold, GridSearchCV, RandomizedSearchCV, cross_val_score\n",
        "#from hyperopt import tpe, STATUS_OK, Trials, hp, fmin, STATUS_OK, space_eval"
      ]
    },
    {
      "cell_type": "markdown",
      "source": [
        "# Step 4: Read Data"
      ],
      "metadata": {
        "id": "rf7O8FXAvSwO"
      }
    },
    {
      "cell_type": "markdown",
      "source": [
        "In the fourth step, the breast cancer data from the `sklearn` library is loaded and transformed into a pandas dataframe."
      ],
      "metadata": {
        "id": "A5Q-_UzsvW9J"
      }
    },
    {
      "cell_type": "code",
      "source": [
        "# Load the breast cancer dataset\n",
        "data = datasets.load_breast_cancer()\n",
        "\n",
        "# Put the data in pandas dataframe format\n",
        "df = pd.DataFrame(data=data.data, columns=data.feature_names)\n",
        "df['target']=data.target\n",
        "\n",
        "# Check the data information\n",
        "df.info()"
      ],
      "metadata": {
        "colab": {
          "base_uri": "https://localhost:8080/"
        },
        "id": "-o58ci7HvV1d",
        "outputId": "196d1999-7229-4a24-d3c5-ed8c346f2e75"
      },
      "execution_count": null,
      "outputs": [
        {
          "output_type": "stream",
          "name": "stdout",
          "text": [
            "<class 'pandas.core.frame.DataFrame'>\n",
            "RangeIndex: 569 entries, 0 to 568\n",
            "Data columns (total 31 columns):\n",
            " #   Column                   Non-Null Count  Dtype  \n",
            "---  ------                   --------------  -----  \n",
            " 0   mean radius              569 non-null    float64\n",
            " 1   mean texture             569 non-null    float64\n",
            " 2   mean perimeter           569 non-null    float64\n",
            " 3   mean area                569 non-null    float64\n",
            " 4   mean smoothness          569 non-null    float64\n",
            " 5   mean compactness         569 non-null    float64\n",
            " 6   mean concavity           569 non-null    float64\n",
            " 7   mean concave points      569 non-null    float64\n",
            " 8   mean symmetry            569 non-null    float64\n",
            " 9   mean fractal dimension   569 non-null    float64\n",
            " 10  radius error             569 non-null    float64\n",
            " 11  texture error            569 non-null    float64\n",
            " 12  perimeter error          569 non-null    float64\n",
            " 13  area error               569 non-null    float64\n",
            " 14  smoothness error         569 non-null    float64\n",
            " 15  compactness error        569 non-null    float64\n",
            " 16  concavity error          569 non-null    float64\n",
            " 17  concave points error     569 non-null    float64\n",
            " 18  symmetry error           569 non-null    float64\n",
            " 19  fractal dimension error  569 non-null    float64\n",
            " 20  worst radius             569 non-null    float64\n",
            " 21  worst texture            569 non-null    float64\n",
            " 22  worst perimeter          569 non-null    float64\n",
            " 23  worst area               569 non-null    float64\n",
            " 24  worst smoothness         569 non-null    float64\n",
            " 25  worst compactness        569 non-null    float64\n",
            " 26  worst concavity          569 non-null    float64\n",
            " 27  worst concave points     569 non-null    float64\n",
            " 28  worst symmetry           569 non-null    float64\n",
            " 29  worst fractal dimension  569 non-null    float64\n",
            " 30  target                   569 non-null    int64  \n",
            "dtypes: float64(30), int64(1)\n",
            "memory usage: 137.9 KB\n"
          ]
        }
      ]
    },
    {
      "cell_type": "markdown",
      "source": [
        "The information summary shows that the dataset has 569 records and 31 columns."
      ],
      "metadata": {
        "id": "KdG9ERVTwdx3"
      }
    },
    {
      "cell_type": "code",
      "source": [
        "# Check the target value distribution\n",
        "df['target'].value_counts(normalize=True)"
      ],
      "metadata": {
        "colab": {
          "base_uri": "https://localhost:8080/"
        },
        "id": "mDQcE_2Owmgu",
        "outputId": "8ca265a0-e774-4d90-a024-977c3c649c15"
      },
      "execution_count": null,
      "outputs": [
        {
          "output_type": "execute_result",
          "data": {
            "text/plain": [
              "1    0.627417\n",
              "0    0.372583\n",
              "Name: target, dtype: float64"
            ]
          },
          "metadata": {},
          "execution_count": 3
        }
      ]
    },
    {
      "cell_type": "markdown",
      "source": [
        "The target variable distribution shows 63% of ones and 37% of zeros in the dataset. One means the patient has breast cancer, and 0 represents the patient does not have breast cancer."
      ],
      "metadata": {
        "id": "HQID5zF2wrba"
      }
    },
    {
      "cell_type": "markdown",
      "source": [
        "# Step 5: Train Test Split"
      ],
      "metadata": {
        "id": "xHgif1j7wuaT"
      }
    },
    {
      "cell_type": "markdown",
      "source": [
        "In step 5, we split the dataset into 80% training and 20% testing dataset. random_state makes the random split results reproducible."
      ],
      "metadata": {
        "id": "Q_CsOQ6qw2HK"
      }
    },
    {
      "cell_type": "code",
      "source": [
        "# Train test split\n",
        "X_train, X_test, y_train, y_test = train_test_split(df[df.columns.difference(['target'])], df['target'], test_size=0.2, random_state=42)\n",
        "\n",
        "# Check the number of records in training and testing dataset.\n",
        "print(f'The training dataset has {len(X_train)} records.')\n",
        "print(f'The testing dataset has {len(X_test)} records.')"
      ],
      "metadata": {
        "colab": {
          "base_uri": "https://localhost:8080/"
        },
        "id": "VbhPtbQWwpix",
        "outputId": "1dd59302-1619-41d8-a32b-e0669534e21e"
      },
      "execution_count": null,
      "outputs": [
        {
          "output_type": "stream",
          "name": "stdout",
          "text": [
            "The training dataset has 455 records.\n",
            "The testing dataset has 114 records.\n"
          ]
        }
      ]
    },
    {
      "cell_type": "markdown",
      "source": [
        "The training dataset has 455 records, and the testing dataset has 114 records."
      ],
      "metadata": {
        "id": "vwQeXLX1xQFN"
      }
    },
    {
      "cell_type": "markdown",
      "source": [
        "# Step 6: Standardization"
      ],
      "metadata": {
        "id": "gVop2XFvxUVd"
      }
    },
    {
      "cell_type": "markdown",
      "source": [
        "In step 6, we will standardize the features.\n",
        "\n",
        "Standardization is to change the features to the same scale. It is calculated by extracting the mean and divided by the standard deviation of each feature. After standardization, each feature has zero mean and unit standard deviation.\n",
        "\n",
        "Standardization should be fit on the training dataset only to prevent test dataset information from leaking into the training process. Then, the test dataset is standardized using the fitting results from the training dataset.\n",
        "\n",
        "There are different types of scalers. `StandardScaler` and `MinMaxScaler` are most commonly used. For a dataset with outliers, we can use `RobustScaler`.\n",
        "\n",
        "In this tutorial, we will use `StandardScaler`."
      ],
      "metadata": {
        "id": "E6tjsxy6xfzf"
      }
    },
    {
      "cell_type": "code",
      "source": [
        "# Initiate scaler\n",
        "sc = StandardScaler()\n",
        "\n",
        "# Standardize the training dataset\n",
        "X_train_transformed = pd.DataFrame(sc.fit_transform(X_train),index=X_train.index, columns=X_train.columns)\n",
        "\n",
        "# Standardized the testing dataset\n",
        "X_test_transformed = pd.DataFrame(sc.transform(X_test),index=X_test.index, columns=X_test.columns)\n",
        "\n",
        "# Summary statistics after standardization\n",
        "X_train_transformed.describe().T"
      ],
      "metadata": {
        "colab": {
          "base_uri": "https://localhost:8080/",
          "height": 990
        },
        "id": "724_-3Amy36m",
        "outputId": "792589fc-05f1-4216-9c40-45c6494283fc"
      },
      "execution_count": null,
      "outputs": [
        {
          "output_type": "execute_result",
          "data": {
            "text/html": [
              "\n",
              "  <div id=\"df-fde83cbe-9a9e-476d-a2f0-d36569c683fc\">\n",
              "    <div class=\"colab-df-container\">\n",
              "      <div>\n",
              "<style scoped>\n",
              "    .dataframe tbody tr th:only-of-type {\n",
              "        vertical-align: middle;\n",
              "    }\n",
              "\n",
              "    .dataframe tbody tr th {\n",
              "        vertical-align: top;\n",
              "    }\n",
              "\n",
              "    .dataframe thead th {\n",
              "        text-align: right;\n",
              "    }\n",
              "</style>\n",
              "<table border=\"1\" class=\"dataframe\">\n",
              "  <thead>\n",
              "    <tr style=\"text-align: right;\">\n",
              "      <th></th>\n",
              "      <th>count</th>\n",
              "      <th>mean</th>\n",
              "      <th>std</th>\n",
              "      <th>min</th>\n",
              "      <th>25%</th>\n",
              "      <th>50%</th>\n",
              "      <th>75%</th>\n",
              "      <th>max</th>\n",
              "    </tr>\n",
              "  </thead>\n",
              "  <tbody>\n",
              "    <tr>\n",
              "      <th>area error</th>\n",
              "      <td>455.0</td>\n",
              "      <td>1.561632e-17</td>\n",
              "      <td>1.001101</td>\n",
              "      <td>-0.705091</td>\n",
              "      <td>-0.464164</td>\n",
              "      <td>-0.325347</td>\n",
              "      <td>0.077435</td>\n",
              "      <td>10.641841</td>\n",
              "    </tr>\n",
              "    <tr>\n",
              "      <th>compactness error</th>\n",
              "      <td>455.0</td>\n",
              "      <td>-2.401498e-15</td>\n",
              "      <td>1.001101</td>\n",
              "      <td>-1.258102</td>\n",
              "      <td>-0.694353</td>\n",
              "      <td>-0.280607</td>\n",
              "      <td>0.358304</td>\n",
              "      <td>5.905671</td>\n",
              "    </tr>\n",
              "    <tr>\n",
              "      <th>concave points error</th>\n",
              "      <td>455.0</td>\n",
              "      <td>3.279428e-16</td>\n",
              "      <td>1.001101</td>\n",
              "      <td>-1.891775</td>\n",
              "      <td>-0.668493</td>\n",
              "      <td>-0.126279</td>\n",
              "      <td>0.437566</td>\n",
              "      <td>6.504667</td>\n",
              "    </tr>\n",
              "    <tr>\n",
              "      <th>concavity error</th>\n",
              "      <td>455.0</td>\n",
              "      <td>2.347329e-16</td>\n",
              "      <td>1.001101</td>\n",
              "      <td>-1.022218</td>\n",
              "      <td>-0.551340</td>\n",
              "      <td>-0.207836</td>\n",
              "      <td>0.303371</td>\n",
              "      <td>11.310294</td>\n",
              "    </tr>\n",
              "    <tr>\n",
              "      <th>fractal dimension error</th>\n",
              "      <td>455.0</td>\n",
              "      <td>5.050905e-16</td>\n",
              "      <td>1.001101</td>\n",
              "      <td>-1.050856</td>\n",
              "      <td>-0.573964</td>\n",
              "      <td>-0.218908</td>\n",
              "      <td>0.245340</td>\n",
              "      <td>9.345870</td>\n",
              "    </tr>\n",
              "    <tr>\n",
              "      <th>mean area</th>\n",
              "      <td>455.0</td>\n",
              "      <td>-2.627935e-16</td>\n",
              "      <td>1.001101</td>\n",
              "      <td>-1.365036</td>\n",
              "      <td>-0.660205</td>\n",
              "      <td>-0.289597</td>\n",
              "      <td>0.319339</td>\n",
              "      <td>5.208312</td>\n",
              "    </tr>\n",
              "    <tr>\n",
              "      <th>mean compactness</th>\n",
              "      <td>455.0</td>\n",
              "      <td>1.003349e-15</td>\n",
              "      <td>1.001101</td>\n",
              "      <td>-1.607228</td>\n",
              "      <td>-0.777087</td>\n",
              "      <td>-0.241340</td>\n",
              "      <td>0.528128</td>\n",
              "      <td>3.964311</td>\n",
              "    </tr>\n",
              "    <tr>\n",
              "      <th>mean concave points</th>\n",
              "      <td>455.0</td>\n",
              "      <td>5.780480e-16</td>\n",
              "      <td>1.001101</td>\n",
              "      <td>-1.269910</td>\n",
              "      <td>-0.734905</td>\n",
              "      <td>-0.391123</td>\n",
              "      <td>0.673757</td>\n",
              "      <td>4.022271</td>\n",
              "    </tr>\n",
              "    <tr>\n",
              "      <th>mean concavity</th>\n",
              "      <td>455.0</td>\n",
              "      <td>9.782163e-16</td>\n",
              "      <td>1.001101</td>\n",
              "      <td>-1.119899</td>\n",
              "      <td>-0.750539</td>\n",
              "      <td>-0.344646</td>\n",
              "      <td>0.547387</td>\n",
              "      <td>4.256736</td>\n",
              "    </tr>\n",
              "    <tr>\n",
              "      <th>mean fractal dimension</th>\n",
              "      <td>455.0</td>\n",
              "      <td>-3.347993e-15</td>\n",
              "      <td>1.001101</td>\n",
              "      <td>-1.776889</td>\n",
              "      <td>-0.709792</td>\n",
              "      <td>-0.177285</td>\n",
              "      <td>0.464223</td>\n",
              "      <td>4.815921</td>\n",
              "    </tr>\n",
              "    <tr>\n",
              "      <th>mean perimeter</th>\n",
              "      <td>455.0</td>\n",
              "      <td>-3.600783e-15</td>\n",
              "      <td>1.001101</td>\n",
              "      <td>-1.809497</td>\n",
              "      <td>-0.690761</td>\n",
              "      <td>-0.242938</td>\n",
              "      <td>0.488480</td>\n",
              "      <td>3.976811</td>\n",
              "    </tr>\n",
              "    <tr>\n",
              "      <th>mean radius</th>\n",
              "      <td>455.0</td>\n",
              "      <td>-1.824182e-15</td>\n",
              "      <td>1.001101</td>\n",
              "      <td>-1.819583</td>\n",
              "      <td>-0.683093</td>\n",
              "      <td>-0.231498</td>\n",
              "      <td>0.459343</td>\n",
              "      <td>3.961679</td>\n",
              "    </tr>\n",
              "    <tr>\n",
              "      <th>mean smoothness</th>\n",
              "      <td>455.0</td>\n",
              "      <td>-4.266672e-15</td>\n",
              "      <td>1.001101</td>\n",
              "      <td>-3.100011</td>\n",
              "      <td>-0.713204</td>\n",
              "      <td>-0.080820</td>\n",
              "      <td>0.633173</td>\n",
              "      <td>4.864642</td>\n",
              "    </tr>\n",
              "    <tr>\n",
              "      <th>mean symmetry</th>\n",
              "      <td>455.0</td>\n",
              "      <td>-5.918465e-15</td>\n",
              "      <td>1.001101</td>\n",
              "      <td>-2.345430</td>\n",
              "      <td>-0.701046</td>\n",
              "      <td>-0.069151</td>\n",
              "      <td>0.535429</td>\n",
              "      <td>4.476124</td>\n",
              "    </tr>\n",
              "    <tr>\n",
              "      <th>mean texture</th>\n",
              "      <td>455.0</td>\n",
              "      <td>-3.363488e-15</td>\n",
              "      <td>1.001101</td>\n",
              "      <td>-2.223500</td>\n",
              "      <td>-0.707536</td>\n",
              "      <td>-0.118516</td>\n",
              "      <td>0.563199</td>\n",
              "      <td>4.715674</td>\n",
              "    </tr>\n",
              "    <tr>\n",
              "      <th>perimeter error</th>\n",
              "      <td>455.0</td>\n",
              "      <td>7.520236e-16</td>\n",
              "      <td>1.001101</td>\n",
              "      <td>-1.015623</td>\n",
              "      <td>-0.582549</td>\n",
              "      <td>-0.276110</td>\n",
              "      <td>0.199256</td>\n",
              "      <td>9.242330</td>\n",
              "    </tr>\n",
              "    <tr>\n",
              "      <th>radius error</th>\n",
              "      <td>455.0</td>\n",
              "      <td>8.535297e-16</td>\n",
              "      <td>1.001101</td>\n",
              "      <td>-1.027104</td>\n",
              "      <td>-0.591183</td>\n",
              "      <td>-0.276882</td>\n",
              "      <td>0.232400</td>\n",
              "      <td>8.736037</td>\n",
              "    </tr>\n",
              "    <tr>\n",
              "      <th>smoothness error</th>\n",
              "      <td>455.0</td>\n",
              "      <td>-1.450122e-15</td>\n",
              "      <td>1.001101</td>\n",
              "      <td>-1.727893</td>\n",
              "      <td>-0.626524</td>\n",
              "      <td>-0.199469</td>\n",
              "      <td>0.353671</td>\n",
              "      <td>7.906053</td>\n",
              "    </tr>\n",
              "    <tr>\n",
              "      <th>symmetry error</th>\n",
              "      <td>455.0</td>\n",
              "      <td>-3.140589e-15</td>\n",
              "      <td>1.001101</td>\n",
              "      <td>-1.554767</td>\n",
              "      <td>-0.657054</td>\n",
              "      <td>-0.227064</td>\n",
              "      <td>0.324207</td>\n",
              "      <td>5.008778</td>\n",
              "    </tr>\n",
              "    <tr>\n",
              "      <th>texture error</th>\n",
              "      <td>455.0</td>\n",
              "      <td>-7.473875e-16</td>\n",
              "      <td>1.001101</td>\n",
              "      <td>-1.556840</td>\n",
              "      <td>-0.680007</td>\n",
              "      <td>-0.198996</td>\n",
              "      <td>0.437610</td>\n",
              "      <td>6.804586</td>\n",
              "    </tr>\n",
              "    <tr>\n",
              "      <th>worst area</th>\n",
              "      <td>455.0</td>\n",
              "      <td>-2.015970e-15</td>\n",
              "      <td>1.001101</td>\n",
              "      <td>-1.152259</td>\n",
              "      <td>-0.635813</td>\n",
              "      <td>-0.335751</td>\n",
              "      <td>0.272486</td>\n",
              "      <td>5.955420</td>\n",
              "    </tr>\n",
              "    <tr>\n",
              "      <th>worst compactness</th>\n",
              "      <td>455.0</td>\n",
              "      <td>-5.904922e-16</td>\n",
              "      <td>1.001101</td>\n",
              "      <td>-1.455995</td>\n",
              "      <td>-0.696132</td>\n",
              "      <td>-0.275386</td>\n",
              "      <td>0.573857</td>\n",
              "      <td>4.424833</td>\n",
              "    </tr>\n",
              "    <tr>\n",
              "      <th>worst concave points</th>\n",
              "      <td>455.0</td>\n",
              "      <td>1.083382e-16</td>\n",
              "      <td>1.001101</td>\n",
              "      <td>-1.749805</td>\n",
              "      <td>-0.770099</td>\n",
              "      <td>-0.238639</td>\n",
              "      <td>0.718999</td>\n",
              "      <td>2.709674</td>\n",
              "    </tr>\n",
              "    <tr>\n",
              "      <th>worst concavity</th>\n",
              "      <td>455.0</td>\n",
              "      <td>-5.975684e-16</td>\n",
              "      <td>1.001101</td>\n",
              "      <td>-1.312795</td>\n",
              "      <td>-0.755587</td>\n",
              "      <td>-0.230411</td>\n",
              "      <td>0.538350</td>\n",
              "      <td>4.672828</td>\n",
              "    </tr>\n",
              "    <tr>\n",
              "      <th>worst fractal dimension</th>\n",
              "      <td>455.0</td>\n",
              "      <td>-2.328540e-15</td>\n",
              "      <td>1.001101</td>\n",
              "      <td>-1.616973</td>\n",
              "      <td>-0.718962</td>\n",
              "      <td>-0.213585</td>\n",
              "      <td>0.460064</td>\n",
              "      <td>4.999482</td>\n",
              "    </tr>\n",
              "    <tr>\n",
              "      <th>worst perimeter</th>\n",
              "      <td>455.0</td>\n",
              "      <td>-8.645099e-16</td>\n",
              "      <td>1.001101</td>\n",
              "      <td>-1.578174</td>\n",
              "      <td>-0.685348</td>\n",
              "      <td>-0.282954</td>\n",
              "      <td>0.526333</td>\n",
              "      <td>4.322305</td>\n",
              "    </tr>\n",
              "    <tr>\n",
              "      <th>worst radius</th>\n",
              "      <td>455.0</td>\n",
              "      <td>1.387413e-15</td>\n",
              "      <td>1.001101</td>\n",
              "      <td>-1.572438</td>\n",
              "      <td>-0.661698</td>\n",
              "      <td>-0.263235</td>\n",
              "      <td>0.452540</td>\n",
              "      <td>4.120889</td>\n",
              "    </tr>\n",
              "    <tr>\n",
              "      <th>worst smoothness</th>\n",
              "      <td>455.0</td>\n",
              "      <td>1.193185e-15</td>\n",
              "      <td>1.001101</td>\n",
              "      <td>-2.617938</td>\n",
              "      <td>-0.743030</td>\n",
              "      <td>-0.027416</td>\n",
              "      <td>0.629648</td>\n",
              "      <td>3.767506</td>\n",
              "    </tr>\n",
              "    <tr>\n",
              "      <th>worst symmetry</th>\n",
              "      <td>455.0</td>\n",
              "      <td>4.788599e-16</td>\n",
              "      <td>1.001101</td>\n",
              "      <td>-2.124261</td>\n",
              "      <td>-0.649985</td>\n",
              "      <td>-0.123684</td>\n",
              "      <td>0.431944</td>\n",
              "      <td>5.917679</td>\n",
              "    </tr>\n",
              "    <tr>\n",
              "      <th>worst texture</th>\n",
              "      <td>455.0</td>\n",
              "      <td>-8.832983e-17</td>\n",
              "      <td>1.001101</td>\n",
              "      <td>-2.230887</td>\n",
              "      <td>-0.741229</td>\n",
              "      <td>-0.052108</td>\n",
              "      <td>0.685706</td>\n",
              "      <td>3.962127</td>\n",
              "    </tr>\n",
              "  </tbody>\n",
              "</table>\n",
              "</div>\n",
              "      <button class=\"colab-df-convert\" onclick=\"convertToInteractive('df-fde83cbe-9a9e-476d-a2f0-d36569c683fc')\"\n",
              "              title=\"Convert this dataframe to an interactive table.\"\n",
              "              style=\"display:none;\">\n",
              "        \n",
              "  <svg xmlns=\"http://www.w3.org/2000/svg\" height=\"24px\"viewBox=\"0 0 24 24\"\n",
              "       width=\"24px\">\n",
              "    <path d=\"M0 0h24v24H0V0z\" fill=\"none\"/>\n",
              "    <path d=\"M18.56 5.44l.94 2.06.94-2.06 2.06-.94-2.06-.94-.94-2.06-.94 2.06-2.06.94zm-11 1L8.5 8.5l.94-2.06 2.06-.94-2.06-.94L8.5 2.5l-.94 2.06-2.06.94zm10 10l.94 2.06.94-2.06 2.06-.94-2.06-.94-.94-2.06-.94 2.06-2.06.94z\"/><path d=\"M17.41 7.96l-1.37-1.37c-.4-.4-.92-.59-1.43-.59-.52 0-1.04.2-1.43.59L10.3 9.45l-7.72 7.72c-.78.78-.78 2.05 0 2.83L4 21.41c.39.39.9.59 1.41.59.51 0 1.02-.2 1.41-.59l7.78-7.78 2.81-2.81c.8-.78.8-2.07 0-2.86zM5.41 20L4 18.59l7.72-7.72 1.47 1.35L5.41 20z\"/>\n",
              "  </svg>\n",
              "      </button>\n",
              "      \n",
              "  <style>\n",
              "    .colab-df-container {\n",
              "      display:flex;\n",
              "      flex-wrap:wrap;\n",
              "      gap: 12px;\n",
              "    }\n",
              "\n",
              "    .colab-df-convert {\n",
              "      background-color: #E8F0FE;\n",
              "      border: none;\n",
              "      border-radius: 50%;\n",
              "      cursor: pointer;\n",
              "      display: none;\n",
              "      fill: #1967D2;\n",
              "      height: 32px;\n",
              "      padding: 0 0 0 0;\n",
              "      width: 32px;\n",
              "    }\n",
              "\n",
              "    .colab-df-convert:hover {\n",
              "      background-color: #E2EBFA;\n",
              "      box-shadow: 0px 1px 2px rgba(60, 64, 67, 0.3), 0px 1px 3px 1px rgba(60, 64, 67, 0.15);\n",
              "      fill: #174EA6;\n",
              "    }\n",
              "\n",
              "    [theme=dark] .colab-df-convert {\n",
              "      background-color: #3B4455;\n",
              "      fill: #D2E3FC;\n",
              "    }\n",
              "\n",
              "    [theme=dark] .colab-df-convert:hover {\n",
              "      background-color: #434B5C;\n",
              "      box-shadow: 0px 1px 3px 1px rgba(0, 0, 0, 0.15);\n",
              "      filter: drop-shadow(0px 1px 2px rgba(0, 0, 0, 0.3));\n",
              "      fill: #FFFFFF;\n",
              "    }\n",
              "  </style>\n",
              "\n",
              "      <script>\n",
              "        const buttonEl =\n",
              "          document.querySelector('#df-fde83cbe-9a9e-476d-a2f0-d36569c683fc button.colab-df-convert');\n",
              "        buttonEl.style.display =\n",
              "          google.colab.kernel.accessAllowed ? 'block' : 'none';\n",
              "\n",
              "        async function convertToInteractive(key) {\n",
              "          const element = document.querySelector('#df-fde83cbe-9a9e-476d-a2f0-d36569c683fc');\n",
              "          const dataTable =\n",
              "            await google.colab.kernel.invokeFunction('convertToInteractive',\n",
              "                                                     [key], {});\n",
              "          if (!dataTable) return;\n",
              "\n",
              "          const docLinkHtml = 'Like what you see? Visit the ' +\n",
              "            '<a target=\"_blank\" href=https://colab.research.google.com/notebooks/data_table.ipynb>data table notebook</a>'\n",
              "            + ' to learn more about interactive tables.';\n",
              "          element.innerHTML = '';\n",
              "          dataTable['output_type'] = 'display_data';\n",
              "          await google.colab.output.renderOutput(dataTable, element);\n",
              "          const docLink = document.createElement('div');\n",
              "          docLink.innerHTML = docLinkHtml;\n",
              "          element.appendChild(docLink);\n",
              "        }\n",
              "      </script>\n",
              "    </div>\n",
              "  </div>\n",
              "  "
            ],
            "text/plain": [
              "                         count          mean  ...       75%        max\n",
              "area error               455.0  1.561632e-17  ...  0.077435  10.641841\n",
              "compactness error        455.0 -2.401498e-15  ...  0.358304   5.905671\n",
              "concave points error     455.0  3.279428e-16  ...  0.437566   6.504667\n",
              "concavity error          455.0  2.347329e-16  ...  0.303371  11.310294\n",
              "fractal dimension error  455.0  5.050905e-16  ...  0.245340   9.345870\n",
              "mean area                455.0 -2.627935e-16  ...  0.319339   5.208312\n",
              "mean compactness         455.0  1.003349e-15  ...  0.528128   3.964311\n",
              "mean concave points      455.0  5.780480e-16  ...  0.673757   4.022271\n",
              "mean concavity           455.0  9.782163e-16  ...  0.547387   4.256736\n",
              "mean fractal dimension   455.0 -3.347993e-15  ...  0.464223   4.815921\n",
              "mean perimeter           455.0 -3.600783e-15  ...  0.488480   3.976811\n",
              "mean radius              455.0 -1.824182e-15  ...  0.459343   3.961679\n",
              "mean smoothness          455.0 -4.266672e-15  ...  0.633173   4.864642\n",
              "mean symmetry            455.0 -5.918465e-15  ...  0.535429   4.476124\n",
              "mean texture             455.0 -3.363488e-15  ...  0.563199   4.715674\n",
              "perimeter error          455.0  7.520236e-16  ...  0.199256   9.242330\n",
              "radius error             455.0  8.535297e-16  ...  0.232400   8.736037\n",
              "smoothness error         455.0 -1.450122e-15  ...  0.353671   7.906053\n",
              "symmetry error           455.0 -3.140589e-15  ...  0.324207   5.008778\n",
              "texture error            455.0 -7.473875e-16  ...  0.437610   6.804586\n",
              "worst area               455.0 -2.015970e-15  ...  0.272486   5.955420\n",
              "worst compactness        455.0 -5.904922e-16  ...  0.573857   4.424833\n",
              "worst concave points     455.0  1.083382e-16  ...  0.718999   2.709674\n",
              "worst concavity          455.0 -5.975684e-16  ...  0.538350   4.672828\n",
              "worst fractal dimension  455.0 -2.328540e-15  ...  0.460064   4.999482\n",
              "worst perimeter          455.0 -8.645099e-16  ...  0.526333   4.322305\n",
              "worst radius             455.0  1.387413e-15  ...  0.452540   4.120889\n",
              "worst smoothness         455.0  1.193185e-15  ...  0.629648   3.767506\n",
              "worst symmetry           455.0  4.788599e-16  ...  0.431944   5.917679\n",
              "worst texture            455.0 -8.832983e-17  ...  0.685706   3.962127\n",
              "\n",
              "[30 rows x 8 columns]"
            ]
          },
          "metadata": {},
          "execution_count": 5
        }
      ]
    },
    {
      "cell_type": "markdown",
      "source": [
        "We can see that after using StandardScaler, all the features have zero mean and unit standard deviation.\n",
        "\n",
        "Let's get the summary statistics for the training data before standardization as well, and we can see that the mean and standard deviation can be very different in scale. For example, the area error has a mean value of 40 and a standard deviation of 47. On the other hand, the compactness error has a mean of about 0.026 and a standard deviation of 0.019."
      ],
      "metadata": {
        "id": "B68PKH9Iy-fU"
      }
    },
    {
      "cell_type": "code",
      "source": [
        "# Summary statistics before standardization\n",
        "X_train.describe().T"
      ],
      "metadata": {
        "colab": {
          "base_uri": "https://localhost:8080/",
          "height": 990
        },
        "id": "lQQ3YG9XzLgW",
        "outputId": "c954246b-2f65-4f65-9fd0-263cbc02871f"
      },
      "execution_count": null,
      "outputs": [
        {
          "output_type": "execute_result",
          "data": {
            "text/html": [
              "\n",
              "  <div id=\"df-7d212a39-27b7-4d4a-be80-30a7bd8f0580\">\n",
              "    <div class=\"colab-df-container\">\n",
              "      <div>\n",
              "<style scoped>\n",
              "    .dataframe tbody tr th:only-of-type {\n",
              "        vertical-align: middle;\n",
              "    }\n",
              "\n",
              "    .dataframe tbody tr th {\n",
              "        vertical-align: top;\n",
              "    }\n",
              "\n",
              "    .dataframe thead th {\n",
              "        text-align: right;\n",
              "    }\n",
              "</style>\n",
              "<table border=\"1\" class=\"dataframe\">\n",
              "  <thead>\n",
              "    <tr style=\"text-align: right;\">\n",
              "      <th></th>\n",
              "      <th>count</th>\n",
              "      <th>mean</th>\n",
              "      <th>std</th>\n",
              "      <th>min</th>\n",
              "      <th>25%</th>\n",
              "      <th>50%</th>\n",
              "      <th>75%</th>\n",
              "      <th>max</th>\n",
              "    </tr>\n",
              "  </thead>\n",
              "  <tbody>\n",
              "    <tr>\n",
              "      <th>area error</th>\n",
              "      <td>455.0</td>\n",
              "      <td>40.071299</td>\n",
              "      <td>47.236319</td>\n",
              "      <td>6.802000</td>\n",
              "      <td>18.170000</td>\n",
              "      <td>24.720000</td>\n",
              "      <td>43.725000</td>\n",
              "      <td>542.20000</td>\n",
              "    </tr>\n",
              "    <tr>\n",
              "      <th>compactness error</th>\n",
              "      <td>455.0</td>\n",
              "      <td>0.025635</td>\n",
              "      <td>0.018607</td>\n",
              "      <td>0.002252</td>\n",
              "      <td>0.012730</td>\n",
              "      <td>0.020420</td>\n",
              "      <td>0.032295</td>\n",
              "      <td>0.13540</td>\n",
              "    </tr>\n",
              "    <tr>\n",
              "      <th>concave points error</th>\n",
              "      <td>455.0</td>\n",
              "      <td>0.011894</td>\n",
              "      <td>0.006294</td>\n",
              "      <td>0.000000</td>\n",
              "      <td>0.007691</td>\n",
              "      <td>0.011100</td>\n",
              "      <td>0.014645</td>\n",
              "      <td>0.05279</td>\n",
              "    </tr>\n",
              "    <tr>\n",
              "      <th>concavity error</th>\n",
              "      <td>455.0</td>\n",
              "      <td>0.032824</td>\n",
              "      <td>0.032146</td>\n",
              "      <td>0.000000</td>\n",
              "      <td>0.015120</td>\n",
              "      <td>0.026150</td>\n",
              "      <td>0.042565</td>\n",
              "      <td>0.39600</td>\n",
              "    </tr>\n",
              "    <tr>\n",
              "      <th>fractal dimension error</th>\n",
              "      <td>455.0</td>\n",
              "      <td>0.003820</td>\n",
              "      <td>0.002787</td>\n",
              "      <td>0.000895</td>\n",
              "      <td>0.002222</td>\n",
              "      <td>0.003211</td>\n",
              "      <td>0.004504</td>\n",
              "      <td>0.02984</td>\n",
              "    </tr>\n",
              "    <tr>\n",
              "      <th>mean area</th>\n",
              "      <td>455.0</td>\n",
              "      <td>654.377582</td>\n",
              "      <td>354.943187</td>\n",
              "      <td>170.400000</td>\n",
              "      <td>420.300000</td>\n",
              "      <td>551.700000</td>\n",
              "      <td>767.600000</td>\n",
              "      <td>2501.00000</td>\n",
              "    </tr>\n",
              "    <tr>\n",
              "      <th>mean compactness</th>\n",
              "      <td>455.0</td>\n",
              "      <td>0.103619</td>\n",
              "      <td>0.052470</td>\n",
              "      <td>0.019380</td>\n",
              "      <td>0.062890</td>\n",
              "      <td>0.090970</td>\n",
              "      <td>0.131300</td>\n",
              "      <td>0.31140</td>\n",
              "    </tr>\n",
              "    <tr>\n",
              "      <th>mean concave points</th>\n",
              "      <td>455.0</td>\n",
              "      <td>0.048280</td>\n",
              "      <td>0.038060</td>\n",
              "      <td>0.000000</td>\n",
              "      <td>0.020340</td>\n",
              "      <td>0.033410</td>\n",
              "      <td>0.073895</td>\n",
              "      <td>0.20120</td>\n",
              "    </tr>\n",
              "    <tr>\n",
              "      <th>mean concavity</th>\n",
              "      <td>455.0</td>\n",
              "      <td>0.088898</td>\n",
              "      <td>0.079468</td>\n",
              "      <td>0.000000</td>\n",
              "      <td>0.029320</td>\n",
              "      <td>0.061540</td>\n",
              "      <td>0.132350</td>\n",
              "      <td>0.42680</td>\n",
              "    </tr>\n",
              "    <tr>\n",
              "      <th>mean fractal dimension</th>\n",
              "      <td>455.0</td>\n",
              "      <td>0.062757</td>\n",
              "      <td>0.007210</td>\n",
              "      <td>0.049960</td>\n",
              "      <td>0.057645</td>\n",
              "      <td>0.061480</td>\n",
              "      <td>0.066100</td>\n",
              "      <td>0.09744</td>\n",
              "    </tr>\n",
              "    <tr>\n",
              "      <th>mean perimeter</th>\n",
              "      <td>455.0</td>\n",
              "      <td>91.882242</td>\n",
              "      <td>24.322027</td>\n",
              "      <td>47.920000</td>\n",
              "      <td>75.100000</td>\n",
              "      <td>85.980000</td>\n",
              "      <td>103.750000</td>\n",
              "      <td>188.50000</td>\n",
              "    </tr>\n",
              "    <tr>\n",
              "      <th>mean radius</th>\n",
              "      <td>455.0</td>\n",
              "      <td>14.117635</td>\n",
              "      <td>3.535815</td>\n",
              "      <td>7.691000</td>\n",
              "      <td>11.705000</td>\n",
              "      <td>13.300000</td>\n",
              "      <td>15.740000</td>\n",
              "      <td>28.11000</td>\n",
              "    </tr>\n",
              "    <tr>\n",
              "      <th>mean smoothness</th>\n",
              "      <td>455.0</td>\n",
              "      <td>0.095744</td>\n",
              "      <td>0.013923</td>\n",
              "      <td>0.052630</td>\n",
              "      <td>0.085825</td>\n",
              "      <td>0.094620</td>\n",
              "      <td>0.104550</td>\n",
              "      <td>0.16340</td>\n",
              "    </tr>\n",
              "    <tr>\n",
              "      <th>mean symmetry</th>\n",
              "      <td>455.0</td>\n",
              "      <td>0.181099</td>\n",
              "      <td>0.027487</td>\n",
              "      <td>0.116700</td>\n",
              "      <td>0.161850</td>\n",
              "      <td>0.179200</td>\n",
              "      <td>0.195800</td>\n",
              "      <td>0.30400</td>\n",
              "    </tr>\n",
              "    <tr>\n",
              "      <th>mean texture</th>\n",
              "      <td>455.0</td>\n",
              "      <td>19.185033</td>\n",
              "      <td>4.266005</td>\n",
              "      <td>9.710000</td>\n",
              "      <td>16.170000</td>\n",
              "      <td>18.680000</td>\n",
              "      <td>21.585000</td>\n",
              "      <td>39.28000</td>\n",
              "    </tr>\n",
              "    <tr>\n",
              "      <th>perimeter error</th>\n",
              "      <td>455.0</td>\n",
              "      <td>2.858253</td>\n",
              "      <td>2.071209</td>\n",
              "      <td>0.757000</td>\n",
              "      <td>1.653000</td>\n",
              "      <td>2.287000</td>\n",
              "      <td>3.270500</td>\n",
              "      <td>21.98000</td>\n",
              "    </tr>\n",
              "    <tr>\n",
              "      <th>radius error</th>\n",
              "      <td>455.0</td>\n",
              "      <td>0.402016</td>\n",
              "      <td>0.283161</td>\n",
              "      <td>0.111500</td>\n",
              "      <td>0.234800</td>\n",
              "      <td>0.323700</td>\n",
              "      <td>0.467750</td>\n",
              "      <td>2.87300</td>\n",
              "    </tr>\n",
              "    <tr>\n",
              "      <th>smoothness error</th>\n",
              "      <td>455.0</td>\n",
              "      <td>0.006989</td>\n",
              "      <td>0.003057</td>\n",
              "      <td>0.001713</td>\n",
              "      <td>0.005076</td>\n",
              "      <td>0.006380</td>\n",
              "      <td>0.008069</td>\n",
              "      <td>0.03113</td>\n",
              "    </tr>\n",
              "    <tr>\n",
              "      <th>symmetry error</th>\n",
              "      <td>455.0</td>\n",
              "      <td>0.020574</td>\n",
              "      <td>0.008172</td>\n",
              "      <td>0.007882</td>\n",
              "      <td>0.015210</td>\n",
              "      <td>0.018720</td>\n",
              "      <td>0.023220</td>\n",
              "      <td>0.06146</td>\n",
              "    </tr>\n",
              "    <tr>\n",
              "      <th>texture error</th>\n",
              "      <td>455.0</td>\n",
              "      <td>1.202687</td>\n",
              "      <td>0.541747</td>\n",
              "      <td>0.360200</td>\n",
              "      <td>0.834700</td>\n",
              "      <td>1.095000</td>\n",
              "      <td>1.439500</td>\n",
              "      <td>4.88500</td>\n",
              "    </tr>\n",
              "    <tr>\n",
              "      <th>worst area</th>\n",
              "      <td>455.0</td>\n",
              "      <td>876.987033</td>\n",
              "      <td>567.672841</td>\n",
              "      <td>223.600000</td>\n",
              "      <td>516.450000</td>\n",
              "      <td>686.600000</td>\n",
              "      <td>1031.500000</td>\n",
              "      <td>4254.00000</td>\n",
              "    </tr>\n",
              "    <tr>\n",
              "      <th>worst compactness</th>\n",
              "      <td>455.0</td>\n",
              "      <td>0.252742</td>\n",
              "      <td>0.155014</td>\n",
              "      <td>0.027290</td>\n",
              "      <td>0.144950</td>\n",
              "      <td>0.210100</td>\n",
              "      <td>0.341600</td>\n",
              "      <td>0.93790</td>\n",
              "    </tr>\n",
              "    <tr>\n",
              "      <th>worst concave points</th>\n",
              "      <td>455.0</td>\n",
              "      <td>0.114182</td>\n",
              "      <td>0.065326</td>\n",
              "      <td>0.000000</td>\n",
              "      <td>0.063930</td>\n",
              "      <td>0.098610</td>\n",
              "      <td>0.161100</td>\n",
              "      <td>0.29100</td>\n",
              "    </tr>\n",
              "    <tr>\n",
              "      <th>worst concavity</th>\n",
              "      <td>455.0</td>\n",
              "      <td>0.274595</td>\n",
              "      <td>0.209398</td>\n",
              "      <td>0.000000</td>\n",
              "      <td>0.116550</td>\n",
              "      <td>0.226400</td>\n",
              "      <td>0.387200</td>\n",
              "      <td>1.25200</td>\n",
              "    </tr>\n",
              "    <tr>\n",
              "      <th>worst fractal dimension</th>\n",
              "      <td>455.0</td>\n",
              "      <td>0.083868</td>\n",
              "      <td>0.017848</td>\n",
              "      <td>0.055040</td>\n",
              "      <td>0.071050</td>\n",
              "      <td>0.080060</td>\n",
              "      <td>0.092070</td>\n",
              "      <td>0.17300</td>\n",
              "    </tr>\n",
              "    <tr>\n",
              "      <th>worst perimeter</th>\n",
              "      <td>455.0</td>\n",
              "      <td>107.103121</td>\n",
              "      <td>33.374664</td>\n",
              "      <td>54.490000</td>\n",
              "      <td>84.255000</td>\n",
              "      <td>97.670000</td>\n",
              "      <td>124.650000</td>\n",
              "      <td>251.20000</td>\n",
              "    </tr>\n",
              "    <tr>\n",
              "      <th>worst radius</th>\n",
              "      <td>455.0</td>\n",
              "      <td>16.235103</td>\n",
              "      <td>4.811267</td>\n",
              "      <td>8.678000</td>\n",
              "      <td>13.055000</td>\n",
              "      <td>14.970000</td>\n",
              "      <td>18.410000</td>\n",
              "      <td>36.04000</td>\n",
              "    </tr>\n",
              "    <tr>\n",
              "      <th>worst smoothness</th>\n",
              "      <td>455.0</td>\n",
              "      <td>0.131532</td>\n",
              "      <td>0.023083</td>\n",
              "      <td>0.071170</td>\n",
              "      <td>0.114400</td>\n",
              "      <td>0.130900</td>\n",
              "      <td>0.146050</td>\n",
              "      <td>0.21840</td>\n",
              "    </tr>\n",
              "    <tr>\n",
              "      <th>worst symmetry</th>\n",
              "      <td>455.0</td>\n",
              "      <td>0.290502</td>\n",
              "      <td>0.063151</td>\n",
              "      <td>0.156500</td>\n",
              "      <td>0.249500</td>\n",
              "      <td>0.282700</td>\n",
              "      <td>0.317750</td>\n",
              "      <td>0.66380</td>\n",
              "    </tr>\n",
              "    <tr>\n",
              "      <th>worst texture</th>\n",
              "      <td>455.0</td>\n",
              "      <td>25.535692</td>\n",
              "      <td>6.065108</td>\n",
              "      <td>12.020000</td>\n",
              "      <td>21.045000</td>\n",
              "      <td>25.220000</td>\n",
              "      <td>29.690000</td>\n",
              "      <td>49.54000</td>\n",
              "    </tr>\n",
              "  </tbody>\n",
              "</table>\n",
              "</div>\n",
              "      <button class=\"colab-df-convert\" onclick=\"convertToInteractive('df-7d212a39-27b7-4d4a-be80-30a7bd8f0580')\"\n",
              "              title=\"Convert this dataframe to an interactive table.\"\n",
              "              style=\"display:none;\">\n",
              "        \n",
              "  <svg xmlns=\"http://www.w3.org/2000/svg\" height=\"24px\"viewBox=\"0 0 24 24\"\n",
              "       width=\"24px\">\n",
              "    <path d=\"M0 0h24v24H0V0z\" fill=\"none\"/>\n",
              "    <path d=\"M18.56 5.44l.94 2.06.94-2.06 2.06-.94-2.06-.94-.94-2.06-.94 2.06-2.06.94zm-11 1L8.5 8.5l.94-2.06 2.06-.94-2.06-.94L8.5 2.5l-.94 2.06-2.06.94zm10 10l.94 2.06.94-2.06 2.06-.94-2.06-.94-.94-2.06-.94 2.06-2.06.94z\"/><path d=\"M17.41 7.96l-1.37-1.37c-.4-.4-.92-.59-1.43-.59-.52 0-1.04.2-1.43.59L10.3 9.45l-7.72 7.72c-.78.78-.78 2.05 0 2.83L4 21.41c.39.39.9.59 1.41.59.51 0 1.02-.2 1.41-.59l7.78-7.78 2.81-2.81c.8-.78.8-2.07 0-2.86zM5.41 20L4 18.59l7.72-7.72 1.47 1.35L5.41 20z\"/>\n",
              "  </svg>\n",
              "      </button>\n",
              "      \n",
              "  <style>\n",
              "    .colab-df-container {\n",
              "      display:flex;\n",
              "      flex-wrap:wrap;\n",
              "      gap: 12px;\n",
              "    }\n",
              "\n",
              "    .colab-df-convert {\n",
              "      background-color: #E8F0FE;\n",
              "      border: none;\n",
              "      border-radius: 50%;\n",
              "      cursor: pointer;\n",
              "      display: none;\n",
              "      fill: #1967D2;\n",
              "      height: 32px;\n",
              "      padding: 0 0 0 0;\n",
              "      width: 32px;\n",
              "    }\n",
              "\n",
              "    .colab-df-convert:hover {\n",
              "      background-color: #E2EBFA;\n",
              "      box-shadow: 0px 1px 2px rgba(60, 64, 67, 0.3), 0px 1px 3px 1px rgba(60, 64, 67, 0.15);\n",
              "      fill: #174EA6;\n",
              "    }\n",
              "\n",
              "    [theme=dark] .colab-df-convert {\n",
              "      background-color: #3B4455;\n",
              "      fill: #D2E3FC;\n",
              "    }\n",
              "\n",
              "    [theme=dark] .colab-df-convert:hover {\n",
              "      background-color: #434B5C;\n",
              "      box-shadow: 0px 1px 3px 1px rgba(0, 0, 0, 0.15);\n",
              "      filter: drop-shadow(0px 1px 2px rgba(0, 0, 0, 0.3));\n",
              "      fill: #FFFFFF;\n",
              "    }\n",
              "  </style>\n",
              "\n",
              "      <script>\n",
              "        const buttonEl =\n",
              "          document.querySelector('#df-7d212a39-27b7-4d4a-be80-30a7bd8f0580 button.colab-df-convert');\n",
              "        buttonEl.style.display =\n",
              "          google.colab.kernel.accessAllowed ? 'block' : 'none';\n",
              "\n",
              "        async function convertToInteractive(key) {\n",
              "          const element = document.querySelector('#df-7d212a39-27b7-4d4a-be80-30a7bd8f0580');\n",
              "          const dataTable =\n",
              "            await google.colab.kernel.invokeFunction('convertToInteractive',\n",
              "                                                     [key], {});\n",
              "          if (!dataTable) return;\n",
              "\n",
              "          const docLinkHtml = 'Like what you see? Visit the ' +\n",
              "            '<a target=\"_blank\" href=https://colab.research.google.com/notebooks/data_table.ipynb>data table notebook</a>'\n",
              "            + ' to learn more about interactive tables.';\n",
              "          element.innerHTML = '';\n",
              "          dataTable['output_type'] = 'display_data';\n",
              "          await google.colab.output.renderOutput(dataTable, element);\n",
              "          const docLink = document.createElement('div');\n",
              "          docLink.innerHTML = docLinkHtml;\n",
              "          element.appendChild(docLink);\n",
              "        }\n",
              "      </script>\n",
              "    </div>\n",
              "  </div>\n",
              "  "
            ],
            "text/plain": [
              "                         count        mean  ...          75%         max\n",
              "area error               455.0   40.071299  ...    43.725000   542.20000\n",
              "compactness error        455.0    0.025635  ...     0.032295     0.13540\n",
              "concave points error     455.0    0.011894  ...     0.014645     0.05279\n",
              "concavity error          455.0    0.032824  ...     0.042565     0.39600\n",
              "fractal dimension error  455.0    0.003820  ...     0.004504     0.02984\n",
              "mean area                455.0  654.377582  ...   767.600000  2501.00000\n",
              "mean compactness         455.0    0.103619  ...     0.131300     0.31140\n",
              "mean concave points      455.0    0.048280  ...     0.073895     0.20120\n",
              "mean concavity           455.0    0.088898  ...     0.132350     0.42680\n",
              "mean fractal dimension   455.0    0.062757  ...     0.066100     0.09744\n",
              "mean perimeter           455.0   91.882242  ...   103.750000   188.50000\n",
              "mean radius              455.0   14.117635  ...    15.740000    28.11000\n",
              "mean smoothness          455.0    0.095744  ...     0.104550     0.16340\n",
              "mean symmetry            455.0    0.181099  ...     0.195800     0.30400\n",
              "mean texture             455.0   19.185033  ...    21.585000    39.28000\n",
              "perimeter error          455.0    2.858253  ...     3.270500    21.98000\n",
              "radius error             455.0    0.402016  ...     0.467750     2.87300\n",
              "smoothness error         455.0    0.006989  ...     0.008069     0.03113\n",
              "symmetry error           455.0    0.020574  ...     0.023220     0.06146\n",
              "texture error            455.0    1.202687  ...     1.439500     4.88500\n",
              "worst area               455.0  876.987033  ...  1031.500000  4254.00000\n",
              "worst compactness        455.0    0.252742  ...     0.341600     0.93790\n",
              "worst concave points     455.0    0.114182  ...     0.161100     0.29100\n",
              "worst concavity          455.0    0.274595  ...     0.387200     1.25200\n",
              "worst fractal dimension  455.0    0.083868  ...     0.092070     0.17300\n",
              "worst perimeter          455.0  107.103121  ...   124.650000   251.20000\n",
              "worst radius             455.0   16.235103  ...    18.410000    36.04000\n",
              "worst smoothness         455.0    0.131532  ...     0.146050     0.21840\n",
              "worst symmetry           455.0    0.290502  ...     0.317750     0.66380\n",
              "worst texture            455.0   25.535692  ...    29.690000    49.54000\n",
              "\n",
              "[30 rows x 8 columns]"
            ]
          },
          "metadata": {},
          "execution_count": 45
        }
      ]
    },
    {
      "cell_type": "markdown",
      "source": [
        "# Step 7: Support Vector Machine (SVM) Default Hyperparameters"
      ],
      "metadata": {
        "id": "7YuZW5D0zUns"
      }
    },
    {
      "cell_type": "markdown",
      "source": [
        "In step 7, we will create a Support Vector Machine (SVM) model with default hyperparameters as the baseline model."
      ],
      "metadata": {
        "id": "TCqubDrMzoYL"
      }
    },
    {
      "cell_type": "code",
      "source": [
        "# Check default values\n",
        "svc = SVC()\n",
        "params = svc.get_params()\n",
        "params_df = pd.DataFrame(params, index=[0])\n",
        "params_df.T"
      ],
      "metadata": {
        "colab": {
          "base_uri": "https://localhost:8080/",
          "height": 520
        },
        "id": "NyYIvyCXzN-p",
        "outputId": "0aab9437-bf45-42a3-f52b-b23387c20b1f"
      },
      "execution_count": null,
      "outputs": [
        {
          "output_type": "execute_result",
          "data": {
            "text/html": [
              "\n",
              "  <div id=\"df-2ac2cfba-b849-4e96-8b80-26e1e70cd5d6\">\n",
              "    <div class=\"colab-df-container\">\n",
              "      <div>\n",
              "<style scoped>\n",
              "    .dataframe tbody tr th:only-of-type {\n",
              "        vertical-align: middle;\n",
              "    }\n",
              "\n",
              "    .dataframe tbody tr th {\n",
              "        vertical-align: top;\n",
              "    }\n",
              "\n",
              "    .dataframe thead th {\n",
              "        text-align: right;\n",
              "    }\n",
              "</style>\n",
              "<table border=\"1\" class=\"dataframe\">\n",
              "  <thead>\n",
              "    <tr style=\"text-align: right;\">\n",
              "      <th></th>\n",
              "      <th>0</th>\n",
              "    </tr>\n",
              "  </thead>\n",
              "  <tbody>\n",
              "    <tr>\n",
              "      <th>C</th>\n",
              "      <td>1.0</td>\n",
              "    </tr>\n",
              "    <tr>\n",
              "      <th>break_ties</th>\n",
              "      <td>False</td>\n",
              "    </tr>\n",
              "    <tr>\n",
              "      <th>cache_size</th>\n",
              "      <td>200</td>\n",
              "    </tr>\n",
              "    <tr>\n",
              "      <th>class_weight</th>\n",
              "      <td>None</td>\n",
              "    </tr>\n",
              "    <tr>\n",
              "      <th>coef0</th>\n",
              "      <td>0.0</td>\n",
              "    </tr>\n",
              "    <tr>\n",
              "      <th>decision_function_shape</th>\n",
              "      <td>ovr</td>\n",
              "    </tr>\n",
              "    <tr>\n",
              "      <th>degree</th>\n",
              "      <td>3</td>\n",
              "    </tr>\n",
              "    <tr>\n",
              "      <th>gamma</th>\n",
              "      <td>scale</td>\n",
              "    </tr>\n",
              "    <tr>\n",
              "      <th>kernel</th>\n",
              "      <td>rbf</td>\n",
              "    </tr>\n",
              "    <tr>\n",
              "      <th>max_iter</th>\n",
              "      <td>-1</td>\n",
              "    </tr>\n",
              "    <tr>\n",
              "      <th>probability</th>\n",
              "      <td>False</td>\n",
              "    </tr>\n",
              "    <tr>\n",
              "      <th>random_state</th>\n",
              "      <td>None</td>\n",
              "    </tr>\n",
              "    <tr>\n",
              "      <th>shrinking</th>\n",
              "      <td>True</td>\n",
              "    </tr>\n",
              "    <tr>\n",
              "      <th>tol</th>\n",
              "      <td>0.001</td>\n",
              "    </tr>\n",
              "    <tr>\n",
              "      <th>verbose</th>\n",
              "      <td>False</td>\n",
              "    </tr>\n",
              "  </tbody>\n",
              "</table>\n",
              "</div>\n",
              "      <button class=\"colab-df-convert\" onclick=\"convertToInteractive('df-2ac2cfba-b849-4e96-8b80-26e1e70cd5d6')\"\n",
              "              title=\"Convert this dataframe to an interactive table.\"\n",
              "              style=\"display:none;\">\n",
              "        \n",
              "  <svg xmlns=\"http://www.w3.org/2000/svg\" height=\"24px\"viewBox=\"0 0 24 24\"\n",
              "       width=\"24px\">\n",
              "    <path d=\"M0 0h24v24H0V0z\" fill=\"none\"/>\n",
              "    <path d=\"M18.56 5.44l.94 2.06.94-2.06 2.06-.94-2.06-.94-.94-2.06-.94 2.06-2.06.94zm-11 1L8.5 8.5l.94-2.06 2.06-.94-2.06-.94L8.5 2.5l-.94 2.06-2.06.94zm10 10l.94 2.06.94-2.06 2.06-.94-2.06-.94-.94-2.06-.94 2.06-2.06.94z\"/><path d=\"M17.41 7.96l-1.37-1.37c-.4-.4-.92-.59-1.43-.59-.52 0-1.04.2-1.43.59L10.3 9.45l-7.72 7.72c-.78.78-.78 2.05 0 2.83L4 21.41c.39.39.9.59 1.41.59.51 0 1.02-.2 1.41-.59l7.78-7.78 2.81-2.81c.8-.78.8-2.07 0-2.86zM5.41 20L4 18.59l7.72-7.72 1.47 1.35L5.41 20z\"/>\n",
              "  </svg>\n",
              "      </button>\n",
              "      \n",
              "  <style>\n",
              "    .colab-df-container {\n",
              "      display:flex;\n",
              "      flex-wrap:wrap;\n",
              "      gap: 12px;\n",
              "    }\n",
              "\n",
              "    .colab-df-convert {\n",
              "      background-color: #E8F0FE;\n",
              "      border: none;\n",
              "      border-radius: 50%;\n",
              "      cursor: pointer;\n",
              "      display: none;\n",
              "      fill: #1967D2;\n",
              "      height: 32px;\n",
              "      padding: 0 0 0 0;\n",
              "      width: 32px;\n",
              "    }\n",
              "\n",
              "    .colab-df-convert:hover {\n",
              "      background-color: #E2EBFA;\n",
              "      box-shadow: 0px 1px 2px rgba(60, 64, 67, 0.3), 0px 1px 3px 1px rgba(60, 64, 67, 0.15);\n",
              "      fill: #174EA6;\n",
              "    }\n",
              "\n",
              "    [theme=dark] .colab-df-convert {\n",
              "      background-color: #3B4455;\n",
              "      fill: #D2E3FC;\n",
              "    }\n",
              "\n",
              "    [theme=dark] .colab-df-convert:hover {\n",
              "      background-color: #434B5C;\n",
              "      box-shadow: 0px 1px 3px 1px rgba(0, 0, 0, 0.15);\n",
              "      filter: drop-shadow(0px 1px 2px rgba(0, 0, 0, 0.3));\n",
              "      fill: #FFFFFF;\n",
              "    }\n",
              "  </style>\n",
              "\n",
              "      <script>\n",
              "        const buttonEl =\n",
              "          document.querySelector('#df-2ac2cfba-b849-4e96-8b80-26e1e70cd5d6 button.colab-df-convert');\n",
              "        buttonEl.style.display =\n",
              "          google.colab.kernel.accessAllowed ? 'block' : 'none';\n",
              "\n",
              "        async function convertToInteractive(key) {\n",
              "          const element = document.querySelector('#df-2ac2cfba-b849-4e96-8b80-26e1e70cd5d6');\n",
              "          const dataTable =\n",
              "            await google.colab.kernel.invokeFunction('convertToInteractive',\n",
              "                                                     [key], {});\n",
              "          if (!dataTable) return;\n",
              "\n",
              "          const docLinkHtml = 'Like what you see? Visit the ' +\n",
              "            '<a target=\"_blank\" href=https://colab.research.google.com/notebooks/data_table.ipynb>data table notebook</a>'\n",
              "            + ' to learn more about interactive tables.';\n",
              "          element.innerHTML = '';\n",
              "          dataTable['output_type'] = 'display_data';\n",
              "          await google.colab.output.renderOutput(dataTable, element);\n",
              "          const docLink = document.createElement('div');\n",
              "          docLink.innerHTML = docLinkHtml;\n",
              "          element.appendChild(docLink);\n",
              "        }\n",
              "      </script>\n",
              "    </div>\n",
              "  </div>\n",
              "  "
            ],
            "text/plain": [
              "                             0\n",
              "C                          1.0\n",
              "break_ties               False\n",
              "cache_size                 200\n",
              "class_weight              None\n",
              "coef0                      0.0\n",
              "decision_function_shape    ovr\n",
              "degree                       3\n",
              "gamma                    scale\n",
              "kernel                     rbf\n",
              "max_iter                    -1\n",
              "probability              False\n",
              "random_state              None\n",
              "shrinking                 True\n",
              "tol                      0.001\n",
              "verbose                  False"
            ]
          },
          "metadata": {},
          "execution_count": 13
        }
      ]
    },
    {
      "cell_type": "markdown",
      "source": [
        "We can see that the default hyperparameter has the C value of 1, the gamma value of `scale`, and the kernel value of `rbf`."
      ],
      "metadata": {
        "id": "SYZdA00ezjaj"
      }
    },
    {
      "cell_type": "markdown",
      "source": [
        "Next, let's fit the model using the standardized training data and check the accuracy score. We get 98.25% accuracy for the default hyperparameters."
      ],
      "metadata": {
        "id": "wtF7e4_Lkarn"
      }
    },
    {
      "cell_type": "code",
      "source": [
        "# Run model\n",
        "svc.fit(X_train_transformed, y_train)\n",
        "\n",
        "# Accuracy score\n",
        "print(f'The accuracy score of the model is {svc.score(X_test_transformed, y_test):.4f}')"
      ],
      "metadata": {
        "colab": {
          "base_uri": "https://localhost:8080/"
        },
        "id": "AbBFYpbZ3ijr",
        "outputId": "8be51316-6f77-45e4-8257-3de4ada253bc"
      },
      "execution_count": null,
      "outputs": [
        {
          "output_type": "stream",
          "name": "stdout",
          "text": [
            "The accuracy score of the model is 0.9825\n"
          ]
        }
      ]
    },
    {
      "cell_type": "markdown",
      "source": [
        "# Step 8: Hyperparameter Tuning Using Grid Search"
      ],
      "metadata": {
        "id": "i6g81pQy8QZ4"
      }
    },
    {
      "cell_type": "markdown",
      "source": [
        "In step 8, we will use grid search to find the best hyperparameter combinations for the Support Vector Machine (SVM) model. Grid search is an exhaustive hyperparameter search method. It trains models for every combination of specified hyperparameter values. Therefore, it can take a long time to run if we test out more hyperparameters and values, especially for larger datasets.\n",
        "\n",
        "For this reason, we would like to have the grid search space relatively small so the process can finish in a reasonable timeframe. The search space includes the hyperparameters and their values grid search builds models for. In this example, we will tune three hyperparameters, C, gamma, and kernel. The other hyperparameters can be tuned in the same way.\n",
        "\n",
        "Using the `logspace` function from the `numpy` library, we created three values for `C` and three values for `gamma`. For `gamma`, the `sklearn` values of `'scale'` and `'auto'` are also included, so there are a total of 5 values for `gamma`. "
      ],
      "metadata": {
        "id": "QtVFSiqf97CF"
      }
    },
    {
      "cell_type": "code",
      "source": [
        "# List of C values\n",
        "C_range = np.logspace(-1, 1, 3)\n",
        "print(f'The list of values for C are {C_range}')\n",
        "\n",
        "# List of gamma values\n",
        "gamma_range = np.logspace(-1, 1, 3)\n",
        "print(f'The list of values for gamma are {gamma_range}')"
      ],
      "metadata": {
        "colab": {
          "base_uri": "https://localhost:8080/"
        },
        "id": "5hEpVnBVBZ4d",
        "outputId": "7a41c26f-e6f2-45d9-d630-b5ca41379752"
      },
      "execution_count": null,
      "outputs": [
        {
          "output_type": "stream",
          "name": "stdout",
          "text": [
            "The list of values for C are [ 0.1  1.  10. ]\n",
            "The list of values for gamma are [ 0.1  1.  10. ]\n"
          ]
        }
      ]
    },
    {
      "cell_type": "markdown",
      "source": [
        "Two kernels, `'rbf'` and `'poly'`, will be tested.\n",
        "\n",
        "Scoring is the metric to evaluate the cross-validation results for each model. We set `scoring = ['accuracy']`. The scoring option can take more than one metric in the list.\n",
        "\n",
        "`StratifiedKFold` is used for the cross-validation. It helps us keep the class ratio in the folds the same as the training dataset. `n_splits=3` means we are doing 3-fold cross-validation. `shuffle=True` means the data are shuffled before splitting. `random_state=0` makes the shuffle reproducible."
      ],
      "metadata": {
        "id": "QsGtDC_rExfP"
      }
    },
    {
      "cell_type": "code",
      "source": [
        "# Define the search space\n",
        "param_grid = { \n",
        "    # Regularization parameter.\n",
        "    \"C\": C_range,\n",
        "    # Kernel type\n",
        "    \"kernel\": ['rbf', 'poly'],\n",
        "    # Gamma is the Kernel coefficient for ‘rbf’, ‘poly’ and ‘sigmoid’.\n",
        "    \"gamma\": gamma_range.tolist()+['scale', 'auto']\n",
        "    }\n",
        "\n",
        "# Set up score\n",
        "scoring = ['accuracy']\n",
        "\n",
        "# Set up the k-fold cross-validation\n",
        "kfold = StratifiedKFold(n_splits=3, shuffle=True, random_state=0)"
      ],
      "metadata": {
        "id": "Kl0YYPQw8NYG"
      },
      "execution_count": null,
      "outputs": []
    },
    {
      "cell_type": "markdown",
      "source": [
        "We specified a few options for `GridSearchCV`.\n",
        "* `estimator=svc` means we are using Support Vector Classifier as the model.\n",
        "* `param_grid=param_grid` takes our pre-defined search space for the grid search.\n",
        "* `scoring=scoring` set the performance evaluation metric. Because we set the scoring to 'accuracy', the model will use accuracy as the evaluation metric.\n",
        "* `refit='accuracy'` enables refitting the model with the best parameters on the whole training dataset.\n",
        "* `n_jobs=-1` means parallel processing using all the processors.\n",
        "* `cv=kfold` takes the `StratifiedKFold` we defined.\n",
        "* `verbose` controls the number of messages returned by the grid search. The higher the number, the more information is returned. `verbose=0` means silent."
      ],
      "metadata": {
        "id": "_HPgtYpkF6ue"
      }
    },
    {
      "cell_type": "code",
      "source": [
        "# Define grid search\n",
        "grid_search = GridSearchCV(estimator=svc, \n",
        "                           param_grid=param_grid, \n",
        "                           scoring=scoring, \n",
        "                           refit='accuracy', \n",
        "                           n_jobs=-1, \n",
        "                           cv=kfold, \n",
        "                           verbose=0)\n",
        "\n",
        "# Fit grid search\n",
        "grid_result = grid_search.fit(X_train_transformed, y_train)\n",
        "\n",
        "# Print grid search summary\n",
        "grid_result"
      ],
      "metadata": {
        "colab": {
          "base_uri": "https://localhost:8080/"
        },
        "id": "Xb6L5hGXGAGo",
        "outputId": "e97f4eb0-b4a8-4553-ce7e-5c52c924a64b"
      },
      "execution_count": null,
      "outputs": [
        {
          "output_type": "execute_result",
          "data": {
            "text/plain": [
              "GridSearchCV(cv=StratifiedKFold(n_splits=3, random_state=0, shuffle=True),\n",
              "             estimator=SVC(), n_jobs=-1,\n",
              "             param_grid={'C': array([ 0.1,  1. , 10. ]),\n",
              "                         'gamma': [0.1, 1.0, 10.0, 'scale', 'auto'],\n",
              "                         'kernel': ['rbf', 'poly']},\n",
              "             refit='accuracy', scoring=['accuracy'])"
            ]
          },
          "metadata": {},
          "execution_count": 54
        }
      ]
    },
    {
      "cell_type": "code",
      "source": [
        "# Print the best accuracy score for the training dataset\n",
        "print(f'The best accuracy score for the training dataset is {grid_result.best_score_:.4f}')\n",
        "\n",
        "# Print the hyperparameters for the best score\n",
        "print(f'The best hyperparameters are {grid_result.best_params_}')\n",
        "\n",
        "# Print the best accuracy score for the testing dataset\n",
        "print(f'The accuracy score for the testing dataset is {grid_search.score(X_test_transformed, y_test):.4f}')"
      ],
      "metadata": {
        "colab": {
          "base_uri": "https://localhost:8080/"
        },
        "id": "DPaaOJCoHSmi",
        "outputId": "936c414d-1933-43c8-e0a9-86698ec2223e"
      },
      "execution_count": null,
      "outputs": [
        {
          "output_type": "stream",
          "name": "stdout",
          "text": [
            "The best accuracy score for the training dataset is 0.9693\n",
            "The best hyperparameters are {'C': 1.0, 'gamma': 'scale', 'kernel': 'rbf'}\n",
            "The accuracy score for the testing dataset is 0.9825\n"
          ]
        }
      ]
    },
    {
      "cell_type": "markdown",
      "source": [
        "The grid search cross-validation results show that the C value of 1, gamma value of `scale` and kernel of `'rbf'` gave us the best results. This happened to be the same hyperparameters as the default value. The best average training accuracy is 96.93%, and the accuracy score for the testing dataset is 98.25%, which is the same as the baseline model."
      ],
      "metadata": {
        "id": "rJJkOItzKWlM"
      }
    },
    {
      "cell_type": "markdown",
      "source": [
        "# Step 9: Hyperparameter Tuning Using Random Search"
      ],
      "metadata": {
        "id": "4ghD8dPGNq8s"
      }
    },
    {
      "cell_type": "markdown",
      "source": [
        "In step 9, we use a random search for Support Vector Machine (SVM) hyperparameter tuning. Since random search randomly picks a subset of hyperparameter combinations, we can afford to try more values. \n",
        "\n",
        "If at least one of the parameters is a distribution, sampling with replacement is used for a random search. Sampling without replacement is used if all parameters are provided as a list. Each list is treated as a uniform distribution.\n",
        "\n",
        "We increased the number of `C` and `gamma` values from 3 to 21 for the random search. For `gamma`, the `sklearn` values of `'scale'` and `'auto'` are also included, so there are a total of 23 values for `gamma`. "
      ],
      "metadata": {
        "id": "k17D3QZUN2w1"
      }
    },
    {
      "cell_type": "code",
      "source": [
        "# List of C values\n",
        "C_range = np.logspace(-10, 10, 21)\n",
        "print(f'The list of values for C are {C_range}')\n",
        "\n",
        "# List of gamma values\n",
        "gamma_range = np.logspace(-10, 10, 21)\n",
        "print(f'The list of values for gamma are {gamma_range}')"
      ],
      "metadata": {
        "colab": {
          "base_uri": "https://localhost:8080/"
        },
        "id": "3aZeg-QcgOAC",
        "outputId": "3c91e611-45ba-4df9-bae0-0f67b5ae0729"
      },
      "execution_count": null,
      "outputs": [
        {
          "output_type": "stream",
          "name": "stdout",
          "text": [
            "The list of values for C are [1.e-10 1.e-09 1.e-08 1.e-07 1.e-06 1.e-05 1.e-04 1.e-03 1.e-02 1.e-01\n",
            " 1.e+00 1.e+01 1.e+02 1.e+03 1.e+04 1.e+05 1.e+06 1.e+07 1.e+08 1.e+09\n",
            " 1.e+10]\n",
            "The list of values for gamma are [1.e-10 1.e-09 1.e-08 1.e-07 1.e-06 1.e-05 1.e-04 1.e-03 1.e-02 1.e-01\n",
            " 1.e+00 1.e+01 1.e+02 1.e+03 1.e+04 1.e+05 1.e+06 1.e+07 1.e+08 1.e+09\n",
            " 1.e+10]\n"
          ]
        }
      ]
    },
    {
      "cell_type": "markdown",
      "source": [
        "The same scoring metric and cross-validation values used in grid search are used for the random search. But for a random search, we need to specify a value for `n_iter`, the number of parameter combinations sampled. We are randomly testing 100 combinations for this example."
      ],
      "metadata": {
        "id": "vVk8ISGPfipC"
      }
    },
    {
      "cell_type": "code",
      "source": [
        "# Define the search space\n",
        "param_grid = { \n",
        "    # Regularization parameter.\n",
        "    \"C\": C_range,\n",
        "    # Kernel type\n",
        "    \"kernel\": ['rbf', 'poly'],\n",
        "    # Gamma is the Kernel coefficient for ‘rbf’, ‘poly’ and ‘sigmoid’.\n",
        "    \"gamma\": gamma_range.tolist()+['scale', 'auto']\n",
        "    }\n",
        "\n",
        "# Set up score\n",
        "scoring = ['accuracy']\n",
        "\n",
        "# Set up the k-fold cross-validation\n",
        "kfold = StratifiedKFold(n_splits=3, shuffle=True, random_state=0)\n",
        "\n",
        "# Define random search\n",
        "random_search = RandomizedSearchCV(estimator=svc, \n",
        "                           param_distributions=param_grid, \n",
        "                           n_iter=100,\n",
        "                           scoring=scoring, \n",
        "                           refit='accuracy', \n",
        "                           n_jobs=-1, \n",
        "                           cv=kfold, \n",
        "                           verbose=0)\n",
        "\n",
        "# Fit grid search\n",
        "random_result = random_search.fit(X_train_transformed, y_train)\n",
        "\n",
        "# Print grid search summary\n",
        "random_result"
      ],
      "metadata": {
        "colab": {
          "base_uri": "https://localhost:8080/"
        },
        "id": "KB2PMG1hXeDe",
        "outputId": "1da088a4-1b57-405f-bfa5-33e1ca297305"
      },
      "execution_count": null,
      "outputs": [
        {
          "output_type": "execute_result",
          "data": {
            "text/plain": [
              "RandomizedSearchCV(cv=StratifiedKFold(n_splits=3, random_state=0, shuffle=True),\n",
              "                   estimator=SVC(), n_iter=100, n_jobs=-1,\n",
              "                   param_distributions={'C': array([1.e-10, 1.e-09, 1.e-08, 1.e-07, 1.e-06, 1.e-05, 1.e-04, 1.e-03,\n",
              "       1.e-02, 1.e-01, 1.e+00, 1.e+01, 1.e+02, 1.e+03, 1.e+04, 1.e+05,\n",
              "       1.e+06, 1.e+07, 1.e+08, 1.e+09, 1.e+10]),\n",
              "                                        'gamma': [1e-10, 1e-09, 1e-08, 1e-07,\n",
              "                                                  1e-06, 1e-05, 0.0001, 0.001,\n",
              "                                                  0.01, 0.1, 1.0, 10.0, 100.0,\n",
              "                                                  1000.0, 10000.0, 100000.0,\n",
              "                                                  1000000.0, 10000000.0,\n",
              "                                                  100000000.0, 1000000000.0,\n",
              "                                                  10000000000.0, 'scale',\n",
              "                                                  'auto'],\n",
              "                                        'kernel': ['rbf', 'poly']},\n",
              "                   refit='accuracy', scoring=['accuracy'])"
            ]
          },
          "metadata": {},
          "execution_count": 17
        }
      ]
    },
    {
      "cell_type": "markdown",
      "source": [
        "The random search cross-validation results show that the C value of 1000, gamma value of 0.0001 and kernel of 'rbf' gave us the best results. The best average training accuracy is 97.14%, and the accuracy score for the testing dataset is 97.37%, which is slightly lower than the grid search results.\n",
        "\n",
        "Note that because each time the random search is performed, a set of different hyperparameters will be randomly selected, so the best hyperparameters can be different each time random search is conducted."
      ],
      "metadata": {
        "id": "8mSEfGlqrz-t"
      }
    },
    {
      "cell_type": "code",
      "source": [
        "# Print the best accuracy score for the training dataset\n",
        "print(f'The best accuracy score for the training dataset is {random_result.best_score_:.4f}')\n",
        "\n",
        "# Print the hyperparameters for the best score\n",
        "print(f'The best hyperparameters are {random_result.best_params_}')\n",
        "\n",
        "# Print the best accuracy score for the testing dataset\n",
        "print(f'The accuracy score for the testing dataset is {random_search.score(X_test_transformed, y_test):.4f}')"
      ],
      "metadata": {
        "colab": {
          "base_uri": "https://localhost:8080/"
        },
        "id": "n0omnQ6MiTvS",
        "outputId": "d35e9fe0-1d83-4602-ae70-405a4f0f3d13"
      },
      "execution_count": null,
      "outputs": [
        {
          "output_type": "stream",
          "name": "stdout",
          "text": [
            "The best accuracy score for the training dataset is 0.9714\n",
            "The best hyperparameters are {'kernel': 'rbf', 'gamma': 0.0001, 'C': 1000.0}\n",
            "The accuracy score for the testing dataset is 0.9737\n"
          ]
        }
      ]
    },
    {
      "cell_type": "markdown",
      "source": [
        "# Step 10: Hyperparameter Tuning Using Bayesian Optimization"
      ],
      "metadata": {
        "id": "1mni03pVjxP_"
      }
    },
    {
      "cell_type": "markdown",
      "source": [
        "In step 10, we apply Bayesian optimization on the same search space as the random search.\n",
        "\n",
        "There are different types of Bayesian optimization. `Hyperopt` is used in this example.\n",
        "\n",
        "We defined an objective function that takes in the parameters and returns the loss. Since the goal is to maximize the accuracy value, we set `max(scores)` as the `best_score`, and set the loss to be `-best_score`. This setting ensures maximizing accuracy while minimizing the loss.\n",
        "\n",
        "`fmin` is used to optimize the objective function. `Hyperopt` currently has three algorithms. They are random search, Tree of Parzen Estimators (TPE), and adaptive TPE. We are using TPE as the search algorithm."
      ],
      "metadata": {
        "id": "PVGRQqGpj5U7"
      }
    },
    {
      "cell_type": "code",
      "source": [
        "# Space\n",
        "space = {\n",
        "    'C' : hp.choice('C', C_range),\n",
        "    'gamma' : hp.choice('gamma', gamma_range.tolist()+['scale', 'auto']),\n",
        "    'kernel' : hp.choice('kernel', ['rbf', 'poly'])\n",
        "}\n",
        "\n",
        "# Set up the k-fold cross-validation\n",
        "kfold = StratifiedKFold(n_splits=3, shuffle=True, random_state=0)\n",
        "\n",
        "# Objective function\n",
        "def objective(params):\n",
        "    \n",
        "    svc = SVC(**params)\n",
        "    scores = cross_val_score(svc, X_train_transformed, y_train, cv=kfold, scoring='accuracy', n_jobs=-1)\n",
        "\n",
        "    # Extract the best score\n",
        "    best_score = max(scores)\n",
        "\n",
        "    # Loss must be minimized\n",
        "    loss = - best_score\n",
        "\n",
        "    # Dictionary with information for evaluation\n",
        "    return {'loss': loss, 'params': params, 'status': STATUS_OK}\n",
        "\n",
        "# Trials to track progress\n",
        "bayes_trials = Trials()\n",
        "\n",
        "# Optimize\n",
        "best = fmin(fn = objective, space = space, algo = tpe.suggest, max_evals = 100, trials = bayes_trials)"
      ],
      "metadata": {
        "colab": {
          "base_uri": "https://localhost:8080/"
        },
        "id": "uR728NnHYH0D",
        "outputId": "cf73567b-43f5-465e-8c19-9e07f830f926"
      },
      "execution_count": null,
      "outputs": [
        {
          "output_type": "stream",
          "name": "stdout",
          "text": [
            "100%|██████████| 100/100 [00:06<00:00, 16.61it/s, best loss: -0.9867549668874173]\n"
          ]
        }
      ]
    },
    {
      "cell_type": "markdown",
      "source": [
        "After the Bayesian optimization search, we get the best loss of -0.9868, meaning that the accuracy value is 98.68%.\n",
        "\n",
        "We can print out the parameters for best loss and their index in the search space. We got the `C` value of 1, `gamma` value of 0.1, and `kernel` value of `'poly'`."
      ],
      "metadata": {
        "id": "GRfp1mbrbcDt"
      }
    },
    {
      "cell_type": "code",
      "source": [
        "# Print the index of the best parameters\n",
        "print(best)\n",
        "\n",
        "# Print the values of the best parameters\n",
        "print(space_eval(space, best))"
      ],
      "metadata": {
        "colab": {
          "base_uri": "https://localhost:8080/"
        },
        "id": "fTnCy6yibbr9",
        "outputId": "a7790d89-7a8b-4cf6-cda1-17574920cbeb"
      },
      "execution_count": null,
      "outputs": [
        {
          "output_type": "stream",
          "name": "stdout",
          "text": [
            "{'C': 10, 'gamma': 9, 'kernel': 1}\n",
            "{'C': 1.0, 'gamma': 0.1, 'kernel': 'poly'}\n"
          ]
        }
      ]
    },
    {
      "cell_type": "markdown",
      "source": [
        "Next, we apply the best hyperparameters to the `SVC` and make predictions. It gives an accuracy score of 94.74%. \n",
        "\n",
        "Theoretically, the Bayesian optimization algorithm is more efficient than the random search algorithm. This is because random search picks hyperparameters for each model independently, while Bayesian optimization utilizes previous models' information when choosing the hyperparameters for the next model.\n",
        "\n",
        "The Bayesian optimization best model performance is not as good, probably because the number of `max_evals = 100` is not large enough for the algorithm to find the optimal values."
      ],
      "metadata": {
        "id": "t_fF9HaHbqEd"
      }
    },
    {
      "cell_type": "code",
      "source": [
        "# Train model using the best parameters\n",
        "svc_bo = SVC(C=space_eval(space, best)['C'], gamma=space_eval(space, best)['gamma'], kernel=space_eval(space, best)['kernel']).fit(X_train_transformed,y_train)\n",
        "\n",
        "# Print the best accuracy score for the testing dataset\n",
        "print(f'The accuracy score for the testing dataset is {svc_bo.score(X_test_transformed, y_test):.4f}')"
      ],
      "metadata": {
        "colab": {
          "base_uri": "https://localhost:8080/"
        },
        "id": "1scNfTltb7QR",
        "outputId": "975b4d6e-a0a6-49f1-c01f-56822db31b05"
      },
      "execution_count": null,
      "outputs": [
        {
          "output_type": "stream",
          "name": "stdout",
          "text": [
            "The accuracy score for the testing dataset is 0.9474\n"
          ]
        }
      ]
    },
    {
      "cell_type": "markdown",
      "source": [
        "# Step 11: Put All Code Together"
      ],
      "metadata": {
        "id": "UKNoPKqRhyrl"
      }
    },
    {
      "cell_type": "code",
      "source": [
        "###### Step 1: Support Vector Machine (SVM) algorithm\n",
        "\n",
        "# No code in this step\n",
        "\n",
        "\n",
        "###### Step 2: Support Vector Machine (SVM) Hyperparameters\n",
        "\n",
        "# No code in this step\n",
        "\n",
        "\n",
        "###### Step 3: Import Libraries\n",
        "\n",
        "# Dataset\n",
        "from sklearn import datasets\n",
        "\n",
        "# Data processing\n",
        "import pandas as pd\n",
        "import numpy as np\n",
        "\n",
        "# Standardize the data\n",
        "from sklearn.preprocessing import StandardScaler\n",
        "\n",
        "# Modeling \n",
        "from sklearn.model_selection import train_test_split\n",
        "from sklearn.svm import SVC\n",
        "\n",
        "# Hyperparameter tuning\n",
        "from sklearn.model_selection import StratifiedKFold, GridSearchCV, RandomizedSearchCV, cross_val_score\n",
        "from hyperopt import tpe, STATUS_OK, Trials, hp, fmin, STATUS_OK, space_eval\n",
        "\n",
        "\n",
        "###### Step 4: Read Data\n",
        "\n",
        "# Load the breast cancer dataset\n",
        "data = datasets.load_breast_cancer()\n",
        "\n",
        "# Put the data in pandas dataframe format\n",
        "df = pd.DataFrame(data=data.data, columns=data.feature_names)\n",
        "df['target']=data.target\n",
        "\n",
        "# Check the data information\n",
        "df.info()\n",
        "\n",
        "# Check the target value distribution\n",
        "df['target'].value_counts(normalize=True)\n",
        "\n",
        "\n",
        "###### Step 5: Train Test Split\n",
        "\n",
        "# Train test split\n",
        "X_train, X_test, y_train, y_test = train_test_split(df[df.columns.difference(['target'])], df['target'], test_size=0.2, random_state=42)\n",
        "\n",
        "# Check the number of records in training and testing dataset.\n",
        "print(f'The training dataset has {len(X_train)} records.')\n",
        "print(f'The testing dataset has {len(X_test)} records.')\n",
        "\n",
        "\n",
        "###### Step 6: Standardization\n",
        "\n",
        "# Initiate scaler\n",
        "sc = StandardScaler()\n",
        "\n",
        "# Standardize the training dataset\n",
        "X_train_transformed = pd.DataFrame(sc.fit_transform(X_train),index=X_train.index, columns=X_train.columns)\n",
        "\n",
        "# Standardized the testing dataset\n",
        "X_test_transformed = pd.DataFrame(sc.transform(X_test),index=X_test.index, columns=X_test.columns)\n",
        "\n",
        "# Summary statistics after standardization\n",
        "X_train_transformed.describe().T\n",
        "\n",
        "\n",
        "###### Step 7: Support Vector Machine (SVM) Default Hyperparameters\n",
        "\n",
        "# Check default values\n",
        "svc = SVC()\n",
        "params = svc.get_params()\n",
        "params_df = pd.DataFrame(params, index=[0])\n",
        "params_df.T\n",
        "\n",
        "# Run model\n",
        "svc.fit(X_train_transformed, y_train)\n",
        "\n",
        "# Accuracy score\n",
        "print(f'The accuracy score of the model is {svc.score(X_test_transformed, y_test):.4f}')\n",
        "\n",
        "\n",
        "###### Step 8: Hyperparameter Tuning Using Grid Search\n",
        "\n",
        "# List of C values\n",
        "C_range = np.logspace(-1, 1, 3)\n",
        "print(f'The list of values for C are {C_range}')\n",
        "\n",
        "# List of gamma values\n",
        "gamma_range = np.logspace(-1, 1, 3)\n",
        "print(f'The list of values for gamma are {gamma_range}')\n",
        "\n",
        "# Define the search space\n",
        "param_grid = { \n",
        "    # Regularization parameter.\n",
        "    \"C\": C_range,\n",
        "    # Kernel type\n",
        "    \"kernel\": ['rbf', 'poly'],\n",
        "    # Gamma is the Kernel coefficient for ‘rbf’, ‘poly’ and ‘sigmoid’.\n",
        "    \"gamma\": gamma_range.tolist()+['scale', 'auto']\n",
        "    }\n",
        "\n",
        "# Set up score\n",
        "scoring = ['accuracy']\n",
        "\n",
        "# Set up the k-fold cross-validation\n",
        "kfold = StratifiedKFold(n_splits=3, shuffle=True, random_state=0)\n",
        "\n",
        "# Define grid search\n",
        "grid_search = GridSearchCV(estimator=svc, \n",
        "                           param_grid=param_grid, \n",
        "                           scoring=scoring, \n",
        "                           refit='accuracy', \n",
        "                           n_jobs=-1, \n",
        "                           cv=kfold, \n",
        "                           verbose=0)\n",
        "\n",
        "# Fit grid search\n",
        "grid_result = grid_search.fit(X_train_transformed, y_train)\n",
        "\n",
        "# Print grid search summary\n",
        "grid_result\n",
        "\n",
        "# Print the best accuracy score for the training dataset\n",
        "print(f'The best accuracy score for the training dataset is {grid_result.best_score_:.4f}')\n",
        "\n",
        "# Print the hyperparameters for the best score\n",
        "print(f'The best hyperparameters are {grid_result.best_params_}')\n",
        "\n",
        "# Print the best accuracy score for the testing dataset\n",
        "print(f'The accuracy score for the testing dataset is {grid_search.score(X_test_transformed, y_test):.4f}')\n",
        "\n",
        "\n",
        "###### Step 9: Hyperparameter Tuning Using Random Search\n",
        "\n",
        "# List of C values\n",
        "C_range = np.logspace(-10, 10, 21)\n",
        "print(f'The list of values for C are {C_range}')\n",
        "\n",
        "# List of gamma values\n",
        "gamma_range = np.logspace(-10, 10, 21)\n",
        "print(f'The list of values for gamma are {gamma_range}')\n",
        "\n",
        "# Define the search space\n",
        "param_grid = { \n",
        "    # Regularization parameter.\n",
        "    \"C\": C_range,\n",
        "    # Kernel type\n",
        "    \"kernel\": ['rbf', 'poly'],\n",
        "    # Gamma is the Kernel coefficient for ‘rbf’, ‘poly’ and ‘sigmoid’.\n",
        "    \"gamma\": gamma_range\n",
        "    }\n",
        "\n",
        "# Set up score\n",
        "scoring = ['accuracy']\n",
        "\n",
        "# Set up the k-fold cross-validation\n",
        "kfold = StratifiedKFold(n_splits=3, shuffle=True, random_state=0)\n",
        "\n",
        "# Define random search\n",
        "random_search = RandomizedSearchCV(estimator=svc, \n",
        "                           param_distributions=param_grid, \n",
        "                           n_iter=100,\n",
        "                           scoring=scoring, \n",
        "                           refit='accuracy', \n",
        "                           n_jobs=-1, \n",
        "                           cv=kfold, \n",
        "                           verbose=0)\n",
        "\n",
        "# Fit grid search\n",
        "random_result = random_search.fit(X_train_transformed, y_train)\n",
        "\n",
        "# Print grid search summary\n",
        "random_result\n",
        "\n",
        "# Print the best accuracy score for the training dataset\n",
        "print(f'The best accuracy score for the training dataset is {random_result.best_score_:.4f}')\n",
        "\n",
        "# Print the hyperparameters for the best score\n",
        "print(f'The best hyperparameters are {random_result.best_params_}')\n",
        "\n",
        "# Print the best accuracy score for the testing dataset\n",
        "print(f'The accuracy score for the testing dataset is {random_search.score(X_test_transformed, y_test):.4f}')\n",
        "\n",
        "\n",
        "###### Step 10: Hyperparameter Tuning Using Bayesian Optimization\n",
        "\n",
        "# Space\n",
        "space = {\n",
        "    'C' : hp.choice('C', C_range),\n",
        "    'gamma' : hp.choice('gamma', gamma_range),\n",
        "    'kernel' : hp.choice('kernel', ['rbf', 'poly'])\n",
        "}\n",
        "\n",
        "# Set up the k-fold cross-validation\n",
        "kfold = StratifiedKFold(n_splits=3, shuffle=True, random_state=0)\n",
        "\n",
        "# Objective function\n",
        "def objective(params):\n",
        "    \n",
        "    svc = SVC(**params)\n",
        "    scores = cross_val_score(svc, X_train_transformed, y_train, cv=kfold, scoring='accuracy', n_jobs=-1)\n",
        "\n",
        "    # Extract the best score\n",
        "    best_score = max(scores)\n",
        "\n",
        "    # Loss must be minimized\n",
        "    loss = - best_score\n",
        "\n",
        "    # Dictionary with information for evaluation\n",
        "    return {'loss': loss, 'params': params, 'status': STATUS_OK}\n",
        "\n",
        "# Trials to track progress\n",
        "bayes_trials = Trials()\n",
        "\n",
        "# Optimize\n",
        "best = fmin(fn = objective, space = space, algo = tpe.suggest, max_evals = 100, trials = bayes_trials)\n",
        "\n",
        "# Print the index of the best parameters\n",
        "print(best)\n",
        "\n",
        "# Print the values of the best parameters\n",
        "print(space_eval(space, best))\n",
        "\n",
        "# Train model using the best parameters\n",
        "svc_bo = SVC(C=space_eval(space, best)['C'], gamma=space_eval(space, best)['gamma'], kernel=space_eval(space, best)['kernel']).fit(X_train_transformed,y_train)\n",
        "\n",
        "# Print the best accuracy score for the testing dataset\n",
        "print(f'The accuracy score for the testing dataset is {svc_bo.score(X_test_transformed, y_test):.4f}')"
      ],
      "metadata": {
        "id": "MCEkRTo7h5a7"
      },
      "execution_count": null,
      "outputs": []
    },
    {
      "cell_type": "markdown",
      "source": [
        "# Summary"
      ],
      "metadata": {
        "id": "W-V_pbTph51F"
      }
    },
    {
      "cell_type": "markdown",
      "source": [
        "In this tutorial, we covered how to tune Support Vector Machine (SVM) hyperparameters using Python. you learned:\n",
        "* What's the intuition for the Support Vector Machine (SVM) algorithm?\n",
        "* What are the most important hyperparameters for Support Vector Machine (SVM)?\n",
        "* How to do hyperparameter tuning for Support Vector Machine (SVM) in Python using grid search, random search, and Bayesian optimization?\n",
        "\n",
        "We used a toy dataset for this example to illustrate the hyperparameter tuning process. In real projects, I usually see random search and Bayesian optimization produce the best model performances."
      ],
      "metadata": {
        "id": "sxhS35QXh9Hq"
      }
    },
    {
      "cell_type": "markdown",
      "source": [
        "# Recommended Tutorials"
      ],
      "metadata": {
        "id": "EYDsxEO9qzeP"
      }
    },
    {
      "cell_type": "markdown",
      "source": [
        "- [GrabNGoInfo Machine Learning Tutorials Inventory](https://medium.com/grabngoinfo/grabngoinfo-machine-learning-tutorials-inventory-9b9d78ebdd67)\n",
        "- [Hierarchical Topic Model for Airbnb Reviews](https://medium.com/p/hierarchical-topic-model-for-airbnb-reviews-f772eaa30434)\n",
        "- [3 Ways for Multiple Time Series Forecasting Using Prophet in Python](https://medium.com/p/3-ways-for-multiple-time-series-forecasting-using-prophet-in-python-7a0709a117f9)\n",
        "- [Time Series Anomaly Detection Using Prophet in Python](https://medium.com/grabngoinfo/time-series-anomaly-detection-using-prophet-in-python-877d2b7b14b4)\n",
        "- [Time Series Causal Impact Analysis in Python](https://medium.com/grabngoinfo/time-series-causal-impact-analysis-in-python-63eacb1df5cc)\n",
        "- [Hyperparameter Tuning For XGBoost](https://medium.com/p/hyperparameter-tuning-for-xgboost-91449869c57e)\n",
        "- [Four Oversampling And Under-Sampling Methods For Imbalanced Classification Using Python](https://medium.com/p/four-oversampling-and-under-sampling-methods-for-imbalanced-classification-using-python-7304aedf9037)\n",
        "- [Five Ways To Create Tables In Databricks](https://medium.com/grabngoinfo/five-ways-to-create-tables-in-databricks-cd3847cfc3aa)\n",
        "- [Explainable S-Learner Uplift Model Using Python Package CausalML](https://medium.com/grabngoinfo/explainable-s-learner-uplift-model-using-python-package-causalml-a3c2bed3497c)\n",
        "- [One-Class SVM For Anomaly Detection](https://medium.com/p/one-class-svm-for-anomaly-detection-6c97fdd6d8af)\n",
        "- [Recommendation System: Item-Based Collaborative Filtering](https://medium.com/grabngoinfo/recommendation-system-item-based-collaborative-filtering-f5078504996a)\n",
        "- [Hyperparameter Tuning for Time Series Causal Impact Analysis in Python](https://medium.com/grabngoinfo/hyperparameter-tuning-for-time-series-causal-impact-analysis-in-python-c8f7246c4d22)\n",
        "- [Hyperparameter Tuning and Regularization for Time Series Model Using Prophet in Python](https://medium.com/grabngoinfo/hyperparameter-tuning-and-regularization-for-time-series-model-using-prophet-in-python-9791370a07dc)\n",
        "- [Multivariate Time Series Forecasting with Seasonality and Holiday Effect Using Prophet in Python](https://medium.com/p/multivariate-time-series-forecasting-with-seasonality-and-holiday-effect-using-prophet-in-python-d5d4150eeb57)\n",
        "- [LASSO (L1) Vs Ridge (L2) Vs Elastic Net Regularization For Classification Model](https://medium.com/towards-artificial-intelligence/lasso-l1-vs-ridge-l2-vs-elastic-net-regularization-for-classification-model-409c3d86f6e9)\n",
        "- [S Learner Uplift Model for Individual Treatment Effect and Customer Segmentation in Python](https://medium.com/grabngoinfo/s-learner-uplift-model-for-individual-treatment-effect-and-customer-segmentation-in-python-9d410746e122)\n",
        "- [How to Use R with Google Colab Notebook](https://medium.com/p/how-to-use-r-with-google-colab-notebook-610c3a2f0eab)"
      ],
      "metadata": {
        "id": "r8_3v6pkrO4v"
      }
    },
    {
      "cell_type": "markdown",
      "source": [
        "# References\n",
        "* [StatQuest Support Vector Machines Part 1](https://www.youtube.com/watch?v=efR1C6CvhmE) \n",
        "* [Sklearn Support Vector Classification Documentation](https://scikit-learn.org/stable/modules/generated/sklearn.svm.SVC.html#sklearn.svm.SVC)\n",
        "* [RBF SVM parameters](https://scikit-learn.org/stable/auto_examples/svm/plot_rbf_parameters.html)"
      ],
      "metadata": {
        "id": "thpHzA52_rBt"
      }
    }
  ]
}