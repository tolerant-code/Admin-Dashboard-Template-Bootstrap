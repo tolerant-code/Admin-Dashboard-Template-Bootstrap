{
  "cells": [
    {
      "cell_type": "markdown",
      "metadata": {
        "id": "view-in-github",
        "colab_type": "text"
      },
      "source": [
        "<a href=\"https://colab.research.google.com/github/tolerant-code/Admin-Dashboard-Template-Bootstrap/blob/master/T2I_Using_GAN.ipynb\" target=\"_parent\"><img src=\"https://colab.research.google.com/assets/colab-badge.svg\" alt=\"Open In Colab\"/></a>"
      ]
    },
    {
      "cell_type": "markdown",
      "metadata": {
        "id": "4YMw-jEMHU0-"
      },
      "source": [
        "# **Drive**"
      ]
    },
    {
      "cell_type": "code",
      "execution_count": 8,
      "metadata": {
        "colab": {
          "base_uri": "https://localhost:8080/"
        },
        "id": "NjfAbHbmSNsq",
        "outputId": "bc861732-063a-48d4-aa85-79f7599f9906"
      },
      "outputs": [
        {
          "output_type": "stream",
          "name": "stdout",
          "text": [
            "Drive already mounted at /content/drive; to attempt to forcibly remount, call drive.mount(\"/content/drive\", force_remount=True).\n"
          ]
        }
      ],
      "source": [
        "from google.colab import drive\n",
        "drive.mount('/content/drive')"
      ]
    },
    {
      "cell_type": "code",
      "source": [
        "import os\n",
        "import numpy as np\n",
        "from keras.preprocessing.image import load_img, img_to_array\n",
        "from keras.applications.vgg16 import VGG16, preprocess_input\n",
        "from keras.models import Model\n",
        "from keras.layers import Input, Dense, LSTM, Embedding, Dropout, BatchNormalization\n",
        "from keras.preprocessing.text import Tokenizer\n",
        "from keras.preprocessing.sequence import pad_sequences\n",
        "from transformers import AutoTokenizer\n",
        "\n",
        "# Define the paths\n",
        "image_dir = \"/content/drive/MyDrive/Masters Thesis/TestData/image\"\n",
        "caption_dir = \"/content/drive/MyDrive/Masters Thesis/TestData/Captions\"\n",
        "\n",
        "# Define image dimensions\n",
        "img_width, img_height, channels = 64, 64, 3\n",
        "\n",
        "# Create lists to store images and corresponding captions\n",
        "images = []\n",
        "all_captions = []\n",
        "\n",
        "# Iterate over each image folder\n",
        "for class_folder in os.listdir(image_dir):\n",
        "    class_image_dir = os.path.join(image_dir, class_folder)\n",
        "    class_caption_dir = os.path.join(caption_dir, class_folder)\n",
        "\n",
        "    # Iterate through each image file in the class folder\n",
        "    for image_filename in os.listdir(class_image_dir):\n",
        "        # Check if the file is an image\n",
        "        if image_filename.endswith(('.jpg', '.jpeg', '.png')):\n",
        "            # Load image\n",
        "            image_path = os.path.join(class_image_dir, image_filename)\n",
        "            image = load_img(image_path, target_size=(img_width, img_height))\n",
        "            image = img_to_array(image)\n",
        "            images.append(image)\n",
        "\n",
        "            # Extract image name without extension\n",
        "            image_name = os.path.splitext(image_filename)[0]\n",
        "\n",
        "            # Find corresponding caption file\n",
        "            caption_filename = image_name + \".txt\"\n",
        "            caption_path = os.path.join(class_caption_dir, caption_filename)\n",
        "            # Read captions if caption file exists\n",
        "            if os.path.exists(caption_path):\n",
        "                with open(caption_path, \"r\", encoding=\"utf-8\") as file:\n",
        "                    captions = file.read().strip().split('\\n')\n",
        "                    all_captions.append(captions)\n",
        "            else:\n",
        "                print(\"No caption file found for\", image_filename)\n",
        "                images.pop()  # Remove the image if no caption file is found\n",
        "\n",
        "# Convert the lists to NumPy arrays\n",
        "images = np.array(images)\n",
        "\n",
        "# Load Pre-Trained Amharic Tokenizer\n",
        "tokenizer = AutoTokenizer.from_pretrained(\"Amharic-BERT\")\n",
        "\n",
        "# Tokenize Amharic Captions\n",
        "caption_sequences = [tokenizer.encode(caption, add_special_tokens=True) for captions in all_captions.ravel()]\n",
        "caption_tokens = np.array(caption_sequences)\n",
        "\n",
        "# Extract maximum caption length\n",
        "max_caption_length = max(len(seq) for seq in caption_sequences)\n",
        "\n",
        "# Create the Embedding layer\n",
        "embedding_dim = 100\n",
        "vocab_size = tokenizer.vocab_size\n",
        "embedding_layer = Embedding(input_dim=vocab_size, output_dim=embedding_dim, input_length=max_caption_length)\n",
        "\n",
        "# ... Continue with the rest of your code\n"
      ],
      "metadata": {
        "colab": {
          "base_uri": "https://localhost:8080/",
          "height": 669
        },
        "id": "2bfv6UZA-MQX",
        "outputId": "478575a1-f0f2-4676-b610-d0feeb1911d6"
      },
      "execution_count": 7,
      "outputs": [
        {
          "output_type": "stream",
          "name": "stdout",
          "text": [
            "No caption file found for Horned_Grebe_0101_35203 (1).jpg\n",
            "No caption file found for Horned_Grebe_0102_34448 (1).jpg\n",
            "No caption file found for Horned_Grebe_0112_34864 (1).jpg\n",
            "No caption file found for Horned_Grebe_0103_34822 (1).jpg\n",
            "No caption file found for Horned_Grebe_0099_34989 (1).jpg\n",
            "No caption file found for Horned_Grebe_0114_34517 (1).jpg\n",
            "No caption file found for Horned_Grebe_0100_34462 (1).jpg\n",
            "No caption file found for Horned_Grebe_0106_35112 (1).jpg\n",
            "No caption file found for Horned_Grebe_0110_35012 (1).jpg\n",
            "No caption file found for Blue_Grosbeak_0067_36965 (1).jpg\n",
            "No caption file found for Blue_Grosbeak_0073_37148 (1).jpg\n",
            "No caption file found for Blue_Grosbeak_0072_36774 (1).jpg\n",
            "No caption file found for Blue_Grosbeak_0066_36632 (1).jpg\n",
            "No caption file found for Blue_Grosbeak_0065_36847 (1).jpg\n",
            "No caption file found for Blue_Grosbeak_0074_37155 (1).jpg\n",
            "No caption file found for Blue_Grosbeak_0071_36948 (1).jpg\n",
            "No caption file found for Blue_Grosbeak_0075_36963 (1).jpg\n",
            "No caption file found for Pigeon_Guillemot_0098_39902.jpg\n"
          ]
        },
        {
          "output_type": "error",
          "ename": "KeyboardInterrupt",
          "evalue": "",
          "traceback": [
            "\u001b[0;31m---------------------------------------------------------------------------\u001b[0m",
            "\u001b[0;31mKeyboardInterrupt\u001b[0m                         Traceback (most recent call last)",
            "\u001b[0;32m<ipython-input-7-ab66ecb850d1>\u001b[0m in \u001b[0;36m<cell line: 56>\u001b[0;34m()\u001b[0m\n\u001b[1;32m     54\u001b[0m \u001b[0;34m\u001b[0m\u001b[0m\n\u001b[1;32m     55\u001b[0m \u001b[0;31m# Load Pre-Trained Amharic Tokenizer\u001b[0m\u001b[0;34m\u001b[0m\u001b[0;34m\u001b[0m\u001b[0m\n\u001b[0;32m---> 56\u001b[0;31m \u001b[0mtokenizer\u001b[0m \u001b[0;34m=\u001b[0m \u001b[0mAutoTokenizer\u001b[0m\u001b[0;34m.\u001b[0m\u001b[0mfrom_pretrained\u001b[0m\u001b[0;34m(\u001b[0m\u001b[0;34m\"Amharic-BERT\"\u001b[0m\u001b[0;34m)\u001b[0m\u001b[0;34m\u001b[0m\u001b[0;34m\u001b[0m\u001b[0m\n\u001b[0m\u001b[1;32m     57\u001b[0m \u001b[0;34m\u001b[0m\u001b[0m\n\u001b[1;32m     58\u001b[0m \u001b[0;31m# Tokenize Amharic Captions\u001b[0m\u001b[0;34m\u001b[0m\u001b[0;34m\u001b[0m\u001b[0m\n",
            "\u001b[0;32m/usr/local/lib/python3.10/dist-packages/transformers/models/auto/tokenization_auto.py\u001b[0m in \u001b[0;36mfrom_pretrained\u001b[0;34m(cls, pretrained_model_name_or_path, *inputs, **kwargs)\u001b[0m\n\u001b[1;32m    765\u001b[0m \u001b[0;34m\u001b[0m\u001b[0m\n\u001b[1;32m    766\u001b[0m         \u001b[0;31m# Next, let's try to use the tokenizer_config file to get the tokenizer class.\u001b[0m\u001b[0;34m\u001b[0m\u001b[0;34m\u001b[0m\u001b[0m\n\u001b[0;32m--> 767\u001b[0;31m         \u001b[0mtokenizer_config\u001b[0m \u001b[0;34m=\u001b[0m \u001b[0mget_tokenizer_config\u001b[0m\u001b[0;34m(\u001b[0m\u001b[0mpretrained_model_name_or_path\u001b[0m\u001b[0;34m,\u001b[0m \u001b[0;34m**\u001b[0m\u001b[0mkwargs\u001b[0m\u001b[0;34m)\u001b[0m\u001b[0;34m\u001b[0m\u001b[0;34m\u001b[0m\u001b[0m\n\u001b[0m\u001b[1;32m    768\u001b[0m         \u001b[0;32mif\u001b[0m \u001b[0;34m\"_commit_hash\"\u001b[0m \u001b[0;32min\u001b[0m \u001b[0mtokenizer_config\u001b[0m\u001b[0;34m:\u001b[0m\u001b[0;34m\u001b[0m\u001b[0;34m\u001b[0m\u001b[0m\n\u001b[1;32m    769\u001b[0m             \u001b[0mkwargs\u001b[0m\u001b[0;34m[\u001b[0m\u001b[0;34m\"_commit_hash\"\u001b[0m\u001b[0;34m]\u001b[0m \u001b[0;34m=\u001b[0m \u001b[0mtokenizer_config\u001b[0m\u001b[0;34m[\u001b[0m\u001b[0;34m\"_commit_hash\"\u001b[0m\u001b[0;34m]\u001b[0m\u001b[0;34m\u001b[0m\u001b[0;34m\u001b[0m\u001b[0m\n",
            "\u001b[0;32m/usr/local/lib/python3.10/dist-packages/transformers/models/auto/tokenization_auto.py\u001b[0m in \u001b[0;36mget_tokenizer_config\u001b[0;34m(pretrained_model_name_or_path, cache_dir, force_download, resume_download, proxies, token, revision, local_files_only, subfolder, **kwargs)\u001b[0m\n\u001b[1;32m    598\u001b[0m \u001b[0;34m\u001b[0m\u001b[0m\n\u001b[1;32m    599\u001b[0m     \u001b[0mcommit_hash\u001b[0m \u001b[0;34m=\u001b[0m \u001b[0mkwargs\u001b[0m\u001b[0;34m.\u001b[0m\u001b[0mget\u001b[0m\u001b[0;34m(\u001b[0m\u001b[0;34m\"_commit_hash\"\u001b[0m\u001b[0;34m,\u001b[0m \u001b[0;32mNone\u001b[0m\u001b[0;34m)\u001b[0m\u001b[0;34m\u001b[0m\u001b[0;34m\u001b[0m\u001b[0m\n\u001b[0;32m--> 600\u001b[0;31m     resolved_config_file = cached_file(\n\u001b[0m\u001b[1;32m    601\u001b[0m         \u001b[0mpretrained_model_name_or_path\u001b[0m\u001b[0;34m,\u001b[0m\u001b[0;34m\u001b[0m\u001b[0;34m\u001b[0m\u001b[0m\n\u001b[1;32m    602\u001b[0m         \u001b[0mTOKENIZER_CONFIG_FILE\u001b[0m\u001b[0;34m,\u001b[0m\u001b[0;34m\u001b[0m\u001b[0;34m\u001b[0m\u001b[0m\n",
            "\u001b[0;32m/usr/local/lib/python3.10/dist-packages/transformers/utils/hub.py\u001b[0m in \u001b[0;36mcached_file\u001b[0;34m(path_or_repo_id, filename, cache_dir, force_download, resume_download, proxies, token, revision, local_files_only, subfolder, repo_type, user_agent, _raise_exceptions_for_gated_repo, _raise_exceptions_for_missing_entries, _raise_exceptions_for_connection_errors, _commit_hash, **deprecated_kwargs)\u001b[0m\n\u001b[1;32m    396\u001b[0m     \u001b[0;32mtry\u001b[0m\u001b[0;34m:\u001b[0m\u001b[0;34m\u001b[0m\u001b[0;34m\u001b[0m\u001b[0m\n\u001b[1;32m    397\u001b[0m         \u001b[0;31m# Load from URL or cache if already cached\u001b[0m\u001b[0;34m\u001b[0m\u001b[0;34m\u001b[0m\u001b[0m\n\u001b[0;32m--> 398\u001b[0;31m         resolved_file = hf_hub_download(\n\u001b[0m\u001b[1;32m    399\u001b[0m             \u001b[0mpath_or_repo_id\u001b[0m\u001b[0;34m,\u001b[0m\u001b[0;34m\u001b[0m\u001b[0;34m\u001b[0m\u001b[0m\n\u001b[1;32m    400\u001b[0m             \u001b[0mfilename\u001b[0m\u001b[0;34m,\u001b[0m\u001b[0;34m\u001b[0m\u001b[0;34m\u001b[0m\u001b[0m\n",
            "\u001b[0;32m/usr/local/lib/python3.10/dist-packages/huggingface_hub/utils/_validators.py\u001b[0m in \u001b[0;36m_inner_fn\u001b[0;34m(*args, **kwargs)\u001b[0m\n\u001b[1;32m    116\u001b[0m             \u001b[0mkwargs\u001b[0m \u001b[0;34m=\u001b[0m \u001b[0msmoothly_deprecate_use_auth_token\u001b[0m\u001b[0;34m(\u001b[0m\u001b[0mfn_name\u001b[0m\u001b[0;34m=\u001b[0m\u001b[0mfn\u001b[0m\u001b[0;34m.\u001b[0m\u001b[0m__name__\u001b[0m\u001b[0;34m,\u001b[0m \u001b[0mhas_token\u001b[0m\u001b[0;34m=\u001b[0m\u001b[0mhas_token\u001b[0m\u001b[0;34m,\u001b[0m \u001b[0mkwargs\u001b[0m\u001b[0;34m=\u001b[0m\u001b[0mkwargs\u001b[0m\u001b[0;34m)\u001b[0m\u001b[0;34m\u001b[0m\u001b[0;34m\u001b[0m\u001b[0m\n\u001b[1;32m    117\u001b[0m \u001b[0;34m\u001b[0m\u001b[0m\n\u001b[0;32m--> 118\u001b[0;31m         \u001b[0;32mreturn\u001b[0m \u001b[0mfn\u001b[0m\u001b[0;34m(\u001b[0m\u001b[0;34m*\u001b[0m\u001b[0margs\u001b[0m\u001b[0;34m,\u001b[0m \u001b[0;34m**\u001b[0m\u001b[0mkwargs\u001b[0m\u001b[0;34m)\u001b[0m\u001b[0;34m\u001b[0m\u001b[0;34m\u001b[0m\u001b[0m\n\u001b[0m\u001b[1;32m    119\u001b[0m \u001b[0;34m\u001b[0m\u001b[0m\n\u001b[1;32m    120\u001b[0m     \u001b[0;32mreturn\u001b[0m \u001b[0m_inner_fn\u001b[0m  \u001b[0;31m# type: ignore\u001b[0m\u001b[0;34m\u001b[0m\u001b[0;34m\u001b[0m\u001b[0m\n",
            "\u001b[0;32m/usr/local/lib/python3.10/dist-packages/huggingface_hub/file_download.py\u001b[0m in \u001b[0;36mhf_hub_download\u001b[0;34m(repo_id, filename, subfolder, repo_type, revision, library_name, library_version, cache_dir, local_dir, local_dir_use_symlinks, user_agent, force_download, force_filename, proxies, etag_timeout, resume_download, token, local_files_only, legacy_cache_layout, endpoint)\u001b[0m\n\u001b[1;32m   1221\u001b[0m     \u001b[0murl\u001b[0m \u001b[0;34m=\u001b[0m \u001b[0mhf_hub_url\u001b[0m\u001b[0;34m(\u001b[0m\u001b[0mrepo_id\u001b[0m\u001b[0;34m,\u001b[0m \u001b[0mfilename\u001b[0m\u001b[0;34m,\u001b[0m \u001b[0mrepo_type\u001b[0m\u001b[0;34m=\u001b[0m\u001b[0mrepo_type\u001b[0m\u001b[0;34m,\u001b[0m \u001b[0mrevision\u001b[0m\u001b[0;34m=\u001b[0m\u001b[0mrevision\u001b[0m\u001b[0;34m,\u001b[0m \u001b[0mendpoint\u001b[0m\u001b[0;34m=\u001b[0m\u001b[0mendpoint\u001b[0m\u001b[0;34m)\u001b[0m\u001b[0;34m\u001b[0m\u001b[0;34m\u001b[0m\u001b[0m\n\u001b[1;32m   1222\u001b[0m \u001b[0;34m\u001b[0m\u001b[0m\n\u001b[0;32m-> 1223\u001b[0;31m     headers = build_hf_headers(\n\u001b[0m\u001b[1;32m   1224\u001b[0m         \u001b[0mtoken\u001b[0m\u001b[0;34m=\u001b[0m\u001b[0mtoken\u001b[0m\u001b[0;34m,\u001b[0m\u001b[0;34m\u001b[0m\u001b[0;34m\u001b[0m\u001b[0m\n\u001b[1;32m   1225\u001b[0m         \u001b[0mlibrary_name\u001b[0m\u001b[0;34m=\u001b[0m\u001b[0mlibrary_name\u001b[0m\u001b[0;34m,\u001b[0m\u001b[0;34m\u001b[0m\u001b[0;34m\u001b[0m\u001b[0m\n",
            "\u001b[0;32m/usr/local/lib/python3.10/dist-packages/huggingface_hub/utils/_validators.py\u001b[0m in \u001b[0;36m_inner_fn\u001b[0;34m(*args, **kwargs)\u001b[0m\n\u001b[1;32m    116\u001b[0m             \u001b[0mkwargs\u001b[0m \u001b[0;34m=\u001b[0m \u001b[0msmoothly_deprecate_use_auth_token\u001b[0m\u001b[0;34m(\u001b[0m\u001b[0mfn_name\u001b[0m\u001b[0;34m=\u001b[0m\u001b[0mfn\u001b[0m\u001b[0;34m.\u001b[0m\u001b[0m__name__\u001b[0m\u001b[0;34m,\u001b[0m \u001b[0mhas_token\u001b[0m\u001b[0;34m=\u001b[0m\u001b[0mhas_token\u001b[0m\u001b[0;34m,\u001b[0m \u001b[0mkwargs\u001b[0m\u001b[0;34m=\u001b[0m\u001b[0mkwargs\u001b[0m\u001b[0;34m)\u001b[0m\u001b[0;34m\u001b[0m\u001b[0;34m\u001b[0m\u001b[0m\n\u001b[1;32m    117\u001b[0m \u001b[0;34m\u001b[0m\u001b[0m\n\u001b[0;32m--> 118\u001b[0;31m         \u001b[0;32mreturn\u001b[0m \u001b[0mfn\u001b[0m\u001b[0;34m(\u001b[0m\u001b[0;34m*\u001b[0m\u001b[0margs\u001b[0m\u001b[0;34m,\u001b[0m \u001b[0;34m**\u001b[0m\u001b[0mkwargs\u001b[0m\u001b[0;34m)\u001b[0m\u001b[0;34m\u001b[0m\u001b[0;34m\u001b[0m\u001b[0m\n\u001b[0m\u001b[1;32m    119\u001b[0m \u001b[0;34m\u001b[0m\u001b[0m\n\u001b[1;32m    120\u001b[0m     \u001b[0;32mreturn\u001b[0m \u001b[0m_inner_fn\u001b[0m  \u001b[0;31m# type: ignore\u001b[0m\u001b[0;34m\u001b[0m\u001b[0;34m\u001b[0m\u001b[0m\n",
            "\u001b[0;32m/usr/local/lib/python3.10/dist-packages/huggingface_hub/utils/_headers.py\u001b[0m in \u001b[0;36mbuild_hf_headers\u001b[0;34m(token, is_write_action, library_name, library_version, user_agent)\u001b[0m\n\u001b[1;32m    119\u001b[0m     \"\"\"\n\u001b[1;32m    120\u001b[0m     \u001b[0;31m# Get auth token to send\u001b[0m\u001b[0;34m\u001b[0m\u001b[0;34m\u001b[0m\u001b[0m\n\u001b[0;32m--> 121\u001b[0;31m     \u001b[0mtoken_to_send\u001b[0m \u001b[0;34m=\u001b[0m \u001b[0mget_token_to_send\u001b[0m\u001b[0;34m(\u001b[0m\u001b[0mtoken\u001b[0m\u001b[0;34m)\u001b[0m\u001b[0;34m\u001b[0m\u001b[0;34m\u001b[0m\u001b[0m\n\u001b[0m\u001b[1;32m    122\u001b[0m     \u001b[0m_validate_token_to_send\u001b[0m\u001b[0;34m(\u001b[0m\u001b[0mtoken_to_send\u001b[0m\u001b[0;34m,\u001b[0m \u001b[0mis_write_action\u001b[0m\u001b[0;34m=\u001b[0m\u001b[0mis_write_action\u001b[0m\u001b[0;34m)\u001b[0m\u001b[0;34m\u001b[0m\u001b[0;34m\u001b[0m\u001b[0m\n\u001b[1;32m    123\u001b[0m \u001b[0;34m\u001b[0m\u001b[0m\n",
            "\u001b[0;32m/usr/local/lib/python3.10/dist-packages/huggingface_hub/utils/_headers.py\u001b[0m in \u001b[0;36mget_token_to_send\u001b[0;34m(token)\u001b[0m\n\u001b[1;32m    146\u001b[0m \u001b[0;34m\u001b[0m\u001b[0m\n\u001b[1;32m    147\u001b[0m     \u001b[0;31m# Token is not provided: we get it from local cache\u001b[0m\u001b[0;34m\u001b[0m\u001b[0;34m\u001b[0m\u001b[0m\n\u001b[0;32m--> 148\u001b[0;31m     \u001b[0mcached_token\u001b[0m \u001b[0;34m=\u001b[0m \u001b[0mget_token\u001b[0m\u001b[0;34m(\u001b[0m\u001b[0;34m)\u001b[0m\u001b[0;34m\u001b[0m\u001b[0;34m\u001b[0m\u001b[0m\n\u001b[0m\u001b[1;32m    149\u001b[0m \u001b[0;34m\u001b[0m\u001b[0m\n\u001b[1;32m    150\u001b[0m     \u001b[0;31m# Case token is explicitly required\u001b[0m\u001b[0;34m\u001b[0m\u001b[0;34m\u001b[0m\u001b[0m\n",
            "\u001b[0;32m/usr/local/lib/python3.10/dist-packages/huggingface_hub/utils/_token.py\u001b[0m in \u001b[0;36mget_token\u001b[0;34m()\u001b[0m\n\u001b[1;32m     42\u001b[0m         \u001b[0;31m`\u001b[0m\u001b[0mstr\u001b[0m\u001b[0;31m`\u001b[0m \u001b[0;32mor\u001b[0m\u001b[0;31m \u001b[0m\u001b[0;31m`\u001b[0m\u001b[0;32mNone\u001b[0m\u001b[0;31m`\u001b[0m\u001b[0;34m:\u001b[0m \u001b[0mThe\u001b[0m \u001b[0mtoken\u001b[0m\u001b[0;34m,\u001b[0m\u001b[0;31m \u001b[0m\u001b[0;31m`\u001b[0m\u001b[0;32mNone\u001b[0m\u001b[0;31m`\u001b[0m \u001b[0;32mif\u001b[0m \u001b[0mit\u001b[0m \u001b[0mdoesn\u001b[0m\u001b[0;31m'\u001b[0m\u001b[0mt\u001b[0m \u001b[0mexist\u001b[0m\u001b[0;34m.\u001b[0m\u001b[0;34m\u001b[0m\u001b[0;34m\u001b[0m\u001b[0m\n\u001b[1;32m     43\u001b[0m     \"\"\"\n\u001b[0;32m---> 44\u001b[0;31m     \u001b[0;32mreturn\u001b[0m \u001b[0m_get_token_from_google_colab\u001b[0m\u001b[0;34m(\u001b[0m\u001b[0;34m)\u001b[0m \u001b[0;32mor\u001b[0m \u001b[0m_get_token_from_environment\u001b[0m\u001b[0;34m(\u001b[0m\u001b[0;34m)\u001b[0m \u001b[0;32mor\u001b[0m \u001b[0m_get_token_from_file\u001b[0m\u001b[0;34m(\u001b[0m\u001b[0;34m)\u001b[0m\u001b[0;34m\u001b[0m\u001b[0;34m\u001b[0m\u001b[0m\n\u001b[0m\u001b[1;32m     45\u001b[0m \u001b[0;34m\u001b[0m\u001b[0m\n\u001b[1;32m     46\u001b[0m \u001b[0;34m\u001b[0m\u001b[0m\n",
            "\u001b[0;32m/usr/local/lib/python3.10/dist-packages/huggingface_hub/utils/_token.py\u001b[0m in \u001b[0;36m_get_token_from_google_colab\u001b[0;34m()\u001b[0m\n\u001b[1;32m     73\u001b[0m \u001b[0;34m\u001b[0m\u001b[0m\n\u001b[1;32m     74\u001b[0m         \u001b[0;32mtry\u001b[0m\u001b[0;34m:\u001b[0m\u001b[0;34m\u001b[0m\u001b[0;34m\u001b[0m\u001b[0m\n\u001b[0;32m---> 75\u001b[0;31m             \u001b[0mtoken\u001b[0m \u001b[0;34m=\u001b[0m \u001b[0muserdata\u001b[0m\u001b[0;34m.\u001b[0m\u001b[0mget\u001b[0m\u001b[0;34m(\u001b[0m\u001b[0;34m\"HF_TOKEN\"\u001b[0m\u001b[0;34m)\u001b[0m\u001b[0;34m\u001b[0m\u001b[0;34m\u001b[0m\u001b[0m\n\u001b[0m\u001b[1;32m     76\u001b[0m             \u001b[0m_GOOGLE_COLAB_SECRET\u001b[0m \u001b[0;34m=\u001b[0m \u001b[0m_clean_token\u001b[0m\u001b[0;34m(\u001b[0m\u001b[0mtoken\u001b[0m\u001b[0;34m)\u001b[0m\u001b[0;34m\u001b[0m\u001b[0;34m\u001b[0m\u001b[0m\n\u001b[1;32m     77\u001b[0m         \u001b[0;32mexcept\u001b[0m \u001b[0muserdata\u001b[0m\u001b[0;34m.\u001b[0m\u001b[0mNotebookAccessError\u001b[0m\u001b[0;34m:\u001b[0m\u001b[0;34m\u001b[0m\u001b[0;34m\u001b[0m\u001b[0m\n",
            "\u001b[0;32m/usr/local/lib/python3.10/dist-packages/google/colab/userdata.py\u001b[0m in \u001b[0;36mget\u001b[0;34m(key)\u001b[0m\n\u001b[1;32m     47\u001b[0m   \u001b[0;31m# thread-safe.\u001b[0m\u001b[0;34m\u001b[0m\u001b[0;34m\u001b[0m\u001b[0m\n\u001b[1;32m     48\u001b[0m   \u001b[0;32mwith\u001b[0m \u001b[0m_userdata_lock\u001b[0m\u001b[0;34m:\u001b[0m\u001b[0;34m\u001b[0m\u001b[0;34m\u001b[0m\u001b[0m\n\u001b[0;32m---> 49\u001b[0;31m     resp = _message.blocking_request(\n\u001b[0m\u001b[1;32m     50\u001b[0m         \u001b[0;34m'GetSecret'\u001b[0m\u001b[0;34m,\u001b[0m \u001b[0mrequest\u001b[0m\u001b[0;34m=\u001b[0m\u001b[0;34m{\u001b[0m\u001b[0;34m'key'\u001b[0m\u001b[0;34m:\u001b[0m \u001b[0mkey\u001b[0m\u001b[0;34m}\u001b[0m\u001b[0;34m,\u001b[0m \u001b[0mtimeout_sec\u001b[0m\u001b[0;34m=\u001b[0m\u001b[0;32mNone\u001b[0m\u001b[0;34m\u001b[0m\u001b[0;34m\u001b[0m\u001b[0m\n\u001b[1;32m     51\u001b[0m     )\n",
            "\u001b[0;32m/usr/local/lib/python3.10/dist-packages/google/colab/_message.py\u001b[0m in \u001b[0;36mblocking_request\u001b[0;34m(request_type, request, timeout_sec, parent)\u001b[0m\n\u001b[1;32m    174\u001b[0m       \u001b[0mrequest_type\u001b[0m\u001b[0;34m,\u001b[0m \u001b[0mrequest\u001b[0m\u001b[0;34m,\u001b[0m \u001b[0mparent\u001b[0m\u001b[0;34m=\u001b[0m\u001b[0mparent\u001b[0m\u001b[0;34m,\u001b[0m \u001b[0mexpect_reply\u001b[0m\u001b[0;34m=\u001b[0m\u001b[0;32mTrue\u001b[0m\u001b[0;34m\u001b[0m\u001b[0;34m\u001b[0m\u001b[0m\n\u001b[1;32m    175\u001b[0m   )\n\u001b[0;32m--> 176\u001b[0;31m   \u001b[0;32mreturn\u001b[0m \u001b[0mread_reply_from_input\u001b[0m\u001b[0;34m(\u001b[0m\u001b[0mrequest_id\u001b[0m\u001b[0;34m,\u001b[0m \u001b[0mtimeout_sec\u001b[0m\u001b[0;34m)\u001b[0m\u001b[0;34m\u001b[0m\u001b[0;34m\u001b[0m\u001b[0m\n\u001b[0m",
            "\u001b[0;32m/usr/local/lib/python3.10/dist-packages/google/colab/_message.py\u001b[0m in \u001b[0;36mread_reply_from_input\u001b[0;34m(message_id, timeout_sec)\u001b[0m\n\u001b[1;32m     94\u001b[0m     \u001b[0mreply\u001b[0m \u001b[0;34m=\u001b[0m \u001b[0m_read_next_input_message\u001b[0m\u001b[0;34m(\u001b[0m\u001b[0;34m)\u001b[0m\u001b[0;34m\u001b[0m\u001b[0;34m\u001b[0m\u001b[0m\n\u001b[1;32m     95\u001b[0m     \u001b[0;32mif\u001b[0m \u001b[0mreply\u001b[0m \u001b[0;34m==\u001b[0m \u001b[0m_NOT_READY\u001b[0m \u001b[0;32mor\u001b[0m \u001b[0;32mnot\u001b[0m \u001b[0misinstance\u001b[0m\u001b[0;34m(\u001b[0m\u001b[0mreply\u001b[0m\u001b[0;34m,\u001b[0m \u001b[0mdict\u001b[0m\u001b[0;34m)\u001b[0m\u001b[0;34m:\u001b[0m\u001b[0;34m\u001b[0m\u001b[0;34m\u001b[0m\u001b[0m\n\u001b[0;32m---> 96\u001b[0;31m       \u001b[0mtime\u001b[0m\u001b[0;34m.\u001b[0m\u001b[0msleep\u001b[0m\u001b[0;34m(\u001b[0m\u001b[0;36m0.025\u001b[0m\u001b[0;34m)\u001b[0m\u001b[0;34m\u001b[0m\u001b[0;34m\u001b[0m\u001b[0m\n\u001b[0m\u001b[1;32m     97\u001b[0m       \u001b[0;32mcontinue\u001b[0m\u001b[0;34m\u001b[0m\u001b[0;34m\u001b[0m\u001b[0m\n\u001b[1;32m     98\u001b[0m     if (\n",
            "\u001b[0;31mKeyboardInterrupt\u001b[0m: "
          ]
        }
      ]
    },
    {
      "cell_type": "markdown",
      "metadata": {
        "id": "mnFo-i5RY0Lk"
      },
      "source": [
        "# **Library**"
      ]
    },
    {
      "cell_type": "code",
      "execution_count": 2,
      "metadata": {
        "id": "joxKr8am89uy"
      },
      "outputs": [],
      "source": [
        "import os\n",
        "import json\n",
        "import matplotlib\n",
        "import numpy as np\n",
        "from PIL import Image\n",
        "import tensorflow as tf\n",
        "from matplotlib import pyplot as plt\n",
        "from tensorflow.keras.optimizers import Adam\n",
        "from tensorflow.keras.layers import Embedding\n",
        "from sklearn.model_selection import train_test_split\n",
        "from tensorflow.keras.models import Sequential, Model\n",
        "from tensorflow.keras.preprocessing.text import Tokenizer\n",
        "from tensorflow.keras.preprocessing.sequence import pad_sequences\n",
        "from tensorflow.keras.preprocessing.image import img_to_array, array_to_img, load_img\n",
        "from tensorflow.keras.layers import Dense, Embedding, Flatten, Input, Concatenate, Reshape, Conv2D, Conv2DTranspose, Dropout"
      ]
    },
    {
      "cell_type": "markdown",
      "metadata": {
        "id": "QaxusGplITM6"
      },
      "source": [
        "# **Load Dataset Directory**"
      ]
    },
    {
      "cell_type": "code",
      "execution_count": 3,
      "metadata": {
        "id": "kIo0fHAQISC8"
      },
      "outputs": [],
      "source": [
        "# Define the paths\n",
        "image_dir = \"/content/drive/MyDrive/Masters Thesis/TestData/image\"\n",
        "caption_dir = \"/content/drive/MyDrive/Masters Thesis/TestData/Captions\""
      ]
    },
    {
      "cell_type": "markdown",
      "metadata": {
        "id": "t7fqTiaOId5v"
      },
      "source": [
        "# **Preprocess Data**"
      ]
    },
    {
      "cell_type": "code",
      "execution_count": 5,
      "metadata": {
        "colab": {
          "base_uri": "https://localhost:8080/",
          "height": 350
        },
        "id": "-V2-9o06ujC7",
        "outputId": "c9b29967-63f5-436c-fb11-e64cb2bfd6cb"
      },
      "outputs": [
        {
          "output_type": "error",
          "ename": "KeyboardInterrupt",
          "evalue": "",
          "traceback": [
            "\u001b[0;31m---------------------------------------------------------------------------\u001b[0m",
            "\u001b[0;31mKeyboardInterrupt\u001b[0m                         Traceback (most recent call last)",
            "\u001b[0;32m<ipython-input-5-cf58e6537da8>\u001b[0m in \u001b[0;36m<cell line: 8>\u001b[0;34m()\u001b[0m\n\u001b[1;32m     16\u001b[0m             \u001b[0;31m# Load image\u001b[0m\u001b[0;34m\u001b[0m\u001b[0;34m\u001b[0m\u001b[0m\n\u001b[1;32m     17\u001b[0m             \u001b[0mimage_path\u001b[0m \u001b[0;34m=\u001b[0m \u001b[0mos\u001b[0m\u001b[0;34m.\u001b[0m\u001b[0mpath\u001b[0m\u001b[0;34m.\u001b[0m\u001b[0mjoin\u001b[0m\u001b[0;34m(\u001b[0m\u001b[0mclass_image_dir\u001b[0m\u001b[0;34m,\u001b[0m \u001b[0mimage_filename\u001b[0m\u001b[0;34m)\u001b[0m\u001b[0;34m\u001b[0m\u001b[0;34m\u001b[0m\u001b[0m\n\u001b[0;32m---> 18\u001b[0;31m             \u001b[0mimage\u001b[0m \u001b[0;34m=\u001b[0m \u001b[0mload_img\u001b[0m\u001b[0;34m(\u001b[0m\u001b[0mimage_path\u001b[0m\u001b[0;34m,\u001b[0m \u001b[0mtarget_size\u001b[0m\u001b[0;34m=\u001b[0m\u001b[0;34m(\u001b[0m\u001b[0mimg_width\u001b[0m\u001b[0;34m,\u001b[0m \u001b[0mimg_height\u001b[0m\u001b[0;34m)\u001b[0m\u001b[0;34m)\u001b[0m\u001b[0;34m\u001b[0m\u001b[0;34m\u001b[0m\u001b[0m\n\u001b[0m\u001b[1;32m     19\u001b[0m             \u001b[0mimage\u001b[0m \u001b[0;34m=\u001b[0m \u001b[0mimg_to_array\u001b[0m\u001b[0;34m(\u001b[0m\u001b[0mimage\u001b[0m\u001b[0;34m)\u001b[0m\u001b[0;34m\u001b[0m\u001b[0;34m\u001b[0m\u001b[0m\n\u001b[1;32m     20\u001b[0m             \u001b[0mimages\u001b[0m\u001b[0;34m.\u001b[0m\u001b[0mappend\u001b[0m\u001b[0;34m(\u001b[0m\u001b[0mimage\u001b[0m\u001b[0;34m)\u001b[0m\u001b[0;34m\u001b[0m\u001b[0;34m\u001b[0m\u001b[0m\n",
            "\u001b[0;32m/usr/local/lib/python3.10/dist-packages/keras/src/utils/image_utils.py\u001b[0m in \u001b[0;36mload_img\u001b[0;34m(path, grayscale, color_mode, target_size, interpolation, keep_aspect_ratio)\u001b[0m\n\u001b[1;32m    421\u001b[0m             \u001b[0mpath\u001b[0m \u001b[0;34m=\u001b[0m \u001b[0mstr\u001b[0m\u001b[0;34m(\u001b[0m\u001b[0mpath\u001b[0m\u001b[0;34m.\u001b[0m\u001b[0mresolve\u001b[0m\u001b[0;34m(\u001b[0m\u001b[0;34m)\u001b[0m\u001b[0;34m)\u001b[0m\u001b[0;34m\u001b[0m\u001b[0;34m\u001b[0m\u001b[0m\n\u001b[1;32m    422\u001b[0m         \u001b[0;32mwith\u001b[0m \u001b[0mopen\u001b[0m\u001b[0;34m(\u001b[0m\u001b[0mpath\u001b[0m\u001b[0;34m,\u001b[0m \u001b[0;34m\"rb\"\u001b[0m\u001b[0;34m)\u001b[0m \u001b[0;32mas\u001b[0m \u001b[0mf\u001b[0m\u001b[0;34m:\u001b[0m\u001b[0;34m\u001b[0m\u001b[0;34m\u001b[0m\u001b[0m\n\u001b[0;32m--> 423\u001b[0;31m             \u001b[0mimg\u001b[0m \u001b[0;34m=\u001b[0m \u001b[0mpil_image\u001b[0m\u001b[0;34m.\u001b[0m\u001b[0mopen\u001b[0m\u001b[0;34m(\u001b[0m\u001b[0mio\u001b[0m\u001b[0;34m.\u001b[0m\u001b[0mBytesIO\u001b[0m\u001b[0;34m(\u001b[0m\u001b[0mf\u001b[0m\u001b[0;34m.\u001b[0m\u001b[0mread\u001b[0m\u001b[0;34m(\u001b[0m\u001b[0;34m)\u001b[0m\u001b[0;34m)\u001b[0m\u001b[0;34m)\u001b[0m\u001b[0;34m\u001b[0m\u001b[0;34m\u001b[0m\u001b[0m\n\u001b[0m\u001b[1;32m    424\u001b[0m     \u001b[0;32melse\u001b[0m\u001b[0;34m:\u001b[0m\u001b[0;34m\u001b[0m\u001b[0;34m\u001b[0m\u001b[0m\n\u001b[1;32m    425\u001b[0m         raise TypeError(\n",
            "\u001b[0;31mKeyboardInterrupt\u001b[0m: "
          ]
        }
      ],
      "source": [
        "# Define image dimensions\n",
        "img_width, img_height, channels = 64, 64, 3\n",
        "# Create lists to store images and corresponding captions\n",
        "images = []\n",
        "all_captions = []\n",
        "\n",
        "# Iterate over each image folder\n",
        "for class_folder in os.listdir(image_dir):\n",
        "    class_image_dir = os.path.join(image_dir, class_folder)\n",
        "    class_caption_dir = os.path.join(caption_dir, class_folder)\n",
        "\n",
        "    # Iterate through each image file in the class folder\n",
        "    for image_filename in os.listdir(class_image_dir):\n",
        "        # Check if the file is an image\n",
        "        if image_filename.endswith(('.jpg', '.jpeg', '.png')):\n",
        "            # Load image\n",
        "            image_path = os.path.join(class_image_dir, image_filename)\n",
        "            image = load_img(image_path, target_size=(img_width, img_height))\n",
        "            image = img_to_array(image)\n",
        "            images.append(image)\n",
        "\n",
        "            # Extract image name without extension\n",
        "            image_name = os.path.splitext(image_filename)[0]\n",
        "\n",
        "            # Find corresponding caption file\n",
        "            caption_filename = image_name + \".txt\"\n",
        "            caption_path = os.path.join(class_caption_dir, caption_filename)\n",
        "            # Read captions if caption file exists\n",
        "            if os.path.exists(caption_path):\n",
        "                with open(caption_path, \"r\", encoding=\"utf-8\") as file:\n",
        "                    captions = file.read().strip().split('\\n')\n",
        "                    all_captions.append(captions)\n",
        "            else:\n",
        "                print(\"No caption file found for\", image_filename)\n",
        "                images.pop()  # Remove the image if no caption file is found\n",
        "\n",
        "# Convert the lists to NumPy arrays\n",
        "images = np.array(images)\n",
        "all_captions = np.array(all_captions)\n",
        "\n",
        "# Tokenize the captions\n",
        "tokenizer = Tokenizer(oov_token=\"<OOV>\")\n",
        "tokenizer.fit_on_texts(all_captions.ravel())\n",
        "caption_tokens = [tokenizer.texts_to_sequences(captions) for captions in all_captions]\n",
        "\n",
        "# Pad the caption tokens to a fixed length\n",
        "max_caption_length = max(len(seq) for captions in caption_tokens for seq in captions)\n",
        "caption_tokens = [pad_sequences(captions, maxlen=max_caption_length, padding='post') for captions in caption_tokens]\n",
        "caption_tokens = np.array(caption_tokens)\n",
        "\n",
        "# Create the Embedding layer\n",
        "embedding_dim = 100\n",
        "vocab_size = len(tokenizer.word_index) + 1\n",
        "embedding_layer = Embedding(input_dim=vocab_size, output_dim=embedding_dim, input_length=max_caption_length)"
      ]
    },
    {
      "cell_type": "code",
      "execution_count": null,
      "metadata": {
        "colab": {
          "base_uri": "https://localhost:8080/"
        },
        "id": "eQPPt80-5Qfp",
        "outputId": "f4dda8d6-66b9-4849-b356-169f33cedd46"
      },
      "outputs": [
        {
          "name": "stdout",
          "output_type": "stream",
          "text": [
            "(2788, 10, 90)\n",
            "(2788, 64, 64, 3)\n"
          ]
        }
      ],
      "source": [
        "# Split the data into training and test sets\n",
        "X_train, X_test, y_train, y_test = train_test_split(caption_tokens, images, test_size=0.2, random_state=42)\n",
        "# Continue with the rest of your GAN implementation\n",
        "print(X_train.shape)\n",
        "print(y_train.shape)"
      ]
    },
    {
      "cell_type": "markdown",
      "metadata": {
        "id": "eOCut3fMIzEs"
      },
      "source": [
        "# **Define The Generator Model**"
      ]
    },
    {
      "cell_type": "code",
      "execution_count": null,
      "metadata": {
        "id": "H8wdNTPdIx68"
      },
      "outputs": [],
      "source": [
        "def build_generator(embedding_dim):\n",
        "    # Input layer for the random noise\n",
        "    noise_input = Input(shape=(100,))\n",
        "\n",
        "    # Dense layer to map the noise to a higher dimensional space\n",
        "    dense = Dense(256 * 8 * 8)(noise_input)\n",
        "    dense = Reshape((8, 8, 256))(dense)\n",
        "    # Transposed convolutional layers to upsample the image\n",
        "    generator = Conv2DTranspose(128, kernel_size=4, strides=2, padding='same')(dense)\n",
        "    generator = Conv2DTranspose(64, kernel_size=4, strides=2, padding='same')(generator)\n",
        "    generator = Conv2DTranspose(32, kernel_size=4, strides=2, padding='same')(generator)\n",
        "    # Output layer with 3 channels for RGB image\n",
        "    generator_output = Conv2D(channels, kernel_size=3, activation='tanh', padding='same')(generator)\n",
        "    # Model\n",
        "    generator_model = Model(inputs=noise_input, outputs=generator_output)\n",
        "    return generator_model"
      ]
    },
    {
      "cell_type": "markdown",
      "metadata": {
        "id": "h9vj7GraI4HS"
      },
      "source": [
        "# **Define The Discriminator Model**"
      ]
    },
    {
      "cell_type": "code",
      "execution_count": null,
      "metadata": {
        "id": "lIznDp4LS1RY"
      },
      "outputs": [],
      "source": [
        "def build_discriminator(img_shape):\n",
        "    # Input layer for the image\n",
        "    image_input = Input(shape=img_shape)\n",
        "\n",
        "    # Convolutional layers\n",
        "    discriminator = Conv2D(32, kernel_size=3, strides=2, padding='same')(image_input)\n",
        "    discriminator = Dropout(0.5)(discriminator)\n",
        "    discriminator = Conv2D(64, kernel_size=3, strides=2, padding='same')(discriminator)\n",
        "    discriminator = Dropout(0.5)(discriminator)\n",
        "    discriminator = Conv2D(128, kernel_size=3, strides=2, padding='same')(discriminator)\n",
        "    discriminator = Dropout(0.5)(discriminator)\n",
        "\n",
        "    # Flatten the output and add a dense layer\n",
        "    discriminator = Flatten()(discriminator)\n",
        "    discriminator_output = Dense(1, activation='sigmoid')(discriminator)\n",
        "\n",
        "    # Model\n",
        "    discriminator_model = Model(inputs=image_input, outputs=discriminator_output)\n",
        "\n",
        "    return discriminator_model\n"
      ]
    },
    {
      "cell_type": "markdown",
      "metadata": {
        "id": "fr_TiPNzJZx-"
      },
      "source": [
        "# **Defining The Generator and Discriminator models**"
      ]
    },
    {
      "cell_type": "code",
      "execution_count": null,
      "metadata": {
        "id": "u2Jg1owdYcOg"
      },
      "outputs": [],
      "source": [
        "generator = build_generator(embedding_dim)\n",
        "discriminator = build_discriminator((img_width, img_height, channels))\n",
        "\n",
        "# Compile Discriminator\n",
        "discriminator.compile(optimizer=Adam(learning_rate=0.0002, beta_1=0.5), loss='binary_crossentropy', metrics=['accuracy'])\n",
        "\n",
        "# The Discriminator should not be trainable during the GAN training\n",
        "discriminator.trainable = False\n",
        "\n",
        "# Input for the GAN model (noise)\n",
        "gan_input = Input(shape=(100,))\n",
        "generated_image = generator(gan_input)\n",
        "\n",
        "# Output of the GAN model\n",
        "gan_output = discriminator(generated_image)\n",
        "\n",
        "# GAN model\n",
        "gan_model = Model(gan_input, gan_output)\n",
        "gan_model.compile(optimizer=Adam(learning_rate=0.0002, beta_1=0.5), loss='binary_crossentropy')"
      ]
    },
    {
      "cell_type": "markdown",
      "metadata": {
        "id": "CWVGF67VJqvk"
      },
      "source": [
        "# **Generator Model Summary**"
      ]
    },
    {
      "cell_type": "code",
      "execution_count": null,
      "metadata": {
        "colab": {
          "base_uri": "https://localhost:8080/"
        },
        "id": "vAM4GYJNJls4",
        "outputId": "1f15908f-f615-4c8f-aa7b-a86663e619ce"
      },
      "outputs": [
        {
          "name": "stdout",
          "output_type": "stream",
          "text": [
            "Generator Model:\n",
            "Model: \"model\"\n",
            "_________________________________________________________________\n",
            " Layer (type)                Output Shape              Param #   \n",
            "=================================================================\n",
            " input_1 (InputLayer)        [(None, 100)]             0         \n",
            "                                                                 \n",
            " dense (Dense)               (None, 16384)             1654784   \n",
            "                                                                 \n",
            " reshape (Reshape)           (None, 8, 8, 256)         0         \n",
            "                                                                 \n",
            " conv2d_transpose (Conv2DTr  (None, 16, 16, 128)       524416    \n",
            " anspose)                                                        \n",
            "                                                                 \n",
            " conv2d_transpose_1 (Conv2D  (None, 32, 32, 64)        131136    \n",
            " Transpose)                                                      \n",
            "                                                                 \n",
            " conv2d_transpose_2 (Conv2D  (None, 64, 64, 32)        32800     \n",
            " Transpose)                                                      \n",
            "                                                                 \n",
            " conv2d (Conv2D)             (None, 64, 64, 3)         867       \n",
            "                                                                 \n",
            "=================================================================\n",
            "Total params: 2344003 (8.94 MB)\n",
            "Trainable params: 2344003 (8.94 MB)\n",
            "Non-trainable params: 0 (0.00 Byte)\n",
            "_________________________________________________________________\n"
          ]
        }
      ],
      "source": [
        "print(\"Generator Model:\")\n",
        "generator.summary()"
      ]
    },
    {
      "cell_type": "markdown",
      "metadata": {
        "id": "RL5wADxLJzPl"
      },
      "source": [
        "# **Discriminator Model Summary**"
      ]
    },
    {
      "cell_type": "code",
      "execution_count": null,
      "metadata": {
        "colab": {
          "base_uri": "https://localhost:8080/"
        },
        "id": "9siYDJs4JnYl",
        "outputId": "2c4d48da-fc54-498a-80e2-cf8c2cc2590e"
      },
      "outputs": [
        {
          "name": "stdout",
          "output_type": "stream",
          "text": [
            "\n",
            "Discriminator Model:\n",
            "Model: \"model_1\"\n",
            "_________________________________________________________________\n",
            " Layer (type)                Output Shape              Param #   \n",
            "=================================================================\n",
            " input_2 (InputLayer)        [(None, 64, 64, 3)]       0         \n",
            "                                                                 \n",
            " conv2d_1 (Conv2D)           (None, 32, 32, 32)        896       \n",
            "                                                                 \n",
            " dropout (Dropout)           (None, 32, 32, 32)        0         \n",
            "                                                                 \n",
            " conv2d_2 (Conv2D)           (None, 16, 16, 64)        18496     \n",
            "                                                                 \n",
            " dropout_1 (Dropout)         (None, 16, 16, 64)        0         \n",
            "                                                                 \n",
            " conv2d_3 (Conv2D)           (None, 8, 8, 128)         73856     \n",
            "                                                                 \n",
            " dropout_2 (Dropout)         (None, 8, 8, 128)         0         \n",
            "                                                                 \n",
            " flatten (Flatten)           (None, 8192)              0         \n",
            "                                                                 \n",
            " dense_1 (Dense)             (None, 1)                 8193      \n",
            "                                                                 \n",
            "=================================================================\n",
            "Total params: 101441 (396.25 KB)\n",
            "Trainable params: 0 (0.00 Byte)\n",
            "Non-trainable params: 101441 (396.25 KB)\n",
            "_________________________________________________________________\n"
          ]
        }
      ],
      "source": [
        "print(\"\\nDiscriminator Model:\")\n",
        "discriminator.summary()"
      ]
    },
    {
      "cell_type": "markdown",
      "metadata": {
        "id": "vbWdbKd7J5Jq"
      },
      "source": [
        "# **Training The GAN Model**"
      ]
    },
    {
      "cell_type": "code",
      "execution_count": null,
      "metadata": {
        "colab": {
          "background_save": true,
          "base_uri": "https://localhost:8080/"
        },
        "id": "BQgI_7yXYf2Q",
        "outputId": "832b16d9-0b4b-4d19-ae69-253de3568b4a"
      },
      "outputs": [
        {
          "name": "stdout",
          "output_type": "stream",
          "text": [
            "2/2 [==============================] - 1s 348ms/step\n",
            "Epoch 0, D Loss: 0.6926074922084808, G Loss: 0.6906428933143616\n",
            "2/2 [==============================] - 0s 206ms/step\n",
            "2/2 [==============================] - 0s 207ms/step\n",
            "2/2 [==============================] - 0s 201ms/step\n",
            "2/2 [==============================] - 1s 319ms/step\n",
            "2/2 [==============================] - 1s 305ms/step\n",
            "2/2 [==============================] - 0s 203ms/step\n",
            "2/2 [==============================] - 0s 202ms/step\n",
            "2/2 [==============================] - 0s 208ms/step\n",
            "2/2 [==============================] - 0s 205ms/step\n",
            "2/2 [==============================] - 0s 282ms/step\n",
            "2/2 [==============================] - 1s 328ms/step\n",
            "2/2 [==============================] - 0s 204ms/step\n",
            "2/2 [==============================] - 0s 207ms/step\n",
            "2/2 [==============================] - 0s 206ms/step\n",
            "2/2 [==============================] - 0s 199ms/step\n",
            "2/2 [==============================] - 1s 335ms/step\n",
            "2/2 [==============================] - 1s 323ms/step\n",
            "2/2 [==============================] - 0s 208ms/step\n",
            "2/2 [==============================] - 0s 210ms/step\n",
            "2/2 [==============================] - 0s 214ms/step\n",
            "Epoch 20, D Loss: 0.49936413392424583, G Loss: 0.6308572888374329\n",
            "2/2 [==============================] - 0s 230ms/step\n",
            "2/2 [==============================] - 0s 206ms/step\n",
            "2/2 [==============================] - 1s 339ms/step\n",
            "2/2 [==============================] - 0s 203ms/step\n",
            "2/2 [==============================] - 0s 204ms/step\n",
            "2/2 [==============================] - 0s 204ms/step\n",
            "2/2 [==============================] - 0s 203ms/step\n",
            "2/2 [==============================] - 1s 316ms/step\n",
            "2/2 [==============================] - 1s 319ms/step\n",
            "2/2 [==============================] - 0s 200ms/step\n",
            "2/2 [==============================] - 0s 203ms/step\n",
            "2/2 [==============================] - 0s 211ms/step\n",
            "2/2 [==============================] - 0s 209ms/step\n",
            "2/2 [==============================] - 0s 199ms/step\n",
            "2/2 [==============================] - 1s 316ms/step\n",
            "2/2 [==============================] - 0s 202ms/step\n",
            "2/2 [==============================] - 0s 201ms/step\n",
            "2/2 [==============================] - 0s 204ms/step\n",
            "2/2 [==============================] - 0s 204ms/step\n",
            "2/2 [==============================] - 0s 206ms/step\n",
            "Epoch 40, D Loss: 0.7183813750743866, G Loss: 0.733960747718811\n",
            "2/2 [==============================] - 1s 338ms/step\n",
            "2/2 [==============================] - 0s 203ms/step\n",
            "2/2 [==============================] - 0s 202ms/step\n",
            "2/2 [==============================] - 0s 208ms/step\n",
            "2/2 [==============================] - 0s 205ms/step\n",
            "2/2 [==============================] - 0s 234ms/step\n",
            "2/2 [==============================] - 1s 345ms/step\n",
            "2/2 [==============================] - 0s 216ms/step\n",
            "2/2 [==============================] - 0s 197ms/step\n",
            "2/2 [==============================] - 0s 202ms/step\n",
            "2/2 [==============================] - 0s 219ms/step\n",
            "2/2 [==============================] - 1s 333ms/step\n",
            "2/2 [==============================] - 1s 346ms/step\n",
            "2/2 [==============================] - 0s 211ms/step\n",
            "2/2 [==============================] - 0s 211ms/step\n",
            "2/2 [==============================] - 0s 205ms/step\n",
            "2/2 [==============================] - 0s 209ms/step\n",
            "2/2 [==============================] - 1s 325ms/step\n",
            "2/2 [==============================] - 0s 207ms/step\n",
            "2/2 [==============================] - 0s 217ms/step\n",
            "Epoch 60, D Loss: 0.6295046210289001, G Loss: 0.7018495798110962\n",
            "2/2 [==============================] - 0s 212ms/step\n",
            "2/2 [==============================] - 0s 203ms/step\n",
            "2/2 [==============================] - 0s 204ms/step\n",
            "2/2 [==============================] - 1s 315ms/step\n",
            "2/2 [==============================] - 0s 219ms/step\n",
            "2/2 [==============================] - 0s 207ms/step\n",
            "2/2 [==============================] - 0s 215ms/step\n",
            "2/2 [==============================] - 0s 201ms/step\n",
            "2/2 [==============================] - 0s 215ms/step\n",
            "2/2 [==============================] - 1s 332ms/step\n",
            "2/2 [==============================] - 1s 210ms/step\n",
            "2/2 [==============================] - 0s 203ms/step\n",
            "2/2 [==============================] - 0s 201ms/step\n",
            "2/2 [==============================] - 0s 204ms/step\n",
            "2/2 [==============================] - 0s 203ms/step\n",
            "2/2 [==============================] - 1s 332ms/step\n",
            "2/2 [==============================] - 0s 201ms/step\n",
            "2/2 [==============================] - 0s 204ms/step\n",
            "2/2 [==============================] - 0s 202ms/step\n",
            "2/2 [==============================] - 0s 203ms/step\n",
            "Epoch 80, D Loss: 0.7095030248165131, G Loss: 0.7800735831260681\n",
            "2/2 [==============================] - 0s 198ms/step\n",
            "2/2 [==============================] - 1s 313ms/step\n",
            "2/2 [==============================] - 0s 201ms/step\n",
            "2/2 [==============================] - 0s 211ms/step\n",
            "2/2 [==============================] - 0s 202ms/step\n",
            "2/2 [==============================] - 0s 202ms/step\n",
            "2/2 [==============================] - 0s 202ms/step\n",
            "2/2 [==============================] - 1s 340ms/step\n",
            "2/2 [==============================] - 0s 208ms/step\n",
            "2/2 [==============================] - 0s 210ms/step\n",
            "2/2 [==============================] - 0s 200ms/step\n",
            "2/2 [==============================] - 0s 220ms/step\n",
            "2/2 [==============================] - 0s 214ms/step\n",
            "2/2 [==============================] - 1s 332ms/step\n",
            "2/2 [==============================] - 0s 207ms/step\n",
            "2/2 [==============================] - 0s 206ms/step\n",
            "2/2 [==============================] - 0s 200ms/step\n",
            "2/2 [==============================] - 0s 205ms/step\n",
            "2/2 [==============================] - 0s 203ms/step\n",
            "2/2 [==============================] - 1s 327ms/step\n",
            "Epoch 100, D Loss: 0.7952280938625336, G Loss: 0.7252811193466187\n",
            "2/2 [==============================] - 0s 201ms/step\n",
            "2/2 [==============================] - 0s 215ms/step\n",
            "2/2 [==============================] - 0s 213ms/step\n",
            "2/2 [==============================] - 0s 203ms/step\n",
            "2/2 [==============================] - 0s 210ms/step\n",
            "2/2 [==============================] - 1s 338ms/step\n",
            "2/2 [==============================] - 0s 200ms/step\n",
            "2/2 [==============================] - 0s 212ms/step\n",
            "2/2 [==============================] - 0s 219ms/step\n",
            "2/2 [==============================] - 0s 220ms/step\n",
            "2/2 [==============================] - 0s 212ms/step\n",
            "2/2 [==============================] - 1s 324ms/step\n",
            "2/2 [==============================] - 0s 208ms/step\n",
            "2/2 [==============================] - 0s 202ms/step\n",
            "2/2 [==============================] - 0s 197ms/step\n",
            "2/2 [==============================] - 0s 200ms/step\n",
            "2/2 [==============================] - 0s 203ms/step\n",
            "2/2 [==============================] - 1s 350ms/step\n",
            "2/2 [==============================] - 0s 203ms/step\n",
            "2/2 [==============================] - 0s 200ms/step\n",
            "Epoch 120, D Loss: 0.7159924507141113, G Loss: 0.8182538151741028\n",
            "2/2 [==============================] - 0s 201ms/step\n",
            "2/2 [==============================] - 0s 206ms/step\n",
            "2/2 [==============================] - 0s 197ms/step\n",
            "2/2 [==============================] - 1s 330ms/step\n",
            "2/2 [==============================] - 0s 200ms/step\n",
            "2/2 [==============================] - 0s 203ms/step\n",
            "2/2 [==============================] - 0s 201ms/step\n",
            "2/2 [==============================] - 0s 203ms/step\n",
            "2/2 [==============================] - 0s 198ms/step\n",
            "2/2 [==============================] - 1s 330ms/step\n",
            "2/2 [==============================] - 1s 201ms/step\n",
            "2/2 [==============================] - 0s 204ms/step\n",
            "2/2 [==============================] - 0s 203ms/step\n",
            "2/2 [==============================] - 0s 207ms/step\n",
            "2/2 [==============================] - 0s 207ms/step\n",
            "2/2 [==============================] - 0s 276ms/step\n",
            "2/2 [==============================] - 1s 334ms/step\n",
            "2/2 [==============================] - 0s 203ms/step\n",
            "2/2 [==============================] - 0s 214ms/step\n",
            "2/2 [==============================] - 0s 203ms/step\n",
            "Epoch 140, D Loss: 0.7248084843158722, G Loss: 0.7085717916488647\n",
            "2/2 [==============================] - 0s 201ms/step\n",
            "2/2 [==============================] - 0s 200ms/step\n",
            "2/2 [==============================] - 1s 325ms/step\n",
            "2/2 [==============================] - 0s 202ms/step\n",
            "2/2 [==============================] - 0s 205ms/step\n",
            "2/2 [==============================] - 0s 203ms/step\n",
            "2/2 [==============================] - 0s 205ms/step\n",
            "2/2 [==============================] - 0s 202ms/step\n",
            "2/2 [==============================] - 1s 322ms/step\n",
            "2/2 [==============================] - 0s 200ms/step\n",
            "2/2 [==============================] - 0s 203ms/step\n",
            "2/2 [==============================] - 0s 203ms/step\n",
            "2/2 [==============================] - 0s 198ms/step\n",
            "2/2 [==============================] - 0s 204ms/step\n",
            "2/2 [==============================] - 1s 319ms/step\n",
            "2/2 [==============================] - 0s 207ms/step\n",
            "2/2 [==============================] - 0s 197ms/step\n",
            "2/2 [==============================] - 0s 202ms/step\n",
            "2/2 [==============================] - 0s 197ms/step\n",
            "2/2 [==============================] - 0s 196ms/step\n",
            "Epoch 160, D Loss: 0.7512036263942719, G Loss: 0.8228458762168884\n",
            "2/2 [==============================] - 1s 325ms/step\n",
            "2/2 [==============================] - 0s 206ms/step\n",
            "2/2 [==============================] - 0s 202ms/step\n",
            "2/2 [==============================] - 0s 201ms/step\n",
            "2/2 [==============================] - 0s 207ms/step\n",
            "2/2 [==============================] - 0s 211ms/step\n",
            "2/2 [==============================] - 1s 328ms/step\n",
            "2/2 [==============================] - 0s 200ms/step\n",
            "2/2 [==============================] - 0s 198ms/step\n",
            "2/2 [==============================] - 0s 204ms/step\n",
            "2/2 [==============================] - 0s 204ms/step\n",
            "2/2 [==============================] - 1s 348ms/step\n",
            "2/2 [==============================] - 0s 216ms/step\n",
            "2/2 [==============================] - 0s 217ms/step\n",
            "2/2 [==============================] - 0s 201ms/step\n",
            "2/2 [==============================] - 0s 200ms/step\n",
            "2/2 [==============================] - 0s 204ms/step\n",
            "2/2 [==============================] - 1s 306ms/step\n",
            "2/2 [==============================] - 0s 201ms/step\n",
            "2/2 [==============================] - 0s 219ms/step\n",
            "Epoch 180, D Loss: 0.7642781734466553, G Loss: 0.7447458505630493\n",
            "2/2 [==============================] - 0s 216ms/step\n",
            "2/2 [==============================] - 1s 264ms/step\n",
            "2/2 [==============================] - 1s 391ms/step\n",
            "2/2 [==============================] - 1s 304ms/step\n",
            "2/2 [==============================] - 0s 210ms/step\n",
            "2/2 [==============================] - 0s 211ms/step\n",
            "2/2 [==============================] - 0s 204ms/step\n",
            "2/2 [==============================] - 0s 204ms/step\n",
            "2/2 [==============================] - 1s 335ms/step\n",
            "2/2 [==============================] - 1s 212ms/step\n",
            "2/2 [==============================] - 0s 199ms/step\n",
            "2/2 [==============================] - 0s 214ms/step\n",
            "2/2 [==============================] - 0s 200ms/step\n",
            "2/2 [==============================] - 0s 214ms/step\n",
            "2/2 [==============================] - 1s 335ms/step\n",
            "2/2 [==============================] - 1s 302ms/step\n",
            "2/2 [==============================] - 0s 203ms/step\n",
            "2/2 [==============================] - 0s 203ms/step\n",
            "2/2 [==============================] - 0s 198ms/step\n",
            "2/2 [==============================] - 0s 201ms/step\n",
            "Epoch 200, D Loss: 0.7620542943477631, G Loss: 0.6360292434692383\n",
            "2/2 [==============================] - 1s 339ms/step\n",
            "2/2 [==============================] - 1s 328ms/step\n",
            "2/2 [==============================] - 0s 222ms/step\n",
            "2/2 [==============================] - 0s 204ms/step\n",
            "2/2 [==============================] - 0s 203ms/step\n",
            "2/2 [==============================] - 0s 201ms/step\n",
            "2/2 [==============================] - 0s 202ms/step\n",
            "2/2 [==============================] - 1s 314ms/step\n",
            "2/2 [==============================] - 0s 204ms/step\n",
            "2/2 [==============================] - 0s 204ms/step\n",
            "2/2 [==============================] - 0s 207ms/step\n",
            "2/2 [==============================] - 0s 201ms/step\n",
            "2/2 [==============================] - 0s 259ms/step\n",
            "2/2 [==============================] - 1s 320ms/step\n",
            "2/2 [==============================] - 0s 199ms/step\n",
            "2/2 [==============================] - 0s 207ms/step\n",
            "2/2 [==============================] - 0s 204ms/step\n",
            "2/2 [==============================] - 0s 201ms/step\n",
            "2/2 [==============================] - 0s 204ms/step\n",
            "2/2 [==============================] - 1s 320ms/step\n",
            "Epoch 220, D Loss: 0.7653105854988098, G Loss: 0.6586126089096069\n",
            "2/2 [==============================] - 0s 206ms/step\n",
            "2/2 [==============================] - 0s 203ms/step\n",
            "2/2 [==============================] - 0s 203ms/step\n",
            "2/2 [==============================] - 0s 203ms/step\n",
            "2/2 [==============================] - 1s 328ms/step\n",
            "2/2 [==============================] - 1s 315ms/step\n",
            "2/2 [==============================] - 0s 202ms/step\n",
            "2/2 [==============================] - 0s 203ms/step\n",
            "2/2 [==============================] - 0s 205ms/step\n",
            "2/2 [==============================] - 0s 205ms/step\n",
            "2/2 [==============================] - 0s 204ms/step\n",
            "2/2 [==============================] - 1s 329ms/step\n",
            "2/2 [==============================] - 0s 201ms/step\n",
            "2/2 [==============================] - 0s 200ms/step\n",
            "2/2 [==============================] - 0s 204ms/step\n",
            "2/2 [==============================] - 0s 199ms/step\n",
            "2/2 [==============================] - 0s 203ms/step\n",
            "2/2 [==============================] - 1s 335ms/step\n",
            "2/2 [==============================] - 0s 207ms/step\n",
            "2/2 [==============================] - 0s 205ms/step\n",
            "Epoch 240, D Loss: 0.7712087333202362, G Loss: 0.6255012154579163\n",
            "2/2 [==============================] - 0s 207ms/step\n",
            "2/2 [==============================] - 0s 203ms/step\n",
            "2/2 [==============================] - 1s 333ms/step\n",
            "2/2 [==============================] - 0s 198ms/step\n",
            "2/2 [==============================] - 0s 199ms/step\n",
            "2/2 [==============================] - 0s 199ms/step\n",
            "2/2 [==============================] - 0s 197ms/step\n",
            "2/2 [==============================] - 0s 203ms/step\n",
            "2/2 [==============================] - 1s 328ms/step\n",
            "2/2 [==============================] - 0s 203ms/step\n",
            "2/2 [==============================] - 0s 207ms/step\n",
            "2/2 [==============================] - 0s 205ms/step\n",
            "2/2 [==============================] - 0s 201ms/step\n",
            "2/2 [==============================] - 0s 200ms/step\n",
            "2/2 [==============================] - 1s 316ms/step\n",
            "2/2 [==============================] - 0s 216ms/step\n",
            "2/2 [==============================] - 0s 220ms/step\n",
            "2/2 [==============================] - 0s 216ms/step\n",
            "2/2 [==============================] - 0s 215ms/step\n",
            "2/2 [==============================] - 0s 206ms/step\n",
            "Epoch 260, D Loss: 0.7256900668144226, G Loss: 0.6562327146530151\n",
            "2/2 [==============================] - 1s 320ms/step\n",
            "2/2 [==============================] - 0s 215ms/step\n",
            "2/2 [==============================] - 0s 208ms/step\n",
            "2/2 [==============================] - 0s 200ms/step\n",
            "2/2 [==============================] - 0s 201ms/step\n",
            "2/2 [==============================] - 0s 217ms/step\n",
            "2/2 [==============================] - 1s 321ms/step\n",
            "2/2 [==============================] - 0s 213ms/step\n",
            "2/2 [==============================] - 0s 217ms/step\n",
            "2/2 [==============================] - 0s 213ms/step\n",
            "2/2 [==============================] - 0s 211ms/step\n",
            "2/2 [==============================] - 0s 206ms/step\n",
            "2/2 [==============================] - 1s 355ms/step\n",
            "2/2 [==============================] - 0s 200ms/step\n",
            "2/2 [==============================] - 0s 206ms/step\n",
            "2/2 [==============================] - 0s 201ms/step\n",
            "2/2 [==============================] - 0s 202ms/step\n",
            "2/2 [==============================] - 0s 206ms/step\n",
            "2/2 [==============================] - 1s 343ms/step\n",
            "2/2 [==============================] - 0s 204ms/step\n",
            "Epoch 280, D Loss: 0.7741416394710541, G Loss: 0.6342000961303711\n",
            "2/2 [==============================] - 0s 204ms/step\n",
            "2/2 [==============================] - 0s 200ms/step\n",
            "2/2 [==============================] - 0s 212ms/step\n",
            "2/2 [==============================] - 0s 210ms/step\n",
            "2/2 [==============================] - 1s 338ms/step\n",
            "2/2 [==============================] - 0s 202ms/step\n",
            "2/2 [==============================] - 0s 208ms/step\n",
            "2/2 [==============================] - 0s 207ms/step\n",
            "2/2 [==============================] - 0s 203ms/step\n",
            "2/2 [==============================] - 1s 321ms/step\n",
            "2/2 [==============================] - 1s 337ms/step\n",
            "2/2 [==============================] - 0s 201ms/step\n",
            "2/2 [==============================] - 0s 199ms/step\n",
            "2/2 [==============================] - 0s 199ms/step\n",
            "2/2 [==============================] - 0s 216ms/step\n",
            "2/2 [==============================] - 0s 200ms/step\n",
            "2/2 [==============================] - 1s 318ms/step\n",
            "2/2 [==============================] - 0s 205ms/step\n",
            "2/2 [==============================] - 0s 211ms/step\n",
            "2/2 [==============================] - 0s 202ms/step\n",
            "Epoch 300, D Loss: 0.7600443959236145, G Loss: 0.726415753364563\n",
            "2/2 [==============================] - 0s 203ms/step\n",
            "2/2 [==============================] - 1s 323ms/step\n",
            "2/2 [==============================] - 0s 206ms/step\n",
            "2/2 [==============================] - 0s 201ms/step\n",
            "2/2 [==============================] - 0s 201ms/step\n",
            "2/2 [==============================] - 0s 201ms/step\n",
            "2/2 [==============================] - 0s 206ms/step\n",
            "2/2 [==============================] - 1s 328ms/step\n",
            "2/2 [==============================] - 1s 199ms/step\n",
            "2/2 [==============================] - 0s 202ms/step\n",
            "2/2 [==============================] - 0s 199ms/step\n",
            "2/2 [==============================] - 0s 205ms/step\n",
            "2/2 [==============================] - 0s 201ms/step\n",
            "2/2 [==============================] - 1s 317ms/step\n",
            "2/2 [==============================] - 1s 336ms/step\n",
            "2/2 [==============================] - 0s 208ms/step\n",
            "2/2 [==============================] - 0s 197ms/step\n",
            "2/2 [==============================] - 0s 198ms/step\n",
            "2/2 [==============================] - 0s 205ms/step\n",
            "2/2 [==============================] - 1s 331ms/step\n",
            "Epoch 320, D Loss: 0.7713530361652374, G Loss: 0.6272673010826111\n",
            "2/2 [==============================] - 1s 328ms/step\n",
            "2/2 [==============================] - 0s 210ms/step\n",
            "2/2 [==============================] - 0s 198ms/step\n",
            "2/2 [==============================] - 0s 204ms/step\n",
            "2/2 [==============================] - 0s 205ms/step\n",
            "2/2 [==============================] - 0s 252ms/step\n",
            "2/2 [==============================] - 1s 324ms/step\n",
            "2/2 [==============================] - 0s 199ms/step\n",
            "2/2 [==============================] - 0s 214ms/step\n",
            "2/2 [==============================] - 0s 197ms/step\n",
            "2/2 [==============================] - 0s 202ms/step\n",
            "2/2 [==============================] - 0s 202ms/step\n",
            "2/2 [==============================] - 1s 304ms/step\n",
            "2/2 [==============================] - 0s 205ms/step\n",
            "2/2 [==============================] - 0s 201ms/step\n",
            "2/2 [==============================] - 0s 205ms/step\n",
            "2/2 [==============================] - 0s 199ms/step\n",
            "2/2 [==============================] - 0s 201ms/step\n",
            "2/2 [==============================] - 1s 334ms/step\n",
            "2/2 [==============================] - 0s 224ms/step\n",
            "Epoch 340, D Loss: 0.7120231688022614, G Loss: 0.6900725364685059\n",
            "2/2 [==============================] - 0s 215ms/step\n",
            "2/2 [==============================] - 0s 204ms/step\n",
            "2/2 [==============================] - 0s 214ms/step\n",
            "2/2 [==============================] - 0s 215ms/step\n",
            "2/2 [==============================] - 1s 325ms/step\n",
            "2/2 [==============================] - 0s 206ms/step\n",
            "2/2 [==============================] - 0s 213ms/step\n",
            "2/2 [==============================] - 0s 214ms/step\n",
            "2/2 [==============================] - 0s 217ms/step\n",
            "2/2 [==============================] - 0s 216ms/step\n",
            "2/2 [==============================] - 1s 336ms/step\n",
            "2/2 [==============================] - 0s 201ms/step\n",
            "2/2 [==============================] - 0s 216ms/step\n",
            "2/2 [==============================] - 0s 204ms/step\n",
            "2/2 [==============================] - 0s 214ms/step\n",
            "2/2 [==============================] - 0s 220ms/step\n",
            "2/2 [==============================] - 1s 324ms/step\n",
            "2/2 [==============================] - 0s 201ms/step\n",
            "2/2 [==============================] - 0s 201ms/step\n",
            "2/2 [==============================] - 0s 202ms/step\n",
            "Epoch 360, D Loss: 0.7253839075565338, G Loss: 0.7158330678939819\n",
            "2/2 [==============================] - 0s 203ms/step\n",
            "2/2 [==============================] - 0s 199ms/step\n",
            "2/2 [==============================] - 1s 337ms/step\n",
            "2/2 [==============================] - 0s 200ms/step\n",
            "2/2 [==============================] - 1s 234ms/step\n",
            "2/2 [==============================] - 0s 247ms/step\n",
            "2/2 [==============================] - 1s 287ms/step\n",
            "2/2 [==============================] - 1s 313ms/step\n",
            "2/2 [==============================] - 0s 201ms/step\n",
            "2/2 [==============================] - 0s 198ms/step\n",
            "2/2 [==============================] - 0s 201ms/step\n",
            "2/2 [==============================] - 0s 198ms/step\n",
            "2/2 [==============================] - 0s 214ms/step\n",
            "2/2 [==============================] - 1s 323ms/step\n",
            "2/2 [==============================] - 0s 205ms/step\n",
            "2/2 [==============================] - 0s 206ms/step\n",
            "2/2 [==============================] - 0s 202ms/step\n",
            "2/2 [==============================] - 0s 198ms/step\n",
            "2/2 [==============================] - 0s 204ms/step\n",
            "2/2 [==============================] - 1s 328ms/step\n",
            "Epoch 380, D Loss: 0.7422109246253967, G Loss: 0.6855430603027344\n",
            "2/2 [==============================] - 0s 207ms/step\n",
            "2/2 [==============================] - 0s 199ms/step\n",
            "2/2 [==============================] - 0s 201ms/step\n",
            "2/2 [==============================] - 0s 204ms/step\n",
            "2/2 [==============================] - 0s 272ms/step\n",
            "2/2 [==============================] - 1s 307ms/step\n",
            "2/2 [==============================] - 0s 217ms/step\n",
            "2/2 [==============================] - 0s 201ms/step\n",
            "2/2 [==============================] - 0s 223ms/step\n",
            "2/2 [==============================] - 0s 202ms/step\n",
            "2/2 [==============================] - 1s 325ms/step\n",
            "2/2 [==============================] - 1s 321ms/step\n",
            "2/2 [==============================] - 0s 200ms/step\n",
            "2/2 [==============================] - 0s 199ms/step\n",
            "2/2 [==============================] - 0s 211ms/step\n",
            "2/2 [==============================] - 0s 214ms/step\n",
            "2/2 [==============================] - 1s 331ms/step\n",
            "2/2 [==============================] - 0s 199ms/step\n",
            "2/2 [==============================] - 0s 204ms/step\n",
            "2/2 [==============================] - 0s 202ms/step\n",
            "Epoch 400, D Loss: 0.7231395244598389, G Loss: 0.7056399583816528\n",
            "2/2 [==============================] - 0s 206ms/step\n",
            "2/2 [==============================] - 0s 204ms/step\n",
            "2/2 [==============================] - 1s 310ms/step\n",
            "2/2 [==============================] - 1s 207ms/step\n",
            "2/2 [==============================] - 0s 209ms/step\n",
            "2/2 [==============================] - 0s 201ms/step\n",
            "2/2 [==============================] - 0s 205ms/step\n",
            "2/2 [==============================] - 0s 202ms/step\n",
            "2/2 [==============================] - 1s 327ms/step\n",
            "2/2 [==============================] - 0s 203ms/step\n",
            "2/2 [==============================] - 0s 207ms/step\n",
            "2/2 [==============================] - 0s 199ms/step\n",
            "2/2 [==============================] - 0s 200ms/step\n",
            "2/2 [==============================] - 0s 202ms/step\n",
            "2/2 [==============================] - 1s 324ms/step\n",
            "2/2 [==============================] - 0s 223ms/step\n",
            "2/2 [==============================] - 0s 199ms/step\n",
            "2/2 [==============================] - 0s 217ms/step\n",
            "2/2 [==============================] - 0s 202ms/step\n",
            "2/2 [==============================] - 0s 215ms/step\n",
            "Epoch 420, D Loss: 0.7310948073863983, G Loss: 0.7243156433105469\n",
            "2/2 [==============================] - 1s 338ms/step\n",
            "2/2 [==============================] - 0s 209ms/step\n",
            "2/2 [==============================] - 0s 204ms/step\n",
            "2/2 [==============================] - 0s 200ms/step\n",
            "2/2 [==============================] - 0s 200ms/step\n",
            "2/2 [==============================] - 1s 270ms/step\n",
            "2/2 [==============================] - 1s 292ms/step\n",
            "2/2 [==============================] - 0s 200ms/step\n",
            "2/2 [==============================] - 0s 205ms/step\n",
            "2/2 [==============================] - 0s 214ms/step\n",
            "2/2 [==============================] - 0s 227ms/step\n",
            "2/2 [==============================] - 1s 313ms/step\n",
            "2/2 [==============================] - 0s 208ms/step\n",
            "2/2 [==============================] - 0s 216ms/step\n",
            "2/2 [==============================] - 0s 221ms/step\n",
            "2/2 [==============================] - 0s 218ms/step\n",
            "2/2 [==============================] - 0s 208ms/step\n",
            "2/2 [==============================] - 1s 313ms/step\n",
            "2/2 [==============================] - 0s 204ms/step\n",
            "2/2 [==============================] - 0s 219ms/step\n",
            "Epoch 440, D Loss: 0.7341892123222351, G Loss: 0.6653800010681152\n",
            "2/2 [==============================] - 0s 201ms/step\n",
            "2/2 [==============================] - 0s 201ms/step\n",
            "2/2 [==============================] - 0s 214ms/step\n",
            "2/2 [==============================] - 1s 319ms/step\n",
            "2/2 [==============================] - 0s 204ms/step\n",
            "2/2 [==============================] - 0s 206ms/step\n",
            "2/2 [==============================] - 0s 204ms/step\n",
            "2/2 [==============================] - 0s 205ms/step\n",
            "2/2 [==============================] - 0s 209ms/step\n",
            "2/2 [==============================] - 1s 299ms/step\n",
            "2/2 [==============================] - 0s 221ms/step\n",
            "2/2 [==============================] - 0s 212ms/step\n",
            "2/2 [==============================] - 0s 207ms/step\n",
            "2/2 [==============================] - 0s 209ms/step\n",
            "2/2 [==============================] - 1s 342ms/step\n",
            "2/2 [==============================] - 1s 331ms/step\n",
            "2/2 [==============================] - 0s 201ms/step\n",
            "2/2 [==============================] - 0s 213ms/step\n",
            "2/2 [==============================] - 0s 214ms/step\n",
            "2/2 [==============================] - 0s 204ms/step\n",
            "Epoch 460, D Loss: 0.7448490262031555, G Loss: 0.7405776977539062\n",
            "2/2 [==============================] - 1s 321ms/step\n",
            "2/2 [==============================] - 1s 229ms/step\n",
            "2/2 [==============================] - 0s 213ms/step\n",
            "2/2 [==============================] - 0s 206ms/step\n",
            "2/2 [==============================] - 0s 228ms/step\n",
            "2/2 [==============================] - 0s 201ms/step\n",
            "2/2 [==============================] - 0s 261ms/step\n",
            "2/2 [==============================] - 1s 322ms/step\n",
            "2/2 [==============================] - 0s 208ms/step\n",
            "2/2 [==============================] - 0s 201ms/step\n",
            "2/2 [==============================] - 0s 204ms/step\n",
            "2/2 [==============================] - 0s 205ms/step\n",
            "2/2 [==============================] - 1s 321ms/step\n",
            "2/2 [==============================] - 0s 210ms/step\n",
            "2/2 [==============================] - 0s 218ms/step\n",
            "2/2 [==============================] - 0s 215ms/step\n",
            "2/2 [==============================] - 0s 205ms/step\n",
            "2/2 [==============================] - 0s 203ms/step\n",
            "2/2 [==============================] - 1s 336ms/step\n",
            "2/2 [==============================] - 0s 202ms/step\n",
            "Epoch 480, D Loss: 0.7049031853675842, G Loss: 0.7558209300041199\n",
            "2/2 [==============================] - 0s 205ms/step\n",
            "2/2 [==============================] - 0s 212ms/step\n",
            "2/2 [==============================] - 0s 222ms/step\n",
            "2/2 [==============================] - 0s 221ms/step\n",
            "2/2 [==============================] - 1s 337ms/step\n",
            "2/2 [==============================] - 0s 210ms/step\n",
            "2/2 [==============================] - 0s 213ms/step\n",
            "2/2 [==============================] - 0s 203ms/step\n",
            "2/2 [==============================] - 0s 205ms/step\n",
            "2/2 [==============================] - 1s 304ms/step\n",
            "2/2 [==============================] - 1s 330ms/step\n",
            "2/2 [==============================] - 0s 209ms/step\n",
            "2/2 [==============================] - 0s 207ms/step\n",
            "2/2 [==============================] - 0s 212ms/step\n",
            "2/2 [==============================] - 0s 203ms/step\n",
            "2/2 [==============================] - 1s 320ms/step\n",
            "2/2 [==============================] - 1s 326ms/step\n",
            "2/2 [==============================] - 0s 213ms/step\n",
            "2/2 [==============================] - 0s 216ms/step\n"
          ]
        }
      ],
      "source": [
        "# Set up training parameters\n",
        "epochs =500\n",
        "batch_size = 64\n",
        "\n",
        "# Initialize lists to store discriminator and generator losses during training\n",
        "d_losses = []\n",
        "g_losses = []\n",
        "\n",
        "import cv2\n",
        "import numpy as np\n",
        "\n",
        "# Training loop\n",
        "for epoch in range(epochs):\n",
        "    # Train the discriminator\n",
        "    noise = np.random.normal(0, 1, size=(batch_size, 100))\n",
        "    generated_images = generator.predict(noise)\n",
        "    real_images = images[np.random.randint(0, X_train.shape[0], batch_size)]\n",
        "    #real_images = images[np.random.randint(0, images.shape[0], batch_size)]\n",
        "    resized_real_images = []\n",
        "    for image in real_images:\n",
        "        if len(image.shape) < 3:  # Check if the image is grayscale\n",
        "            image = np.stack((image,) * 3, axis=-1)  # Convert grayscale to RGB by stacking channels\n",
        "\n",
        "        # Normalize pixel values to the range [0, 1]\n",
        "        image = image.astype(np.float32) / 255.0\n",
        "\n",
        "        # Resize real images to (64, 64)\n",
        "        resized_image = cv2.resize(image, (64, 64))\n",
        "        resized_real_images.append(resized_image)\n",
        "\n",
        "    real_images_resized = np.array(resized_real_images)\n",
        "\n",
        "    labels_real = np.ones((batch_size, 1))\n",
        "    labels_fake = np.zeros((batch_size, 1))\n",
        "\n",
        "    d_loss_real = discriminator.train_on_batch(real_images_resized, labels_real)\n",
        "    d_loss_fake = discriminator.train_on_batch(generated_images, labels_fake)\n",
        "    d_loss = 0.5 * np.add(d_loss_real, d_loss_fake)\n",
        "\n",
        "    # Train the generator\n",
        "    noise = np.random.normal(0, 1, size=(batch_size, 100))\n",
        "    labels_gan = np.ones((batch_size, 1))\n",
        "    g_loss = gan_model.train_on_batch(noise, labels_gan)\n",
        "\n",
        "    # Append discriminator and generator losses to the lists\n",
        "    d_losses.append(d_loss[0])  # assuming d_loss is a tuple (loss, accuracy)\n",
        "    g_losses.append(g_loss)\n",
        "\n",
        "    # Print progress\n",
        "    if epoch % 20 == 0:\n",
        "        print(f\"Epoch {epoch}, D Loss: {d_loss[0]}, G Loss: {g_loss}\")"
      ]
    },
    {
      "cell_type": "markdown",
      "metadata": {
        "id": "6alfZ_rOKMjE"
      },
      "source": [
        "# **Evaluate The Generator and Discriminator Loss**"
      ]
    },
    {
      "cell_type": "code",
      "execution_count": null,
      "metadata": {
        "colab": {
          "background_save": true
        },
        "id": "I924wZMWhKH5",
        "outputId": "4bf2063f-84b8-4e19-f67b-1261ffe80240"
      },
      "outputs": [
        {
          "data": {
            "image/png": "[encoded data removed]",
            "text/plain": [
              "<Figure size 1000x500 with 1 Axes>"
            ]
          },
          "metadata": {},
          "output_type": "display_data"
        }
      ],
      "source": [
        "# Plot the losses\n",
        "plt.figure(figsize=(10, 5))\n",
        "plt.plot(d_losses, label='Discriminator Loss')\n",
        "plt.plot(g_losses, label='Generator Loss')\n",
        "plt.xlabel('Epochs')\n",
        "plt.ylabel('Loss')\n",
        "plt.legend()\n",
        "plt.title('Discriminator and Generator Losses Over Training')\n",
        "plt.show()"
      ]
    },
    {
      "cell_type": "markdown",
      "metadata": {
        "id": "eRWQl6xCKbep"
      },
      "source": [
        "# **Generate Image from New Text**"
      ]
    },
    {
      "cell_type": "code",
      "execution_count": null,
      "metadata": {
        "colab": {
          "background_save": true
        },
        "id": "LwxPsDR9Y84u"
      },
      "outputs": [],
      "source": [
        "# Example: Convert Amharic text to embeddings\n",
        "amharic_text = [\"መካከለኛ መጠን ያለው ጥቁር ግራጫ ቀለም ወፍ\"]\n",
        "amharic_sequences = tokenizer.texts_to_sequences(amharic_text)\n",
        "\n",
        "# Define max_caption_length or replace it with a specific value\n",
        "max_caption_length = 20  # Example value, adjust according to your needs\n",
        "# Pad sequences\n",
        "amharic_padded = pad_sequences(amharic_sequences, padding='post', maxlen=max_caption_length)\n",
        "\n",
        "# Ensure the shape is compatible with the generator input\n",
        "amharic_embeddings = np.random.normal(0, 1, size=(len(amharic_text), 100))  # Adjust the size to match the generator input\n"
      ]
    },
    {
      "cell_type": "code",
      "execution_count": null,
      "metadata": {
        "colab": {
          "background_save": true
        },
        "id": "ogArOnZoaeK2",
        "outputId": "56195396-b3b8-418b-d32b-d0a6a2a22fcd"
      },
      "outputs": [
        {
          "name": "stdout",
          "output_type": "stream",
          "text": [
            "1/1 [==============================] - 0s 136ms/step\n"
          ]
        },
        {
          "data": {
            "image/png": "[encoded data removed]",
            "text/plain": [
              "<Figure size 640x480 with 1 Axes>"
            ]
          },
          "metadata": {},
          "output_type": "display_data"
        }
      ],
      "source": [
        "# Generate images from Amharic text embeddings\n",
        "generated_images = generator.predict(amharic_embeddings)\n",
        "\n",
        "# Display the generated images\n",
        "import matplotlib.pyplot as plt\n",
        "\n",
        "# Assuming you want to display the first generated image\n",
        "generated_image = generated_images[0]  # Assuming there's only one generated image\n",
        "\n",
        "# Rescale the image from (-1, 1) to (0, 1) for display\n",
        "generated_image = (generated_image + 1) / 2.0\n",
        "\n",
        "# Show the image\n",
        "plt.imshow(generated_image)\n",
        "plt.axis('off')\n",
        "plt.show()\n"
      ]
    },
    {
      "cell_type": "code",
      "execution_count": null,
      "metadata": {
        "colab": {
          "background_save": true
        },
        "id": "D2k9q4Alagf7",
        "outputId": "669c29d3-45d9-48c1-96c4-1c62a7b627f2"
      },
      "outputs": [
        {
          "data": {
            "image/png": "[encoded data removed]",
            "text/plain": [
              "<Figure size 500x500 with 1 Axes>"
            ]
          },
          "metadata": {},
          "output_type": "display_data"
        }
      ],
      "source": [
        "import matplotlib.pyplot as plt\n",
        "\n",
        "def plot_generated_images(images):\n",
        "    fig, axs = plt.subplots(1, len(images), figsize=(5, 5))\n",
        "    axs = np.ravel(axs)\n",
        "    for i, img in enumerate(images):\n",
        "        axs[i].imshow(img)\n",
        "        axs[i].axis('off')\n",
        "    plt.show()\n",
        "\n",
        "# Rescale images to 0-1 range for visualization\n",
        "generated_images_rescaled = 0.5 * generated_images + 0.5\n",
        "\n",
        "plot_generated_images(generated_images_rescaled)\n"
      ]
    },
    {
      "cell_type": "markdown",
      "metadata": {
        "id": "tP0QntS8KpQN"
      },
      "source": [
        "# **The End**"
      ]
    },
    {
      "cell_type": "code",
      "execution_count": null,
      "metadata": {
        "colab": {
          "background_save": true
        },
        "id": "S51vbvBvdFT3",
        "outputId": "4ed1e7d9-fd1a-43d0-b747-d69c08ba12ce"
      },
      "outputs": [
        {
          "name": "stdout",
          "output_type": "stream",
          "text": [
            "Evaluation Metrics:\n",
            "SSIM: -3.543477214407176e-05\n",
            "PSNR: 2.1512098897818346\n",
            "MSE: 39624.09643056873\n"
          ]
        }
      ],
      "source": [
        "import numpy as np\n",
        "from skimage.metrics import structural_similarity as ssim\n",
        "from skimage.metrics import peak_signal_noise_ratio as psnr\n",
        "from skimage.metrics import mean_squared_error as mse\n",
        "\n",
        "# Assuming you have the 'images' and 'generated_images' variables containing the respective image data\n",
        "\n",
        "# Evaluate the model using evaluation metrics\n",
        "evaluation_metrics = {}\n",
        "\n",
        "# Calculate SSIM\n",
        "ssim_scores = []\n",
        "for i in range(len(amharic_text)):\n",
        "    ssim_score = ssim(images[i], generated_images[i], channel_axis=2)\n",
        "    ssim_scores.append(ssim_score)\n",
        "evaluation_metrics['SSIM'] = np.mean(ssim_scores)\n",
        "\n",
        "# Calculate PSNR\n",
        "psnr_scores = []\n",
        "for i in range(len(amharic_text)):\n",
        "    psnr_score = psnr(images[i], generated_images[i], data_range=255)\n",
        "    psnr_scores.append(psnr_score)\n",
        "evaluation_metrics['PSNR'] = np.mean(psnr_scores)\n",
        "\n",
        "# Calculate MSE\n",
        "mse_scores = []\n",
        "for i in range(len(amharic_text)):\n",
        "    mse_score = mse(images[i], generated_images[i])\n",
        "    mse_scores.append(mse_score)\n",
        "evaluation_metrics['MSE'] = np.mean(mse_scores)\n",
        "\n",
        "# Print evaluation metrics\n",
        "print(\"Evaluation Metrics:\")\n",
        "for metric, value in evaluation_metrics.items():\n",
        "    print(f\"{metric}: {value}\")"
      ]
    },
    {
      "cell_type": "code",
      "execution_count": null,
      "metadata": {
        "colab": {
          "background_save": true
        },
        "id": "zRvwpxGfvenL",
        "outputId": "f7acc839-e01e-410a-f0c4-8c0558ee1772"
      },
      "outputs": [
        {
          "name": "stdout",
          "output_type": "stream",
          "text": [
            "Inception Score: 1.0337193702443532\n"
          ]
        }
      ],
      "source": [
        "import numpy as np\n",
        "\n",
        "def calculate_inception_score(scores, n_split=10):\n",
        "    # Split scores into batches\n",
        "    n_scores = len(scores)\n",
        "    batch_size = n_scores // n_split\n",
        "\n",
        "    # Split scores into batches\n",
        "    score_batches = np.array_split(scores, n_split)\n",
        "\n",
        "    # Calculate softmax probabilities for each batch\n",
        "    softmaxes = [np.exp(batch - np.max(batch, axis=1, keepdims=True)) / np.sum(np.exp(batch - np.max(batch, axis=1, keepdims=True)), axis=1, keepdims=True)\n",
        "                 for batch in score_batches]\n",
        "\n",
        "    # Calculate marginal distribution (average softmax probabilities across batches)\n",
        "    p_marginal = np.mean(softmaxes, axis=0)\n",
        "\n",
        "    # Calculate KL divergence for each batch and average them\n",
        "    kl_divs = [np.sum(batch * (np.log(batch) - np.log(p_marginal)), axis=1)\n",
        "               for batch in softmaxes]\n",
        "    kl_divs = np.concatenate(kl_divs)\n",
        "    mean_kl_div = np.mean(kl_divs)\n",
        "\n",
        "    # Calculate Inception Score\n",
        "    inception_score = np.exp(mean_kl_div)\n",
        "\n",
        "    return inception_score\n",
        "\n",
        "# Example usage\n",
        "generated_scores = np.random.rand(1000, 10)  # Replace with your actual generated scores\n",
        "inception_score = calculate_inception_score(generated_scores)\n",
        "print(\"Inception Score:\", inception_score)"
      ]
    },
    {
      "cell_type": "code",
      "execution_count": null,
      "metadata": {
        "colab": {
          "background_save": true
        },
        "id": "pwlA9r_duUox",
        "outputId": "9e437f1c-b8ad-4b61-842f-7765927e8665"
      },
      "outputs": [
        {
          "name": "stdout",
          "output_type": "stream",
          "text": [
            "FID: 1.9324889771013579e+71\n"
          ]
        }
      ],
      "source": [
        "import numpy as np\n",
        "from scipy import linalg\n",
        "from tensorflow.keras.applications.inception_v3 import InceptionV3\n",
        "from tensorflow.keras.applications.inception_v3 import preprocess_input\n",
        "\n",
        "def calculate_fid(real_features, generated_features):\n",
        "    mu_real, sigma_real = real_features.mean(axis=0), np.cov(real_features, rowvar=False)\n",
        "    mu_generated, sigma_generated = generated_features.mean(axis=0), np.cov(generated_features, rowvar=False)\n",
        "\n",
        "    # Handle NaN values\n",
        "    sigma_real = np.where(np.isnan(sigma_real), 0, sigma_real)\n",
        "    sigma_generated = np.where(np.isnan(sigma_generated), 0, sigma_generated)\n",
        "\n",
        "    # Calculate the Fréchet Distance\n",
        "    eps = 1e-6\n",
        "    sqrt_cov_product = linalg.sqrtm(sigma_real.dot(sigma_generated), disp=False)[0]\n",
        "    fid = np.sum((mu_real - mu_generated)**2) + np.trace(sigma_real + sigma_generated - 2 * sqrt_cov_product)\n",
        "    fid += eps * np.eye(sigma_real.shape[0]).sum()\n",
        "    fid = np.real(fid)\n",
        "\n",
        "    return fid\n",
        "\n",
        "\n",
        "# Example usage\n",
        "real_features = np.random.rand(1000, 2048)  # Replace with your actual real features\n",
        "generated_features = np.random.rand(1000, 2048)  # Replace with your actual generated features\n",
        "\n",
        "fid = calculate_fid(real_features, generated_features)\n",
        "print(\"FID:\", fid)"
      ]
    },
    {
      "cell_type": "markdown",
      "source": [
        "# **StackGAN**"
      ],
      "metadata": {
        "id": "Ufk3slDehfA3"
      }
    },
    {
      "cell_type": "code",
      "source": [
        "from amseg.amharicSegmenter import AmharicSegmenter\n",
        "sent_punct = []\n",
        "word_punct = []\n",
        "segmenter = AmharicSegmenter(sent_punct,word_punct)\n",
        "words = segmenter.amharic_tokenizer(\"እአበበ በሶ በላ።\")\n",
        "sentences = segmenter.tokenize_sentence(\"እአበበ በሶ በላ። ከበደ ጆንያ፤ ተሸከመ፡!ለምን?\")\n",
        "\n",
        "\n",
        "from amseg.amharicNormalizer import AmharicNormalizer as normalizer\n",
        "from amseg.amharicRomanizer import AmharicRomanizer as romanizer\n",
        "normalized = normalizer.normalize('ሑለት ሦስት')\n",
        "romanized = romanizer.romanize('ሑለት ሦስት')"
      ],
      "metadata": {
        "colab": {
          "base_uri": "https://localhost:8080/"
        },
        "id": "Vsmn4FAZl7Ty",
        "outputId": "371ca741-94b2-4781-d945-0b435c9ac7e5"
      },
      "execution_count": 29,
      "outputs": [
        {
          "output_type": "execute_result",
          "data": {
            "text/plain": [
              "['እአበበ', 'በሶ', 'በላ', '።']"
            ]
          },
          "metadata": {},
          "execution_count": 29
        }
      ]
    },
    {
      "cell_type": "code",
      "source": [
        "import os\n",
        "import numpy as np\n",
        "from PIL import Image\n",
        "from keras.preprocessing.image import load_img, img_to_array\n",
        "from keras.applications.vgg16 import VGG16, preprocess_input\n",
        "from tensorflow.keras.layers import Embedding\n",
        "from amseg.amharicSegmenter import AmharicSegmenter\n",
        "from amseg.amharicNormalizer import AmharicNormalizer as normalizer\n",
        "from amseg.amharicRomanizer import AmharicRomanizer as romanizer\n",
        "\n",
        "# Define the paths\n",
        "image_dir = \"/content/drive/MyDrive/Masters Thesis/TestData/image\"\n",
        "caption_dir = \"/content/drive/MyDrive/Masters Thesis/TestData/Captions\"\n",
        "\n",
        "# Define image dimensions\n",
        "img_width, img_height, channels = 32, 32, 3\n",
        "\n",
        "# Create lists to store images and corresponding captions\n",
        "images = []\n",
        "all_captions = []\n",
        "\n",
        "# Initialize Amharic Segmenter\n",
        "sent_punct = []\n",
        "word_punct = []\n",
        "segmenter = AmharicSegmenter(sent_punct, word_punct)\n",
        "\n",
        "# Iterate over each image folder\n",
        "for class_folder in os.listdir(image_dir):\n",
        "    class_image_dir = os.path.join(image_dir, class_folder)\n",
        "    class_caption_dir = os.path.join(caption_dir, class_folder)\n",
        "\n",
        "    # Iterate through each image file in the class folder\n",
        "    for image_filename in os.listdir(class_image_dir):\n",
        "        # Check if the file is an image\n",
        "        if image_filename.endswith(('.jpg', '.jpeg', '.png')):\n",
        "            # Load image\n",
        "            image_path = os.path.join(class_image_dir, image_filename)\n",
        "            image = load_img(image_path, target_size=(img_width, img_height))\n",
        "            image = img_to_array(image)\n",
        "            images.append(image)\n",
        "\n",
        "            # Extract image name without extension\n",
        "            image_name = os.path.splitext(image_filename)[0]\n",
        "\n",
        "            # Find corresponding caption file\n",
        "            caption_filename = image_name + \".txt\"\n",
        "            caption_path = os.path.join(class_caption_dir, caption_filename)\n",
        "            # Read captions if caption file exists\n",
        "            if os.path.exists(caption_path):\n",
        "                with open(caption_path, \"r\", encoding=\"utf-8\") as file:\n",
        "                    captions = file.read().strip().split('\\n')\n",
        "                    # Tokenize and normalize Amharic captions\n",
        "                    captions = [[normalizer.normalize(caption)] for caption in captions]\n",
        "                    all_captions.append(captions)\n",
        "            else:\n",
        "                print(\"No caption file found for\", image_filename)\n",
        "                images.pop()  # Remove the image if no caption file is found\n",
        "\n",
        "# Convert the lists to NumPy arrays\n",
        "images = np.array(images)\n",
        "\n",
        "# Tokenize Amharic Captions\n",
        "tokenized_captions = [[segmenter.tokenize_sentence(caption[0]) for caption in captions] for captions in all_captions]\n",
        "\n",
        "# Extract maximum caption length\n",
        "max_caption_length = max([len(sentence) for captions in tokenized_captions for sentence in captions])\n",
        "\n",
        "# Create the Embedding layer\n",
        "embedding_dim = 100\n",
        "vocab_size = len(set([token for captions in tokenized_captions for sentence in captions for token in sentence]))\n",
        "embedding_layer = Embedding(input_dim=vocab_size, output_dim=embedding_dim, input_length=max_caption_length)\n",
        "\n",
        "# Example of Romanization\n",
        "normalized = normalizer.normalize('ሑለት ሦስት')\n",
        "romanized = romanizer.romanize('ሑለት ሦስት')\n"
      ],
      "metadata": {
        "colab": {
          "base_uri": "https://localhost:8080/"
        },
        "id": "a9qUkI3TnOIh",
        "outputId": "69f77039-bf6b-4896-862d-0688102cc260"
      },
      "execution_count": 36,
      "outputs": [
        {
          "output_type": "stream",
          "name": "stdout",
          "text": [
            "No caption file found for Horned_Grebe_0101_35203 (1).jpg\n",
            "No caption file found for Horned_Grebe_0102_34448 (1).jpg\n",
            "No caption file found for Horned_Grebe_0112_34864 (1).jpg\n",
            "No caption file found for Horned_Grebe_0103_34822 (1).jpg\n",
            "No caption file found for Horned_Grebe_0099_34989 (1).jpg\n",
            "No caption file found for Horned_Grebe_0114_34517 (1).jpg\n",
            "No caption file found for Horned_Grebe_0100_34462 (1).jpg\n",
            "No caption file found for Horned_Grebe_0106_35112 (1).jpg\n",
            "No caption file found for Horned_Grebe_0110_35012 (1).jpg\n",
            "No caption file found for Blue_Grosbeak_0067_36965 (1).jpg\n",
            "No caption file found for Blue_Grosbeak_0073_37148 (1).jpg\n",
            "No caption file found for Blue_Grosbeak_0072_36774 (1).jpg\n",
            "No caption file found for Blue_Grosbeak_0066_36632 (1).jpg\n",
            "No caption file found for Blue_Grosbeak_0065_36847 (1).jpg\n",
            "No caption file found for Blue_Grosbeak_0074_37155 (1).jpg\n",
            "No caption file found for Blue_Grosbeak_0071_36948 (1).jpg\n",
            "No caption file found for Blue_Grosbeak_0075_36963 (1).jpg\n",
            "No caption file found for Pigeon_Guillemot_0098_39902.jpg\n"
          ]
        }
      ]
    },
    {
      "cell_type": "code",
      "execution_count": 43,
      "metadata": {
        "id": "XOANfeurzy_Q"
      },
      "outputs": [],
      "source": [
        "import os\n",
        "import numpy as np\n",
        "from keras.preprocessing.image import load_img, img_to_array\n",
        "from keras.applications.vgg16 import VGG16, preprocess_input\n",
        "from keras.models import Model\n",
        "from keras.layers import Input, Dense, LSTM, Embedding, Dropout, BatchNormalization, Reshape, concatenate\n",
        "from keras.preprocessing.text import Tokenizer\n",
        "from keras.preprocessing.sequence import pad_sequences\n",
        "from transformers import AutoTokenizer\n",
        "from keras.optimizers import Adam\n",
        "from keras.layers import LeakyReLU\n",
        "from tensorflow.keras.layers import Conv2DTranspose, Conv2D\n",
        "\n",
        "# Define Stage-I Generator\n",
        "def build_stage_one_generator():\n",
        "    input_text = Input(shape=(max_caption_length,))\n",
        "    text_embedding = embedding_layer(input_text)\n",
        "    lstm_out = LSTM(256)(text_embedding)\n",
        "\n",
        "    # Define image generation network\n",
        "    img_input = Input(shape=(100,))\n",
        "    merged = concatenate([lstm_out, img_input])\n",
        "    generator = Dense(128 * 8 * 8, activation=\"relu\")(merged)\n",
        "    generator = Reshape((8, 8, 128))(generator)\n",
        "    generator = Conv2DTranspose(128, kernel_size=4, strides=2, padding=\"same\")(generator)\n",
        "    generator = Conv2DTranspose(64, kernel_size=4, strides=2, padding=\"same\")(generator)\n",
        "    generator = Conv2DTranspose(3, kernel_size=4, strides=2, padding=\"same\")(generator)\n",
        "\n",
        "    return Model(inputs=[input_text, img_input], outputs=generator)\n",
        "\n",
        "from keras.layers import Input, Conv2D, LeakyReLU, Flatten, Dense\n",
        "\n",
        "def build_stage_one_discriminator():\n",
        "    input_image = Input(shape=(64, 64, 3))  # Increase the input size to prevent downsampling issues\n",
        "    discriminator = Conv2D(64, kernel_size=4, strides=2, padding=\"same\")(input_image)\n",
        "    discriminator = LeakyReLU(alpha=0.2)(discriminator)\n",
        "    discriminator = Conv2D(128, kernel_size=4, strides=2, padding=\"same\")(discriminator)\n",
        "    discriminator = LeakyReLU(alpha=0.2)(discriminator)\n",
        "    discriminator = Conv2D(256, kernel_size=4, strides=2, padding=\"same\")(discriminator)\n",
        "    discriminator = LeakyReLU(alpha=0.2)(discriminator)\n",
        "    discriminator = Conv2D(512, kernel_size=4, strides=2, padding=\"same\")(discriminator)\n",
        "    discriminator = LeakyReLU(alpha=0.2)(discriminator)\n",
        "    discriminator = Flatten()(discriminator)\n",
        "    discriminator = Dense(1, activation='sigmoid')(discriminator)  # Output a single value (real/fake)\n",
        "\n",
        "    return Model(inputs=input_image, outputs=discriminator)\n",
        "# Compile Stage-I Discriminator\n",
        "stage_one_discriminator = build_stage_one_discriminator()\n",
        "stage_one_discriminator.compile(loss=\"binary_crossentropy\", optimizer=Adam(0.0002, 0.5), metrics=[\"accuracy\"])\n",
        "\n",
        "# Define Stage-I GAN\n",
        "stage_one_generator = build_stage_one_generator()\n",
        "stage_one_generator.compile(loss=\"binary_crossentropy\", optimizer=Adam(0.0002, 0.5))\n",
        "# Define the input layer for text sequence\n",
        "input_text = Input(shape=(max_caption_length,))\n",
        "\n",
        "\n",
        "def build_stage_two_generator(stage_one_generator, input_text):\n",
        "    noise_input = Input(shape=(100,))\n",
        "    stage_one_output = stage_one_generator([input_text, noise_input])\n",
        "    # Add refinement layers for Stage-II GAN\n",
        "    return Model(inputs=[input_text, noise_input], outputs=stage_one_output)\n",
        "\n",
        "\n",
        "# Compile Stage-II GAN\n",
        "stage_two_generator = build_stage_two_generator(stage_one_generator, input_text)\n",
        "stage_two_generator.compile(loss=\"binary_crossentropy\", optimizer=Adam(0.0002, 0.5))\n",
        "\n",
        "def build_stage_two_discriminator():\n",
        "    input_image = Input(shape=(64, 64, 3))  # Increase input size to prevent downsampling issues\n",
        "    discriminator = Conv2D(64, kernel_size=4, strides=2, padding=\"same\")(input_image)\n",
        "    discriminator = LeakyReLU(alpha=0.2)(discriminator)\n",
        "    discriminator = Conv2D(128, kernel_size=4, strides=2, padding=\"same\")(discriminator)\n",
        "    discriminator = LeakyReLU(alpha=0.2)(discriminator)\n",
        "    discriminator = Conv2D(256, kernel_size=4, strides=2, padding=\"same\")(discriminator)\n",
        "    discriminator = LeakyReLU(alpha=0.2)(discriminator)\n",
        "    discriminator = Conv2D(512, kernel_size=4, strides=1, padding=\"same\")(discriminator)  # Reduced downsampling\n",
        "    discriminator = LeakyReLU(alpha=0.2)(discriminator)\n",
        "    discriminator = Flatten()(discriminator)\n",
        "    discriminator = Dense(1, activation='sigmoid')(discriminator)  # Output a single value (real/fake)\n",
        "\n",
        "    return Model(inputs=input_image, outputs=discriminator)\n",
        "\n",
        "\n",
        "    return Model(inputs=input_image, outputs=discriminator)\n",
        "\n",
        "# Compile Stage-II Discriminator\n",
        "stage_two_discriminator = build_stage_two_discriminator()\n",
        "stage_two_discriminator.compile(loss=\"binary_crossentropy\", optimizer=Adam(0.0002, 0.5), metrics=[\"accuracy\"])\n"
      ]
    },
    {
      "cell_type": "code",
      "source": [],
      "metadata": {
        "id": "27zZB-kju3l3"
      },
      "execution_count": null,
      "outputs": []
    }
  ],
  "metadata": {
    "colab": {
      "toc_visible": true,
      "provenance": [],
      "include_colab_link": true
    },
    "kernelspec": {
      "display_name": "Python 3",
      "name": "python3"
    },
    "language_info": {
      "name": "python"
    }
  },
  "nbformat": 4,
  "nbformat_minor": 0
}